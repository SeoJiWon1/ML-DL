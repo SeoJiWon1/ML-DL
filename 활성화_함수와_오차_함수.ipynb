{
  "nbformat": 4,
  "nbformat_minor": 0,
  "metadata": {
    "colab": {
      "provenance": [],
      "authorship_tag": "ABX9TyPpGVnIUNldMlK8YNNzaX/7",
      "include_colab_link": true
    },
    "kernelspec": {
      "name": "python3",
      "display_name": "Python 3"
    },
    "language_info": {
      "name": "python"
    }
  },
  "cells": [
    {
      "cell_type": "markdown",
      "metadata": {
        "id": "view-in-github",
        "colab_type": "text"
      },
      "source": [
        "<a href=\"https://colab.research.google.com/github/SeoJiWon1/ML-DL/blob/main/%ED%99%9C%EC%84%B1%ED%99%94_%ED%95%A8%EC%88%98%EC%99%80_%EC%98%A4%EC%B0%A8_%ED%95%A8%EC%88%98.ipynb\" target=\"_parent\"><img src=\"https://colab.research.google.com/assets/colab-badge.svg\" alt=\"Open In Colab\"/></a>"
      ]
    },
    {
      "cell_type": "markdown",
      "source": [
        "# 출력층의 활성화 함수와 오차 함수의 관계"
      ],
      "metadata": {
        "id": "wLBIX_7-7T7T"
      }
    },
    {
      "cell_type": "markdown",
      "source": [
        "* 은닉층의 활성화 함수로는 ReLU 또는 Leaky ReLU와 같은 ReLU의 변형을 사용\n",
        "* 각 문제에 따른 출력층의 활성화 함수와 비용 함수의 관계를 정리"
      ],
      "metadata": {
        "id": "Sez85eO_7XFB"
      }
    },
    {
      "cell_type": "markdown",
      "source": [
        "![image.png](data:image/png;base64,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)"
      ],
      "metadata": {
        "id": "KSGixL2-7kG1"
      }
    },
    {
      "cell_type": "code",
      "execution_count": null,
      "metadata": {
        "id": "9oEnOF-P7N6-"
      },
      "outputs": [],
      "source": []
    }
  ]
}