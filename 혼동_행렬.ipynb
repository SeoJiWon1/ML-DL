{
  "nbformat": 4,
  "nbformat_minor": 0,
  "metadata": {
    "colab": {
      "provenance": [],
      "authorship_tag": "ABX9TyM0Q7gHBBZPNy/4xsmDYj2G",
      "include_colab_link": true
    },
    "kernelspec": {
      "name": "python3",
      "display_name": "Python 3"
    },
    "language_info": {
      "name": "python"
    }
  },
  "cells": [
    {
      "cell_type": "markdown",
      "metadata": {
        "id": "view-in-github",
        "colab_type": "text"
      },
      "source": [
        "<a href=\"https://colab.research.google.com/github/SeoJiWon1/ML-DL/blob/main/%ED%98%BC%EB%8F%99_%ED%96%89%EB%A0%AC.ipynb\" target=\"_parent\"><img src=\"https://colab.research.google.com/assets/colab-badge.svg\" alt=\"Open In Colab\"/></a>"
      ]
    },
    {
      "cell_type": "markdown",
      "source": [
        "# 혼동 행렬(Confusion Matrix)"
      ],
      "metadata": {
        "id": "ksOB-CFgq4Pm"
      }
    },
    {
      "cell_type": "markdown",
      "source": [
        "머신 러닝에서는 맞춘 문제수를 전체 문제수로 나눈 값을 정확도(Accuracy) \n",
        "\n",
        "하지만 정확도는 맞춘 결과와 틀린 결과에 대한 세부적인 내용을 알려주지는 않음\n",
        "\n",
        "이를 위해서 사용하는 것이 혼동 행렬(Confusion Matrix)"
      ],
      "metadata": {
        "id": "1qCfOYb1q7aW"
      }
    },
    {
      "cell_type": "markdown",
      "source": [
        "![image.png](data:image/png;base64,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)"
      ],
      "metadata": {
        "id": "sPZiu4V1rHuO"
      }
    },
    {
      "cell_type": "markdown",
      "source": [
        "이를 각각 TP(True Positive), TN(True Negative), FP(False Postivie), FN(False Negative)라고 하는데 \n",
        "\n",
        "True는 정답을 맞춘 경우고 False는 정답을 맞추지 못한 경우\n",
        "\n",
        "Positive와 Negative는 각각 제시했던 정답\n",
        "\n",
        "즉, TP는 양성(Postive)이라고 대답하였고 실제로 양성이라서 정답을 맞춘 경우\n",
        "\n",
        "TN은 음성(Negative)이라고 대답하였는데 실제로 음성이라서 정답을 맞춘 경우\n",
        "\n",
        "그럼 FP는 양성이라고 대답하였는데, 음성이라서 정답을 틀린 경우이며 FN은 음성이라고 대답하였는데 양성이라서 정답을 틀린 경우\n",
        "\n",
        "이 개념을 사용하면 또 새로운 개념인 정밀도(Precision)과 재현률(Recall)"
      ],
      "metadata": {
        "id": "36QYLKvLrKQt"
      }
    },
    {
      "cell_type": "markdown",
      "source": [
        "![image.png](data:image/png;base64,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)"
      ],
      "metadata": {
        "id": "gms5qXp1rkIi"
      }
    },
    {
      "cell_type": "markdown",
      "source": [
        "![image.png](data:image/png;base64,iVBORw0KGgoAAAANSUhEUgAAAMAAAABKCAYAAADt91u5AAAAAXNSR0IArs4c6QAAAARnQU1BAACxjwv8YQUAAAAJcEhZcwAADsMAAA7DAcdvqGQAAAk/SURBVHhe7Z1XaFRBFIaPBXvHLhoVe4+iRkWjKEkUFWwg+qAPgdgQFMGIAdGANQqCDUV8UFAfFIVgeRBUYolgiWLHDpYosWus4/wnd+LdzbbE3bi7cz647N25M3tnzflnzszec6yiNCQIllLVeRUEKxEBCFYjAhCsRgQgWI0IQLAaEYBgNSIAwWpEAILViAAEqxEBCFYjAhCsRgQgWI0IQLAaEYBgNSIAwWpEAILViAAEq5GIsBgEf7KdO3fS4cOHnRL/NGrUiNasWUMdO3akb9++8fnJkyfp4sWLlJCQQJ07d6aqVavS69ev6efPn7Rs2TKaPHky1axZ0/mEOAcCEGKLoqIiNXXqVKVFoN69e8dlR48exUCmNm7cqH7//q1+/fqlcnNzVWpqqiosLOQ6hjNnznDdlStXcj2ANseOHVP169dXq1evVloMXB7viAsUgzx8+JCaN29OM2bMoIYNG/KMcOXKFb6WmJhIVapU4VG9U6dO1LNnT6pbty5fM9y+fZtfe/XqxfUA2mCWwKEFQlpYXB7viABikLNnz9Lo0aNLDfvDhw908+ZNGjx4MLVv357LwKdPn6hx48ZUu3Ztp4To+/fvdPfuXerduzd16dLFKS3hzZs3LK6mTZtS9erVndL4RgQQY2iXhY0fh+HFixds1BjtYbwGnGOWwOhueP/+Pd24cYNnhzZt2jilJeuK/Px8Ph83bhw1aNCAz+MdEUCMUa1aNerTpw+7PoZ79+6xUUMA9erVc0qJF7lwadw8ffqUZwssfrW/z2Xa/6dTp07Rjh07KCsri6ZMmeIhmnhGBBDjYOS+fv06nxv/PxAwfswY165dowULFtCcOXNo1qxZdOHCBd5VWrJkiT07QBrZBo1x4NKkp6fTs2fPaP/+/dShQwfnSlng/2dmZtKBAwfoyJEjNGjQIOeKvcgMEOO8fPmS7t+/zz59kyZNnFLfYLGMHSC4UO7Fss2IAGIcLH4LCgqof//+QReuT5484bpdu3b1WEPYjAgghnH7/927dw/q/9+5c4f9f6wVatSo4ZRaDtYAlQVuV5FbmnaV3N2oJS8vT6WkpKjhw4fzL7f4d9GjOpft2bPHqfUX7e+rMWPGqISEhNK6GRkZpb8i20zEF8FmVDK38X7vxnsEc9cJ1A4EG/0i/DWFGKVSdoFgnOY27vPyUNntBDsImwB8jcDmowMJwFc7N/7aeePvcwK1EYSwLYJhaOYw70PB3cYXMOxgIhGEihIRF8g9Wvs7d+NdHuy9IISLsAsgkPH6M+RgBu+rHcrKi/dn4Eck/CqKQJFQSEtLo759+zrvhHgg7GuAYIbq63ahGHOgbnoLxPu9IPgjLAJwG1wo5+UhWDtc90dF7vcvBOqLUJbK/vv44p8FEMhA3deCGbI/ItlOXCChwgKAgYFAzY0RhmKMvj4vWDvTxh/B7ikIYV8EG9zGG6oAvOuEIoAIdV+whKgWQDCiVQBv376l5cuX04MHD5wS/+CZfNStVasWPX78mNOSXL16lZ/yxENrzZo144gtPPKMJz4RsRVK4EtFQXzB0qVL6dKlS9wPd+oU0w88VQp3cO/evRx2ib6i37du3eLz+fPnU05ODn8nsHXrVtqwYQO3w+ch7Up2dnaZYP3/gjagiBLqLVDP3+EPX3Xdx/8iPz9fJScnq3Pnzim9vuBj0aJFqlWrVnwNfPnyRWVmZqoVK1ZwShIDzlGGh9xOnz7tlCpVXFystJHxZyCtSaTRayP+N9y2bZtH/0w/0tPT1efPn51SxWlUUI42WjCqoKDAuVKCFpOaPn260usupyQ6iPjj0PoezllgUM/f4Q9fdd3H/0IbPkdpDRkyhB87NoHoPXr04BEQIFMD0pIgZtc9miOTAzIzoG67du2cUuIwRcT84nFmpC0JhfXr13NfygsC7xE3ALp16+bRP/QjKSmJ6tSpw/HJBgTboG+LFy/mWeLEiRMefwPEIuORbcxo0YTEA4QZGDueux82bFip4ZhAdBgwMrUZCgsLy0RmFRUVsevkneEBxvTo0SM+R3koAsfuFoy5vECEMGLseLVu3dop/Qu+A9KtuGMKEJIJlwbxxUjPcvz4cRYEQF8RtzBw4MDSPETRggggzOAPPG/ePGrbtq1T8jcQ3R2IYtKbeG+rwk8+f/58mQwPSFSF5FcwrpEjR3qMyuEGfYUvj9kJCbgADBgzyo8fP9jYvYWLUEvUx8yVkpJC2n2jvLw8vgZBYcs5GsMwRQBhBqlGYNQmsRQC0ZGBQfvubBzGcH2lNwGXL1/mV3eE19evX2n79u28yFy7di27JZHEpFnp168f9w/3RxA9ZgN8r5kzZ9Ls2bNL+2dcJvQZ18ePH8/fNzc3lz5+/EjPnz8nveahli1bcv1oQgQQYUwgutv/9weMBEaO4HbssCBlSUZGBs2dO5datGjBGeEiPfrDXTFpFuHGjB07lt25ffv28azk694Y4eHOmRxEqJeamspJeDH7wQXE6B+NccgR2wYVSsCIPmHCBJo2bRq7EIFy7sD9QSY3GPvu3bvZzw6F4uJiOnjwILsZbiAYuGLeqVKMG+ULk2YFawCkWcGojjXNunXraNOmTT77hOubN2/m2ckYOXIMIcEWtkex4IcosP0ZdUAAQuTQIycGmDLbib5ArC+2P91Zm/+FVatWlXvLVBuz0i6c0m5OacywdomUNmi/fUJm6uzsbI/vp90ejkPWawg1dOhQpV0q50p0IS5QBIH/jxkA/vCAAQOCui748Qk+sztrc2Vj0qxgnWHSrOCHsEmTJvnsk7YhXiB7fz/4+3Cf4BphRnPnIY0mRAARxPj/SFrlazvRDRaaMD5fWZsrC2PMIBTBglevXrGf723gaIt1AFwodx7SqIPnASFswE3IycnhFCWJiYns/uBISkpSEydOLOMKaMNXWVlZHilOUBcu079SHhdo165datSoUUovwLkP6HtaWprSC2Knhid64cu/bptUK3jdsmWLc7UE/Gq8cOFCdejQIack+pBFcByD522Sk5NpxIgRTongjQggjsH2JH5vcP8HGYInIgDBamQRLFiNCECwGhGAYDUiAMFqRACC1YgABKsRAQhWIwIQrEYEIFiNCECwGhGAYDUiAMFqRACC1YgABKsRAQhWIwIQrEYEIFiNCECwGKI/DUnLBoJ8Lt8AAAAASUVORK5CYII=)"
      ],
      "metadata": {
        "id": "V64zO_PhrkGS"
      }
    },
    {
      "cell_type": "markdown",
      "source": [
        "## 정밀도\n",
        "정밀도은 양성이라고 대답한 전체 케이스에 대한 TP의 비율\n"
      ],
      "metadata": {
        "id": "YK21OZ0crj8K"
      }
    },
    {
      "cell_type": "markdown",
      "source": [
        "## 재현률\n",
        "재현률은 실제값이 양성인 데이터의 전체 개수에 대해서 TP의 비율"
      ],
      "metadata": {
        "id": "bxRlH6Zir00B"
      }
    },
    {
      "cell_type": "markdown",
      "source": [],
      "metadata": {
        "id": "SzHaPCLzr--V"
      }
    },
    {
      "cell_type": "code",
      "execution_count": null,
      "metadata": {
        "id": "TcEfnb4mqysx"
      },
      "outputs": [],
      "source": []
    }
  ]
}