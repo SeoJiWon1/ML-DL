{
  "nbformat": 4,
  "nbformat_minor": 0,
  "metadata": {
    "colab": {
      "provenance": [],
      "authorship_tag": "ABX9TyOjnVYp8g4h0Wus4yh0+GC+",
      "include_colab_link": true
    },
    "kernelspec": {
      "name": "python3",
      "display_name": "Python 3"
    },
    "language_info": {
      "name": "python"
    }
  },
  "cells": [
    {
      "cell_type": "markdown",
      "metadata": {
        "id": "view-in-github",
        "colab_type": "text"
      },
      "source": [
        "<a href=\"https://colab.research.google.com/github/SeoJiWon1/ML-DL/blob/main/Pytorch_%EB%A1%9C%EC%A7%80%EC%8A%A4%ED%8B%B1_%ED%9A%8C%EA%B7%80(Logistic_Regression).ipynb\" target=\"_parent\"><img src=\"https://colab.research.google.com/assets/colab-badge.svg\" alt=\"Open In Colab\"/></a>"
      ]
    },
    {
      "cell_type": "markdown",
      "source": [
        "# 로지스틱 회귀(Logistic Regression)\n",
        "\n",
        "이진 분류시 사용"
      ],
      "metadata": {
        "id": "Rjx_IauA6seS"
      }
    },
    {
      "cell_type": "markdown",
      "source": [
        "## 시그모이드 함수(Sigmoid function)\n",
        "\n",
        "![image.png](data:image/png;base64,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)"
      ],
      "metadata": {
        "id": "pEIMvMhV8DER"
      }
    },
    {
      "cell_type": "code",
      "source": [
        "import numpy as np # 넘파이 사용\n",
        "import matplotlib.pyplot as plt # 맷플롯립사용"
      ],
      "metadata": {
        "id": "ARbwA9-O8Y6g"
      },
      "execution_count": null,
      "outputs": []
    },
    {
      "cell_type": "code",
      "source": [
        "def sigmoid(x): # 시그모이드 함수 정의\n",
        "    return 1/(1+np.exp(-x))"
      ],
      "metadata": {
        "id": "yGctDHO68Y0g"
      },
      "execution_count": null,
      "outputs": []
    },
    {
      "cell_type": "code",
      "execution_count": null,
      "metadata": {
        "colab": {
          "base_uri": "https://localhost:8080/",
          "height": 281
        },
        "id": "Iytgh76g57b1",
        "outputId": "45d4264e-f9df-410f-ea25-356fdcd82e75"
      },
      "outputs": [
        {
          "output_type": "display_data",
          "data": {
            "text/plain": [
              "<Figure size 432x288 with 1 Axes>"
            ],
            "image/png": "[encoded data removed]"
          },
          "metadata": {
            "needs_background": "light"
          }
        }
      ],
      "source": [
        "x = np.arange(-5.0, 5.0, 0.1)\n",
        "y = sigmoid(x)\n",
        "\n",
        "plt.plot(x, y, 'g')\n",
        "plt.plot([0,0],[1.0,0.0], ':') # 가운데 점선 추가\n",
        "plt.title('Sigmoid Function')\n",
        "plt.show()"
      ]
    },
    {
      "cell_type": "markdown",
      "source": [
        "## 파이토치로 로지스틱 회귀 구현하기"
      ],
      "metadata": {
        "id": "NCkUIyXl9hWp"
      }
    },
    {
      "cell_type": "code",
      "source": [
        "import torch\n",
        "import torch.nn as nn\n",
        "import torch.nn.functional as F\n",
        "import torch.optim as optim"
      ],
      "metadata": {
        "id": "3-PiVhYL8dX3"
      },
      "execution_count": null,
      "outputs": []
    },
    {
      "cell_type": "code",
      "source": [
        "torch.manual_seed(1)"
      ],
      "metadata": {
        "colab": {
          "base_uri": "https://localhost:8080/"
        },
        "id": "-jKa1Z5q9puh",
        "outputId": "decf0a94-c2bc-4272-ba64-edc74bb201aa"
      },
      "execution_count": null,
      "outputs": [
        {
          "output_type": "execute_result",
          "data": {
            "text/plain": [
              "<torch._C.Generator at 0x7fee8922b490>"
            ]
          },
          "metadata": {},
          "execution_count": 5
        }
      ]
    },
    {
      "cell_type": "markdown",
      "source": [
        "x_train과 y_train을 텐서로 선언"
      ],
      "metadata": {
        "id": "TqJO95mg96_Y"
      }
    },
    {
      "cell_type": "code",
      "source": [
        "x_data = [[1, 2], [2, 3], [3, 1], [4, 3], [5, 3], [6, 2]]\n",
        "y_data = [[0], [0], [0], [1], [1], [1]]\n",
        "x_train = torch.FloatTensor(x_data)\n",
        "y_train = torch.FloatTensor(y_data)"
      ],
      "metadata": {
        "id": "oAPbRXZS95oM"
      },
      "execution_count": null,
      "outputs": []
    },
    {
      "cell_type": "markdown",
      "source": [
        "W와 b를 선언"
      ],
      "metadata": {
        "id": "-Jt1osXAAb2X"
      }
    },
    {
      "cell_type": "code",
      "source": [
        "W = torch.zeros((2, 1), requires_grad=True) # 크기는 2 x 1\n",
        "b = torch.zeros(1, requires_grad=True)"
      ],
      "metadata": {
        "id": "60mbSZsZ992x"
      },
      "execution_count": null,
      "outputs": []
    },
    {
      "cell_type": "code",
      "source": [
        "hypothesis = 1 / (1 + torch.exp(-(x_train.matmul(W) + b)))"
      ],
      "metadata": {
        "id": "zibT_dE-AfL-"
      },
      "execution_count": null,
      "outputs": []
    },
    {
      "cell_type": "code",
      "source": [
        "print(hypothesis) # 예측값인 H(x) 출력"
      ],
      "metadata": {
        "colab": {
          "base_uri": "https://localhost:8080/"
        },
        "id": "Qj5E-FEGA2To",
        "outputId": "d7006a9b-649e-4a53-e189-557e6451c98c"
      },
      "execution_count": null,
      "outputs": [
        {
          "output_type": "stream",
          "name": "stdout",
          "text": [
            "tensor([[0.5000],\n",
            "        [0.5000],\n",
            "        [0.5000],\n",
            "        [0.5000],\n",
            "        [0.5000],\n",
            "        [0.5000]], grad_fn=<MulBackward0>)\n"
          ]
        }
      ]
    },
    {
      "cell_type": "markdown",
      "source": [
        "torch.sigmoid를 사용하여 좀 더 간단히 구현한 가설식"
      ],
      "metadata": {
        "id": "Hm1ZPtPQBiGo"
      }
    },
    {
      "cell_type": "code",
      "source": [
        "hypothesis = torch.sigmoid(x_train.matmul(W) + b)"
      ],
      "metadata": {
        "id": "7eCeu-ngBY6c"
      },
      "execution_count": null,
      "outputs": []
    },
    {
      "cell_type": "code",
      "source": [
        "print(hypothesis)\n",
        "print(y_train)"
      ],
      "metadata": {
        "colab": {
          "base_uri": "https://localhost:8080/"
        },
        "id": "O4SXIJLhBj_U",
        "outputId": "a1569a47-03ff-4306-f9a0-74ae2b71e3ca"
      },
      "execution_count": null,
      "outputs": [
        {
          "output_type": "stream",
          "name": "stdout",
          "text": [
            "tensor([[0.5000],\n",
            "        [0.5000],\n",
            "        [0.5000],\n",
            "        [0.5000],\n",
            "        [0.5000],\n",
            "        [0.5000]], grad_fn=<SigmoidBackward0>)\n",
            "tensor([[0.],\n",
            "        [0.],\n",
            "        [0.],\n",
            "        [1.],\n",
            "        [1.],\n",
            "        [1.]])\n"
          ]
        }
      ]
    },
    {
      "cell_type": "markdown",
      "source": [
        "파이토치에서는 로지스틱 회귀의 비용 함수를 이미 구현해서 제공\n",
        "\n",
        "사용 방법은 torch.nn.functional as F와 같이 임포트 한 후에 F.binary_cross_entropy(예측값, 실제값)과 같이 사용"
      ],
      "metadata": {
        "id": "lYp-QnR9Chtu"
      }
    },
    {
      "cell_type": "code",
      "source": [
        "F.binary_cross_entropy(hypothesis, y_train)"
      ],
      "metadata": {
        "colab": {
          "base_uri": "https://localhost:8080/"
        },
        "id": "032DbDf0Bwya",
        "outputId": "cef27f2c-137d-4bbb-8e9b-2d54b14df892"
      },
      "execution_count": null,
      "outputs": [
        {
          "output_type": "execute_result",
          "data": {
            "text/plain": [
              "tensor(0.6931, grad_fn=<BinaryCrossEntropyBackward0>)"
            ]
          },
          "metadata": {},
          "execution_count": 12
        }
      ]
    },
    {
      "cell_type": "markdown",
      "source": [
        "### 전체 코드"
      ],
      "metadata": {
        "id": "_FvdyMuOC7I2"
      }
    },
    {
      "cell_type": "code",
      "source": [
        "x_data = [[1, 2], [2, 3], [3, 1], [4, 3], [5, 3], [6, 2]]\n",
        "y_data = [[0], [0], [0], [1], [1], [1]]\n",
        "x_train = torch.FloatTensor(x_data)\n",
        "y_train = torch.FloatTensor(y_data)\n",
        "\n",
        "# 모델 초기화\n",
        "W = torch.zeros((2, 1), requires_grad=True)\n",
        "b = torch.zeros(1, requires_grad=True)\n",
        "\n",
        "# optimizer 설정\n",
        "optimizer = optim.SGD([W, b], lr = 1)\n",
        "\n",
        "nb_epochs = 1000\n",
        "for epoch in range(nb_epochs + 1):\n",
        "\n",
        "    # cost 계산\n",
        "    hypothesis = torch.sigmoid(x_train.matmul(W) + b)\n",
        "    cost = -(y_train * torch.log(hypothesis) + \n",
        "             (1 - y_train) * torch.log(1 - hypothesis)).mean()\n",
        "\n",
        "    \n",
        "    # cost로 H(x) 개선\n",
        "    optimizer.zero_grad()\n",
        "    cost.backward()\n",
        "    optimizer.step()\n",
        "    \n",
        "    # 100번마다 로그 출력\n",
        "    if epoch % 100 == 0:\n",
        "        print('Epoch {:4d}/{} Cost: {:.6f}'.format(\n",
        "            epoch, nb_epochs, cost.item()\n",
        "        ))\n"
      ],
      "metadata": {
        "colab": {
          "base_uri": "https://localhost:8080/"
        },
        "id": "GUvBPzP1CvE0",
        "outputId": "26300685-16ee-4e8b-c288-fa9c721c4d40"
      },
      "execution_count": null,
      "outputs": [
        {
          "output_type": "stream",
          "name": "stdout",
          "text": [
            "Epoch    0/1000 Cost: 0.693147\n",
            "Epoch  100/1000 Cost: 0.134722\n",
            "Epoch  200/1000 Cost: 0.080643\n",
            "Epoch  300/1000 Cost: 0.057900\n",
            "Epoch  400/1000 Cost: 0.045300\n",
            "Epoch  500/1000 Cost: 0.037261\n",
            "Epoch  600/1000 Cost: 0.031673\n",
            "Epoch  700/1000 Cost: 0.027556\n",
            "Epoch  800/1000 Cost: 0.024394\n",
            "Epoch  900/1000 Cost: 0.021888\n",
            "Epoch 1000/1000 Cost: 0.019852\n"
          ]
        }
      ]
    },
    {
      "cell_type": "markdown",
      "source": [
        "# nn.Module로 구현하는 로지스틱 회귀\n",
        "\n",
        "결과적으로 nn.Linear() 의 결과를 nn.Sigmoid()를 거치게 하면 로지스틱 회귀의 가설식이 된다. "
      ],
      "metadata": {
        "id": "OePOZnvRFgVd"
      }
    },
    {
      "cell_type": "markdown",
      "source": [
        "1. 파이토치 도구들 임포트"
      ],
      "metadata": {
        "id": "8QWpeGtxFptn"
      }
    },
    {
      "cell_type": "code",
      "source": [
        "import torch\n",
        "import torch.nn as nn\n",
        "import torch.nn.functional as F\n",
        "import torch.optim as optim "
      ],
      "metadata": {
        "id": "TBwPA384EFRn"
      },
      "execution_count": null,
      "outputs": []
    },
    {
      "cell_type": "code",
      "source": [
        "torch.manual_seed(1)"
      ],
      "metadata": {
        "colab": {
          "base_uri": "https://localhost:8080/"
        },
        "id": "7rctNkjDF1_G",
        "outputId": "03f71fb3-13a8-441e-8ee4-4bca3f78f4df"
      },
      "execution_count": null,
      "outputs": [
        {
          "output_type": "execute_result",
          "data": {
            "text/plain": [
              "<torch._C.Generator at 0x7fee8922b490>"
            ]
          },
          "metadata": {},
          "execution_count": 17
        }
      ]
    },
    {
      "cell_type": "markdown",
      "source": [
        "2. 훈련 데이터를 텐서로 선언"
      ],
      "metadata": {
        "id": "p85EvrO5F9C-"
      }
    },
    {
      "cell_type": "code",
      "source": [
        "x_data = [[1, 2], [2, 3], [3, 1], [4, 3], [5, 3], [6, 2]]\n",
        "y_data = [[0], [0], [0], [1], [1], [1]]\n",
        "x_train = torch.FloatTensor(x_data)\n",
        "y_train = torch.FloatTensor(y_data)"
      ],
      "metadata": {
        "id": "p9N921t8F6iu"
      },
      "execution_count": null,
      "outputs": []
    },
    {
      "cell_type": "markdown",
      "source": [
        "\n",
        "3. nn.Sequential()은 nn.Module 층을 차례로 쌓을 수 있도록 함\n",
        "\n",
        "nn.Sequential()은 Wx+b와 같은    수식과 시그모이드 함수 등과 같은 여러 함수들을 연결해주는 역할을 한다.\n",
        " \n",
        "이를 이용해서 로지스틱 회귀를 구현"
      ],
      "metadata": {
        "id": "qBLAZ9oHGcgw"
      }
    },
    {
      "cell_type": "code",
      "source": [
        "model = nn.Sequential( #input_dim = 2, output_dim = 1\n",
        "    nn.Linear(2, 1),   # 출력은 시그모이드 함수를 거친다\n",
        "    nn.Sigmoid() \n",
        ")"
      ],
      "metadata": {
        "id": "GtJrpBsGGBOv"
      },
      "execution_count": null,
      "outputs": []
    },
    {
      "cell_type": "markdown",
      "source": [
        "4. 현재 W와 b는 랜덤 초기화가 된 상태입니다. 훈련 데이터를 넣어 예측값을 확인"
      ],
      "metadata": {
        "id": "2MCVuW0kHz9N"
      }
    },
    {
      "cell_type": "code",
      "source": [
        "model(x_train) \n",
        "# 6 × 1 크기의 예측값 텐서가 출력됩니다. 그러나 현재 W와 b는 임의의 값을 가지므로 현재의 예측은 의미가 없다."
      ],
      "metadata": {
        "colab": {
          "base_uri": "https://localhost:8080/"
        },
        "id": "edcmJ6qNHgoN",
        "outputId": "9573c2a6-d906-4984-e773-d9080dde020e"
      },
      "execution_count": null,
      "outputs": [
        {
          "output_type": "execute_result",
          "data": {
            "text/plain": [
              "tensor([[0.4020],\n",
              "        [0.4147],\n",
              "        [0.6556],\n",
              "        [0.5948],\n",
              "        [0.6788],\n",
              "        [0.8061]], grad_fn=<SigmoidBackward0>)"
            ]
          },
          "metadata": {},
          "execution_count": 20
        }
      ]
    },
    {
      "cell_type": "markdown",
      "source": [
        "5. 경사 하강법을 사용하여 훈련\n",
        "100번의 에포크 수행"
      ],
      "metadata": {
        "id": "RvG0k4ALIDaV"
      }
    },
    {
      "cell_type": "code",
      "source": [
        "# optimizer 설정\n",
        "optimizer = optim.SGD(model.parameters(), lr=1)\n",
        "\n",
        "nb_epochs = 1000\n",
        "for epoch in range(nb_epochs+1):\n",
        "\n",
        "    # H(x) 계산\n",
        "    hypothesis = model(x_train)\n",
        "\n",
        "    # cost 계산\n",
        "    cost = F.binary_cross_entropy(hypothesis, y_train)\n",
        "\n",
        "    # cost로 H(x) 개선 \n",
        "    optimizer.zero_grad()\n",
        "    cost.backward()\n",
        "    optimizer.step()\n",
        "\n",
        "    # 20번마다 로그 출력\n",
        "    if epoch % 10 == 0:\n",
        "        prediction = hypothesis >= torch.FloatTensor([0.5]) # 예측값이 0.5를 넘으면 True로 간주\n",
        "        correct_prediction = prediction.float() == y_train # 실제값과 일치하는 경우만 True로 간주\n",
        "        accuracy = correct_prediction.sum().item() / len(correct_prediction) # 정확도를 계산\n",
        "        print('Epoch {:4d}/{} Cost: {:.6f} Accuracy {:2.2f}%'.format( # 각 에포크마다 정확도를 출력\n",
        "            epoch, nb_epochs, cost.item(), accuracy * 100,\n",
        "        ))\n"
      ],
      "metadata": {
        "colab": {
          "base_uri": "https://localhost:8080/"
        },
        "id": "Rt55_wMMH2-X",
        "outputId": "5434c187-d21b-4e38-a610-8c94dc5f1e97"
      },
      "execution_count": null,
      "outputs": [
        {
          "output_type": "stream",
          "name": "stdout",
          "text": [
            "Epoch    0/1000 Cost: 0.539713 Accuracy 83.33%\n",
            "Epoch   10/1000 Cost: 0.614853 Accuracy 66.67%\n",
            "Epoch   20/1000 Cost: 0.441875 Accuracy 66.67%\n",
            "Epoch   30/1000 Cost: 0.373145 Accuracy 83.33%\n",
            "Epoch   40/1000 Cost: 0.316358 Accuracy 83.33%\n",
            "Epoch   50/1000 Cost: 0.266094 Accuracy 83.33%\n",
            "Epoch   60/1000 Cost: 0.220498 Accuracy 100.00%\n",
            "Epoch   70/1000 Cost: 0.182095 Accuracy 100.00%\n",
            "Epoch   80/1000 Cost: 0.157299 Accuracy 100.00%\n",
            "Epoch   90/1000 Cost: 0.144091 Accuracy 100.00%\n",
            "Epoch  100/1000 Cost: 0.134272 Accuracy 100.00%\n",
            "Epoch  110/1000 Cost: 0.125769 Accuracy 100.00%\n",
            "Epoch  120/1000 Cost: 0.118297 Accuracy 100.00%\n",
            "Epoch  130/1000 Cost: 0.111680 Accuracy 100.00%\n",
            "Epoch  140/1000 Cost: 0.105779 Accuracy 100.00%\n",
            "Epoch  150/1000 Cost: 0.100483 Accuracy 100.00%\n",
            "Epoch  160/1000 Cost: 0.095704 Accuracy 100.00%\n",
            "Epoch  170/1000 Cost: 0.091369 Accuracy 100.00%\n",
            "Epoch  180/1000 Cost: 0.087420 Accuracy 100.00%\n",
            "Epoch  190/1000 Cost: 0.083806 Accuracy 100.00%\n",
            "Epoch  200/1000 Cost: 0.080486 Accuracy 100.00%\n",
            "Epoch  210/1000 Cost: 0.077425 Accuracy 100.00%\n",
            "Epoch  220/1000 Cost: 0.074595 Accuracy 100.00%\n",
            "Epoch  230/1000 Cost: 0.071969 Accuracy 100.00%\n",
            "Epoch  240/1000 Cost: 0.069526 Accuracy 100.00%\n",
            "Epoch  250/1000 Cost: 0.067248 Accuracy 100.00%\n",
            "Epoch  260/1000 Cost: 0.065118 Accuracy 100.00%\n",
            "Epoch  270/1000 Cost: 0.063122 Accuracy 100.00%\n",
            "Epoch  280/1000 Cost: 0.061247 Accuracy 100.00%\n",
            "Epoch  290/1000 Cost: 0.059483 Accuracy 100.00%\n",
            "Epoch  300/1000 Cost: 0.057820 Accuracy 100.00%\n",
            "Epoch  310/1000 Cost: 0.056250 Accuracy 100.00%\n",
            "Epoch  320/1000 Cost: 0.054764 Accuracy 100.00%\n",
            "Epoch  330/1000 Cost: 0.053357 Accuracy 100.00%\n",
            "Epoch  340/1000 Cost: 0.052022 Accuracy 100.00%\n",
            "Epoch  350/1000 Cost: 0.050753 Accuracy 100.00%\n",
            "Epoch  360/1000 Cost: 0.049546 Accuracy 100.00%\n",
            "Epoch  370/1000 Cost: 0.048396 Accuracy 100.00%\n",
            "Epoch  380/1000 Cost: 0.047299 Accuracy 100.00%\n",
            "Epoch  390/1000 Cost: 0.046252 Accuracy 100.00%\n",
            "Epoch  400/1000 Cost: 0.045251 Accuracy 100.00%\n",
            "Epoch  410/1000 Cost: 0.044294 Accuracy 100.00%\n",
            "Epoch  420/1000 Cost: 0.043376 Accuracy 100.00%\n",
            "Epoch  430/1000 Cost: 0.042497 Accuracy 100.00%\n",
            "Epoch  440/1000 Cost: 0.041653 Accuracy 100.00%\n",
            "Epoch  450/1000 Cost: 0.040843 Accuracy 100.00%\n",
            "Epoch  460/1000 Cost: 0.040064 Accuracy 100.00%\n",
            "Epoch  470/1000 Cost: 0.039315 Accuracy 100.00%\n",
            "Epoch  480/1000 Cost: 0.038593 Accuracy 100.00%\n",
            "Epoch  490/1000 Cost: 0.037898 Accuracy 100.00%\n",
            "Epoch  500/1000 Cost: 0.037228 Accuracy 100.00%\n",
            "Epoch  510/1000 Cost: 0.036582 Accuracy 100.00%\n",
            "Epoch  520/1000 Cost: 0.035958 Accuracy 100.00%\n",
            "Epoch  530/1000 Cost: 0.035356 Accuracy 100.00%\n",
            "Epoch  540/1000 Cost: 0.034773 Accuracy 100.00%\n",
            "Epoch  550/1000 Cost: 0.034210 Accuracy 100.00%\n",
            "Epoch  560/1000 Cost: 0.033664 Accuracy 100.00%\n",
            "Epoch  570/1000 Cost: 0.033137 Accuracy 100.00%\n",
            "Epoch  580/1000 Cost: 0.032625 Accuracy 100.00%\n",
            "Epoch  590/1000 Cost: 0.032130 Accuracy 100.00%\n",
            "Epoch  600/1000 Cost: 0.031649 Accuracy 100.00%\n",
            "Epoch  610/1000 Cost: 0.031183 Accuracy 100.00%\n",
            "Epoch  620/1000 Cost: 0.030730 Accuracy 100.00%\n",
            "Epoch  630/1000 Cost: 0.030291 Accuracy 100.00%\n",
            "Epoch  640/1000 Cost: 0.029864 Accuracy 100.00%\n",
            "Epoch  650/1000 Cost: 0.029449 Accuracy 100.00%\n",
            "Epoch  660/1000 Cost: 0.029046 Accuracy 100.00%\n",
            "Epoch  670/1000 Cost: 0.028654 Accuracy 100.00%\n",
            "Epoch  680/1000 Cost: 0.028272 Accuracy 100.00%\n",
            "Epoch  690/1000 Cost: 0.027900 Accuracy 100.00%\n",
            "Epoch  700/1000 Cost: 0.027538 Accuracy 100.00%\n",
            "Epoch  710/1000 Cost: 0.027186 Accuracy 100.00%\n",
            "Epoch  720/1000 Cost: 0.026842 Accuracy 100.00%\n",
            "Epoch  730/1000 Cost: 0.026507 Accuracy 100.00%\n",
            "Epoch  740/1000 Cost: 0.026181 Accuracy 100.00%\n",
            "Epoch  750/1000 Cost: 0.025862 Accuracy 100.00%\n",
            "Epoch  760/1000 Cost: 0.025552 Accuracy 100.00%\n",
            "Epoch  770/1000 Cost: 0.025248 Accuracy 100.00%\n",
            "Epoch  780/1000 Cost: 0.024952 Accuracy 100.00%\n",
            "Epoch  790/1000 Cost: 0.024663 Accuracy 100.00%\n",
            "Epoch  800/1000 Cost: 0.024381 Accuracy 100.00%\n",
            "Epoch  810/1000 Cost: 0.024104 Accuracy 100.00%\n",
            "Epoch  820/1000 Cost: 0.023835 Accuracy 100.00%\n",
            "Epoch  830/1000 Cost: 0.023571 Accuracy 100.00%\n",
            "Epoch  840/1000 Cost: 0.023313 Accuracy 100.00%\n",
            "Epoch  850/1000 Cost: 0.023061 Accuracy 100.00%\n",
            "Epoch  860/1000 Cost: 0.022814 Accuracy 100.00%\n",
            "Epoch  870/1000 Cost: 0.022572 Accuracy 100.00%\n",
            "Epoch  880/1000 Cost: 0.022336 Accuracy 100.00%\n",
            "Epoch  890/1000 Cost: 0.022104 Accuracy 100.00%\n",
            "Epoch  900/1000 Cost: 0.021877 Accuracy 100.00%\n",
            "Epoch  910/1000 Cost: 0.021655 Accuracy 100.00%\n",
            "Epoch  920/1000 Cost: 0.021437 Accuracy 100.00%\n",
            "Epoch  930/1000 Cost: 0.021224 Accuracy 100.00%\n",
            "Epoch  940/1000 Cost: 0.021015 Accuracy 100.00%\n",
            "Epoch  950/1000 Cost: 0.020810 Accuracy 100.00%\n",
            "Epoch  960/1000 Cost: 0.020609 Accuracy 100.00%\n",
            "Epoch  970/1000 Cost: 0.020412 Accuracy 100.00%\n",
            "Epoch  980/1000 Cost: 0.020219 Accuracy 100.00%\n",
            "Epoch  990/1000 Cost: 0.020029 Accuracy 100.00%\n",
            "Epoch 1000/1000 Cost: 0.019843 Accuracy 100.00%\n"
          ]
        }
      ]
    },
    {
      "cell_type": "markdown",
      "source": [
        "# 인공 신경망으로 표현되는 로지스틱 회귀"
      ],
      "metadata": {
        "id": "4iDolk_SNqYU"
      }
    },
    {
      "cell_type": "markdown",
      "source": [
        "![image.png](data:image/png;base64,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)\n",
        "\n",
        "![image.png](data:image/png;base64,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)"
      ],
      "metadata": {
        "id": "WdYS8DcqOF5T"
      }
    },
    {
      "cell_type": "markdown",
      "source": [
        "# 클래스로 파이토치 모델 구현하기\n",
        "로지스틱 회귀 클래스로 구현하기"
      ],
      "metadata": {
        "id": "j9ukLe9XORF7"
      }
    },
    {
      "cell_type": "code",
      "source": [
        "import torch\n",
        "import torch.nn as nn\n",
        "import torch.nn.functional as F\n",
        "import torch.optim as optim"
      ],
      "metadata": {
        "id": "90KBiVYDNloN"
      },
      "execution_count": null,
      "outputs": []
    },
    {
      "cell_type": "code",
      "source": [
        "torch.manual_seed(1)"
      ],
      "metadata": {
        "colab": {
          "base_uri": "https://localhost:8080/"
        },
        "id": "qp5b9iHoOsz8",
        "outputId": "73255bcd-47fb-4f3f-cb77-959c32d6086c"
      },
      "execution_count": null,
      "outputs": [
        {
          "output_type": "execute_result",
          "data": {
            "text/plain": [
              "<torch._C.Generator at 0x7fee8922b490>"
            ]
          },
          "metadata": {},
          "execution_count": 23
        }
      ]
    },
    {
      "cell_type": "code",
      "source": [
        "x_data = [[1, 2], [2, 3], [3, 1], [4, 3], [5, 3], [6, 2]]\n",
        "y_data = [[0], [0], [0], [1], [1], [1]]\n",
        "x_train = torch.FloatTensor(x_data)\n",
        "y_train = torch.FloatTensor(y_data)"
      ],
      "metadata": {
        "id": "hUgV948_Ot-M"
      },
      "execution_count": null,
      "outputs": []
    },
    {
      "cell_type": "code",
      "source": [
        "class BinaryClassifier(nn.Module):\n",
        "    def __init__(self):\n",
        "        super().__init__()\n",
        "        self.linear = nn.Linear(2,1)\n",
        "        self.sigmoid = nn.Sigmoid()\n",
        "\n",
        "    def forward(self, x):\n",
        "        return self.sigmoid(self.linear(x))"
      ],
      "metadata": {
        "id": "2whtuqUuOvMU"
      },
      "execution_count": null,
      "outputs": []
    },
    {
      "cell_type": "code",
      "source": [
        "model = BinaryClassifier()"
      ],
      "metadata": {
        "id": "qlOx_i9kPIHN"
      },
      "execution_count": null,
      "outputs": []
    },
    {
      "cell_type": "code",
      "source": [
        "# optimizer 설정\n",
        "optimizer = optim.SGD(model.parameters(), lr =1)\n",
        "\n",
        "\n",
        "nb_epochs = 1000\n",
        "for epoch in range(nb_epochs + 1):\n",
        "\n",
        "    # H(x) 계산\n",
        "    hypothesis = model(x_train)\n",
        "\n",
        "    # cost 계산\n",
        "    cost = F.binary_cross_entropy(hypothesis, y_train)\n",
        "\n",
        "    # cost로 H(x) 개선\n",
        "    optimizer.zero_grad()\n",
        "    cost.backward()\n",
        "    optimizer.step()\n",
        "\n",
        "    # 20번마다 로그 출력\n",
        "    if epoch % 10 == 0:\n",
        "        prediction = hypothesis >= torch.FloatTensor([0.5]) # 예측값이 0.5를 넘으면 True로 간주\n",
        "        correct_prediction = prediction.float() == y_train # 실제값과 일치하는 경우만 True로 간주\n",
        "        accuracy = correct_prediction.sum().item() / len(correct_prediction) # 정확도를 계산\n",
        "        print('Epoch {:4d}/{} Cost: {:.6f} Accuracy {:2.2f}%'.format( # 각 에포크마다 정확도를 출력\n",
        "            epoch, nb_epochs, cost.item(), accuracy * 100,\n",
        "        ))"
      ],
      "metadata": {
        "colab": {
          "base_uri": "https://localhost:8080/"
        },
        "id": "n46eSkH3PmQD",
        "outputId": "fc7fdc64-5cce-4e1e-be2d-eac8920bdefc"
      },
      "execution_count": null,
      "outputs": [
        {
          "output_type": "stream",
          "name": "stdout",
          "text": [
            "Epoch    0/1000 Cost: 0.539713 Accuracy 83.33%\n",
            "Epoch   10/1000 Cost: 0.614853 Accuracy 66.67%\n",
            "Epoch   20/1000 Cost: 0.441875 Accuracy 66.67%\n",
            "Epoch   30/1000 Cost: 0.373145 Accuracy 83.33%\n",
            "Epoch   40/1000 Cost: 0.316358 Accuracy 83.33%\n",
            "Epoch   50/1000 Cost: 0.266094 Accuracy 83.33%\n",
            "Epoch   60/1000 Cost: 0.220498 Accuracy 100.00%\n",
            "Epoch   70/1000 Cost: 0.182095 Accuracy 100.00%\n",
            "Epoch   80/1000 Cost: 0.157299 Accuracy 100.00%\n",
            "Epoch   90/1000 Cost: 0.144091 Accuracy 100.00%\n",
            "Epoch  100/1000 Cost: 0.134272 Accuracy 100.00%\n",
            "Epoch  110/1000 Cost: 0.125769 Accuracy 100.00%\n",
            "Epoch  120/1000 Cost: 0.118297 Accuracy 100.00%\n",
            "Epoch  130/1000 Cost: 0.111680 Accuracy 100.00%\n",
            "Epoch  140/1000 Cost: 0.105779 Accuracy 100.00%\n",
            "Epoch  150/1000 Cost: 0.100483 Accuracy 100.00%\n",
            "Epoch  160/1000 Cost: 0.095704 Accuracy 100.00%\n",
            "Epoch  170/1000 Cost: 0.091369 Accuracy 100.00%\n",
            "Epoch  180/1000 Cost: 0.087420 Accuracy 100.00%\n",
            "Epoch  190/1000 Cost: 0.083806 Accuracy 100.00%\n",
            "Epoch  200/1000 Cost: 0.080486 Accuracy 100.00%\n",
            "Epoch  210/1000 Cost: 0.077425 Accuracy 100.00%\n",
            "Epoch  220/1000 Cost: 0.074595 Accuracy 100.00%\n",
            "Epoch  230/1000 Cost: 0.071969 Accuracy 100.00%\n",
            "Epoch  240/1000 Cost: 0.069526 Accuracy 100.00%\n",
            "Epoch  250/1000 Cost: 0.067248 Accuracy 100.00%\n",
            "Epoch  260/1000 Cost: 0.065118 Accuracy 100.00%\n",
            "Epoch  270/1000 Cost: 0.063122 Accuracy 100.00%\n",
            "Epoch  280/1000 Cost: 0.061247 Accuracy 100.00%\n",
            "Epoch  290/1000 Cost: 0.059483 Accuracy 100.00%\n",
            "Epoch  300/1000 Cost: 0.057820 Accuracy 100.00%\n",
            "Epoch  310/1000 Cost: 0.056250 Accuracy 100.00%\n",
            "Epoch  320/1000 Cost: 0.054764 Accuracy 100.00%\n",
            "Epoch  330/1000 Cost: 0.053357 Accuracy 100.00%\n",
            "Epoch  340/1000 Cost: 0.052022 Accuracy 100.00%\n",
            "Epoch  350/1000 Cost: 0.050753 Accuracy 100.00%\n",
            "Epoch  360/1000 Cost: 0.049546 Accuracy 100.00%\n",
            "Epoch  370/1000 Cost: 0.048396 Accuracy 100.00%\n",
            "Epoch  380/1000 Cost: 0.047299 Accuracy 100.00%\n",
            "Epoch  390/1000 Cost: 0.046252 Accuracy 100.00%\n",
            "Epoch  400/1000 Cost: 0.045251 Accuracy 100.00%\n",
            "Epoch  410/1000 Cost: 0.044294 Accuracy 100.00%\n",
            "Epoch  420/1000 Cost: 0.043376 Accuracy 100.00%\n",
            "Epoch  430/1000 Cost: 0.042497 Accuracy 100.00%\n",
            "Epoch  440/1000 Cost: 0.041653 Accuracy 100.00%\n",
            "Epoch  450/1000 Cost: 0.040843 Accuracy 100.00%\n",
            "Epoch  460/1000 Cost: 0.040064 Accuracy 100.00%\n",
            "Epoch  470/1000 Cost: 0.039315 Accuracy 100.00%\n",
            "Epoch  480/1000 Cost: 0.038593 Accuracy 100.00%\n",
            "Epoch  490/1000 Cost: 0.037898 Accuracy 100.00%\n",
            "Epoch  500/1000 Cost: 0.037228 Accuracy 100.00%\n",
            "Epoch  510/1000 Cost: 0.036582 Accuracy 100.00%\n",
            "Epoch  520/1000 Cost: 0.035958 Accuracy 100.00%\n",
            "Epoch  530/1000 Cost: 0.035356 Accuracy 100.00%\n",
            "Epoch  540/1000 Cost: 0.034773 Accuracy 100.00%\n",
            "Epoch  550/1000 Cost: 0.034210 Accuracy 100.00%\n",
            "Epoch  560/1000 Cost: 0.033664 Accuracy 100.00%\n",
            "Epoch  570/1000 Cost: 0.033137 Accuracy 100.00%\n",
            "Epoch  580/1000 Cost: 0.032625 Accuracy 100.00%\n",
            "Epoch  590/1000 Cost: 0.032130 Accuracy 100.00%\n",
            "Epoch  600/1000 Cost: 0.031649 Accuracy 100.00%\n",
            "Epoch  610/1000 Cost: 0.031183 Accuracy 100.00%\n",
            "Epoch  620/1000 Cost: 0.030730 Accuracy 100.00%\n",
            "Epoch  630/1000 Cost: 0.030291 Accuracy 100.00%\n",
            "Epoch  640/1000 Cost: 0.029864 Accuracy 100.00%\n",
            "Epoch  650/1000 Cost: 0.029449 Accuracy 100.00%\n",
            "Epoch  660/1000 Cost: 0.029046 Accuracy 100.00%\n",
            "Epoch  670/1000 Cost: 0.028654 Accuracy 100.00%\n",
            "Epoch  680/1000 Cost: 0.028272 Accuracy 100.00%\n",
            "Epoch  690/1000 Cost: 0.027900 Accuracy 100.00%\n",
            "Epoch  700/1000 Cost: 0.027538 Accuracy 100.00%\n",
            "Epoch  710/1000 Cost: 0.027186 Accuracy 100.00%\n",
            "Epoch  720/1000 Cost: 0.026842 Accuracy 100.00%\n",
            "Epoch  730/1000 Cost: 0.026507 Accuracy 100.00%\n",
            "Epoch  740/1000 Cost: 0.026181 Accuracy 100.00%\n",
            "Epoch  750/1000 Cost: 0.025862 Accuracy 100.00%\n",
            "Epoch  760/1000 Cost: 0.025552 Accuracy 100.00%\n",
            "Epoch  770/1000 Cost: 0.025248 Accuracy 100.00%\n",
            "Epoch  780/1000 Cost: 0.024952 Accuracy 100.00%\n",
            "Epoch  790/1000 Cost: 0.024663 Accuracy 100.00%\n",
            "Epoch  800/1000 Cost: 0.024381 Accuracy 100.00%\n",
            "Epoch  810/1000 Cost: 0.024104 Accuracy 100.00%\n",
            "Epoch  820/1000 Cost: 0.023835 Accuracy 100.00%\n",
            "Epoch  830/1000 Cost: 0.023571 Accuracy 100.00%\n",
            "Epoch  840/1000 Cost: 0.023313 Accuracy 100.00%\n",
            "Epoch  850/1000 Cost: 0.023061 Accuracy 100.00%\n",
            "Epoch  860/1000 Cost: 0.022814 Accuracy 100.00%\n",
            "Epoch  870/1000 Cost: 0.022572 Accuracy 100.00%\n",
            "Epoch  880/1000 Cost: 0.022336 Accuracy 100.00%\n",
            "Epoch  890/1000 Cost: 0.022104 Accuracy 100.00%\n",
            "Epoch  900/1000 Cost: 0.021877 Accuracy 100.00%\n",
            "Epoch  910/1000 Cost: 0.021655 Accuracy 100.00%\n",
            "Epoch  920/1000 Cost: 0.021437 Accuracy 100.00%\n",
            "Epoch  930/1000 Cost: 0.021224 Accuracy 100.00%\n",
            "Epoch  940/1000 Cost: 0.021015 Accuracy 100.00%\n",
            "Epoch  950/1000 Cost: 0.020810 Accuracy 100.00%\n",
            "Epoch  960/1000 Cost: 0.020609 Accuracy 100.00%\n",
            "Epoch  970/1000 Cost: 0.020412 Accuracy 100.00%\n",
            "Epoch  980/1000 Cost: 0.020219 Accuracy 100.00%\n",
            "Epoch  990/1000 Cost: 0.020029 Accuracy 100.00%\n",
            "Epoch 1000/1000 Cost: 0.019843 Accuracy 100.00%\n"
          ]
        }
      ]
    },
    {
      "cell_type": "code",
      "source": [],
      "metadata": {
        "id": "6_5xXM3QQNPl"
      },
      "execution_count": null,
      "outputs": []
    }
  ]
}