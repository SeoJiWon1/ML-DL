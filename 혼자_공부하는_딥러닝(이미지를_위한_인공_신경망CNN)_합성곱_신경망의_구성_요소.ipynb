{
  "nbformat": 4,
  "nbformat_minor": 0,
  "metadata": {
    "colab": {
      "provenance": [],
      "authorship_tag": "ABX9TyNPqPz1+W4E6zVloP68ow/C",
      "include_colab_link": true
    },
    "kernelspec": {
      "name": "python3",
      "display_name": "Python 3"
    },
    "language_info": {
      "name": "python"
    }
  },
  "cells": [
    {
      "cell_type": "markdown",
      "metadata": {
        "id": "view-in-github",
        "colab_type": "text"
      },
      "source": [
        "<a href=\"https://colab.research.google.com/github/SeoJiWon1/ML-DL/blob/main/%ED%98%BC%EC%9E%90_%EA%B3%B5%EB%B6%80%ED%95%98%EB%8A%94_%EB%94%A5%EB%9F%AC%EB%8B%9D(%EC%9D%B4%EB%AF%B8%EC%A7%80%EB%A5%BC_%EC%9C%84%ED%95%9C_%EC%9D%B8%EA%B3%B5_%EC%8B%A0%EA%B2%BD%EB%A7%9DCNN)_%ED%95%A9%EC%84%B1%EA%B3%B1_%EC%8B%A0%EA%B2%BD%EB%A7%9D%EC%9D%98_%EA%B5%AC%EC%84%B1_%EC%9A%94%EC%86%8C.ipynb\" target=\"_parent\"><img src=\"https://colab.research.google.com/assets/colab-badge.svg\" alt=\"Open In Colab\"/></a>"
      ]
    },
    {
      "cell_type": "markdown",
      "source": [
        "# 합성곱 신경망의 구성 요소"
      ],
      "metadata": {
        "id": "JOZVZIuBt-aD"
      }
    },
    {
      "cell_type": "markdown",
      "source": [
        "## 합성곱(convolution)\n",
        "* 유용한 특성만 드러나게 하는 것으로 비유 가능\n",
        "* 합성곱은 입력 데이터 전체에 가중치를 적용하는 것이 아니라 일부에 가중치를 곱한다. \n",
        "* 한 칸씩 아래로 이동하면서 출력을 만드는 것 (책 424 그림 참조)\n",
        "* 합성곱 층의 뉴런에 있는 가중치 개수는 정하기 나름 (즉 하이퍼파라미터이다.)\n",
        "* 총 10개의 뉴런  합성곱으로 3개의 가중치를 가지고 8개의 출력을 만들 수 있다. 여기서 3개를  커널(필터)라고 부른다. \n",
        "* 뉴런개수 = \"필터\"\n",
        "* 입력에 곱해지는 가중치 =\"커널\"\n",
        "* 합성곱 계산을 통해 얻은 출력을 특별히 특성 맵(feature map)이라고 부른다.\n"
      ],
      "metadata": {
        "id": "1mjSUdqvuTfL"
      }
    },
    {
      "cell_type": "markdown",
      "source": [
        "## 케라스 합성곱 층\n",
        "* 합성곱 층에 있는 필터의 가중치(커널)도 모두 다르다\n",
        "* keras.layers\n",
        "* Conv2D 클래스로 제공 (입력 위를 왼쪽에서 오른쪽, 위에서 아래쪽 이동)"
      ],
      "metadata": {
        "id": "_EuQpCLuzYFZ"
      }
    },
    {
      "cell_type": "code",
      "execution_count": null,
      "metadata": {
        "colab": {
          "base_uri": "https://localhost:8080/"
        },
        "id": "bJr3wOYOvDLF",
        "outputId": "b13e5411-d4f7-4e05-d701-943e060705da"
      },
      "outputs": [
        {
          "output_type": "execute_result",
          "data": {
            "text/plain": [
              "<keras.layers.convolutional.conv2d.Conv2D at 0x7f8ead055be0>"
            ]
          },
          "metadata": {},
          "execution_count": 6
        }
      ],
      "source": [
        "from tensorflow import keras\n",
        "keras.layers.Conv2D(10, kernel_size = (3,3), activation = 'relu')\n",
        "# Conv2D의 매개변수 필터(즉 도장)의 개수 \n",
        "# 중요 개념 챙기기\n",
        "# 커널 -> 가중치들 \n",
        "# 필터 -> 커널이 3 x 3 의 형태를 이루는 것을 1개의 필터라고 한다.  \n",
        "# 필터의 개수와 커널의 크기는 반드시 지정해야 하는 매개변수 \n",
        "# 해석을 해보자면 10 -> 필터의 개수, (3,3) -> 가중치(커널)의 크기가 3x3 2차원 배열의 형태\n",
        "# activation -> 활성화 함수 "
      ]
    },
    {
      "cell_type": "markdown",
      "source": [
        "### 커널의 크기\n",
        "커널의 크기는 하이퍼파라미터로 보통 (3,3) / (5,5) 사용 \n"
      ],
      "metadata": {
        "id": "LKRV-Tu32SoS"
      }
    },
    {
      "cell_type": "markdown",
      "source": [
        "## 패딩과 스트라이드 (Padding, Stride)\n",
        "책 430페이지 참조\n",
        "\n",
        "패딩: 배열의 주위를 가상의 원소로 채우는 것을 패딩이라고 한다.\n",
        "* 실제 입력값이 아니기 때문에 패딩은 0으로 채운다.\n",
        "* 모서리에 있는 중요한 정보가 특성 맵으로 잘 전달되지 않을 가능성이 있기 때문\n",
        "* 입력 주위에 0으로 패딩 하는 것을 세임 패딩 (same padding)이라고 부른다.\n",
        "* 패딩 없이 순수한 입력 배열에서만 합성곱을 하여 특성 맵을 만드는 경우를 밸리드 패딩(valid padding)이라고 한다. \n",
        "\n",
        "스트라이드: 합성곱 연산시 이동하는 칸 수 (이동의 크기)\n",
        "* 기본으로 스트라이드의 크기는 1  -> 즉 한칸씩 이동한다.\n",
        "* strides  매개변수는 오른쪽으로 이동하는 크기와 아래쪽으로 이동하는 크기를 (1,1)과 같이 튜플을 사용해 지정 \n",
        "* 대부분 기본값을 그대로 사용하기 때문에 잘 사용 x "
      ],
      "metadata": {
        "id": "Hj0ytUPa2r_5"
      }
    },
    {
      "cell_type": "code",
      "source": [
        "keras.layers.Conv2D(10, kernel_size=(3,3), activation = \"relu\", padding = 'same')\n",
        "# 기본값은 'valid' 로 나타냄 \n",
        "# padding = 'same' ->>> 세임패딩을 나타냄  "
      ],
      "metadata": {
        "colab": {
          "base_uri": "https://localhost:8080/"
        },
        "id": "0t61zRNuzu2a",
        "outputId": "714529b3-c5dd-4496-e454-ea2c508ca0f6"
      },
      "execution_count": null,
      "outputs": [
        {
          "output_type": "execute_result",
          "data": {
            "text/plain": [
              "<keras.layers.convolutional.conv2d.Conv2D at 0x7f8ead0551c0>"
            ]
          },
          "metadata": {},
          "execution_count": 8
        }
      ]
    },
    {
      "cell_type": "code",
      "source": [
        "keras.layers.Conv2D(10, kernel_size =(3,3), activation = 'relu',\n",
        "                    padding = 'same', strides =1 )"
      ],
      "metadata": {
        "colab": {
          "base_uri": "https://localhost:8080/"
        },
        "id": "UjkNPwO76X98",
        "outputId": "fa3850a1-1498-4b88-bff2-426e59c16e5f"
      },
      "execution_count": null,
      "outputs": [
        {
          "output_type": "execute_result",
          "data": {
            "text/plain": [
              "<keras.layers.convolutional.conv2d.Conv2D at 0x7f8eadbb2dc0>"
            ]
          },
          "metadata": {},
          "execution_count": 10
        }
      ]
    },
    {
      "cell_type": "markdown",
      "source": [
        "## 풀링(pooling)\n",
        "풀링: 합성곱 층에서 만든 특성 맵의 가로세로 크기를 줄이는 역할을 수행, 특성 맵의 개수는 줄이지 않는다 \n",
        "* 풀링은 특성 맵에 커널 없는 필터를 적용하는 것과 비슷하게 생각 \n",
        "* 풀링에는 가중치가 없다.\n",
        "* 도장을 찍은 영역에서 가장 큰 값을 고르거나 평균값을 계산\n",
        "* 이를 각각 최대 풀링, 평균 풀링 이라고 부른다. \n",
        "* 풀링층으로 구분\n",
        "* 풀링에서는 겹치지 않고 이동 \n"
      ],
      "metadata": {
        "id": "WJzCVNuk7DBp"
      }
    },
    {
      "cell_type": "code",
      "source": [
        "keras.layers.MaxPooling2D(2, strides = 2, padding = 'valid')\n",
        "# 2 -> 풀링의 크기 지정, 대부분 풀링의 크기는 2 (2,2)\n",
        "# strides의 기본값은 풀링의 크기와 같다 \n",
        "# padding 기본값 valid\n"
      ],
      "metadata": {
        "id": "vb8O0ZFX6yCJ"
      },
      "execution_count": null,
      "outputs": []
    },
    {
      "cell_type": "markdown",
      "source": [
        "# 합성곱 신경망의 전체 구조\n",
        "합성곱, 층, 필터, 패딩, 스트라이드, 풀링 등 중요한 합성곱 신경망의 개념 \n",
        "\n",
        "합성곱 신경망은 일렬로 늘어선 뉴런으로 표현하기 힘들다 \n",
        "\n",
        "책 437페이지 참고 \n",
        "\n",
        "* 1. 합성곱 층(세임페딩)\n",
        "\n",
        "{ 필터 n개 -> 특성 맵 m개 -> 활성화 함수 }\n",
        "\n",
        "* 2. 풀리층\n",
        "\n",
        "{최대풀링 / 평균풀링 -> 특성 맵 k개 -> 1차원으로 펼치기 }\n",
        "\n",
        "* 3. 밀집층 \n",
        "{ 1차원 배열 -> 출력층 i개 -> 활성화 함수 -> 예측} "
      ],
      "metadata": {
        "id": "NRJIARv5JD35"
      }
    },
    {
      "cell_type": "markdown",
      "source": [
        "## 컬러 이미지를 사용한 합성곱\n",
        "흑백 이미지는 2차원 배열로 표현가능\n",
        "\n",
        "컬러 이미지는 RGB 채널로 구성되어 있기 때문에 컴퓨터는 이를 3차원 배열로 표시한다. \n",
        "\n",
        "이렇게 하기 위해선 도장도 깊이가 필요하다고 가정 \n",
        "\n",
        "즉 커널의 크기가 (3,3)이 아니라 (3,3,3)이 되어야 한다."
      ],
      "metadata": {
        "id": "fBxjvZLINUcQ"
      }
    },
    {
      "cell_type": "code",
      "source": [],
      "metadata": {
        "id": "-a45gCL8KZA5"
      },
      "execution_count": null,
      "outputs": []
    }
  ]
}