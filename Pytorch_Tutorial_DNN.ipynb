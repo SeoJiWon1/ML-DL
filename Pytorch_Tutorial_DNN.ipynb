{
  "nbformat": 4,
  "nbformat_minor": 0,
  "metadata": {
    "colab": {
      "provenance": [],
      "authorship_tag": "ABX9TyNlnv9xtXJN9HcPTjEACz/t",
      "include_colab_link": true
    },
    "kernelspec": {
      "name": "python3",
      "display_name": "Python 3"
    },
    "language_info": {
      "name": "python"
    },
    "gpuClass": "standard",
    "accelerator": "GPU",
    "widgets": {
      "application/vnd.jupyter.widget-state+json": {
        "a187cb057415432883388a65259f55d2": {
          "model_module": "@jupyter-widgets/controls",
          "model_name": "HBoxModel",
          "model_module_version": "1.5.0",
          "state": {
            "_dom_classes": [],
            "_model_module": "@jupyter-widgets/controls",
            "_model_module_version": "1.5.0",
            "_model_name": "HBoxModel",
            "_view_count": null,
            "_view_module": "@jupyter-widgets/controls",
            "_view_module_version": "1.5.0",
            "_view_name": "HBoxView",
            "box_style": "",
            "children": [
              "IPY_MODEL_349b76fcbdf4402581424c7843889c91",
              "IPY_MODEL_1b80e30e77b04463b9224d31e7e7a777",
              "IPY_MODEL_0cf41243f3d54c46a10f7e3075a14e77"
            ],
            "layout": "IPY_MODEL_ca5218606c2740e2ba56b134b3eea170"
          }
        },
        "349b76fcbdf4402581424c7843889c91": {
          "model_module": "@jupyter-widgets/controls",
          "model_name": "HTMLModel",
          "model_module_version": "1.5.0",
          "state": {
            "_dom_classes": [],
            "_model_module": "@jupyter-widgets/controls",
            "_model_module_version": "1.5.0",
            "_model_name": "HTMLModel",
            "_view_count": null,
            "_view_module": "@jupyter-widgets/controls",
            "_view_module_version": "1.5.0",
            "_view_name": "HTMLView",
            "description": "",
            "description_tooltip": null,
            "layout": "IPY_MODEL_2b4f119268934d0dacb0069f0d72c3c5",
            "placeholder": "​",
            "style": "IPY_MODEL_0638f2b778444d5cb1a666dd20d284f2",
            "value": "100%"
          }
        },
        "1b80e30e77b04463b9224d31e7e7a777": {
          "model_module": "@jupyter-widgets/controls",
          "model_name": "FloatProgressModel",
          "model_module_version": "1.5.0",
          "state": {
            "_dom_classes": [],
            "_model_module": "@jupyter-widgets/controls",
            "_model_module_version": "1.5.0",
            "_model_name": "FloatProgressModel",
            "_view_count": null,
            "_view_module": "@jupyter-widgets/controls",
            "_view_module_version": "1.5.0",
            "_view_name": "ProgressView",
            "bar_style": "success",
            "description": "",
            "description_tooltip": null,
            "layout": "IPY_MODEL_9a5ea31edeca4424b70d9c8ddd8b0b3c",
            "max": 26421880,
            "min": 0,
            "orientation": "horizontal",
            "style": "IPY_MODEL_b31275dbcedc40a8b49988bba25f2f1b",
            "value": 26421880
          }
        },
        "0cf41243f3d54c46a10f7e3075a14e77": {
          "model_module": "@jupyter-widgets/controls",
          "model_name": "HTMLModel",
          "model_module_version": "1.5.0",
          "state": {
            "_dom_classes": [],
            "_model_module": "@jupyter-widgets/controls",
            "_model_module_version": "1.5.0",
            "_model_name": "HTMLModel",
            "_view_count": null,
            "_view_module": "@jupyter-widgets/controls",
            "_view_module_version": "1.5.0",
            "_view_name": "HTMLView",
            "description": "",
            "description_tooltip": null,
            "layout": "IPY_MODEL_07dbb5cbe8e0425e8e49bf896ee7f0c2",
            "placeholder": "​",
            "style": "IPY_MODEL_f9523b390e5c46689bd388188a3cd33f",
            "value": " 26421880/26421880 [00:01&lt;00:00, 21960297.83it/s]"
          }
        },
        "ca5218606c2740e2ba56b134b3eea170": {
          "model_module": "@jupyter-widgets/base",
          "model_name": "LayoutModel",
          "model_module_version": "1.2.0",
          "state": {
            "_model_module": "@jupyter-widgets/base",
            "_model_module_version": "1.2.0",
            "_model_name": "LayoutModel",
            "_view_count": null,
            "_view_module": "@jupyter-widgets/base",
            "_view_module_version": "1.2.0",
            "_view_name": "LayoutView",
            "align_content": null,
            "align_items": null,
            "align_self": null,
            "border": null,
            "bottom": null,
            "display": null,
            "flex": null,
            "flex_flow": null,
            "grid_area": null,
            "grid_auto_columns": null,
            "grid_auto_flow": null,
            "grid_auto_rows": null,
            "grid_column": null,
            "grid_gap": null,
            "grid_row": null,
            "grid_template_areas": null,
            "grid_template_columns": null,
            "grid_template_rows": null,
            "height": null,
            "justify_content": null,
            "justify_items": null,
            "left": null,
            "margin": null,
            "max_height": null,
            "max_width": null,
            "min_height": null,
            "min_width": null,
            "object_fit": null,
            "object_position": null,
            "order": null,
            "overflow": null,
            "overflow_x": null,
            "overflow_y": null,
            "padding": null,
            "right": null,
            "top": null,
            "visibility": null,
            "width": null
          }
        },
        "2b4f119268934d0dacb0069f0d72c3c5": {
          "model_module": "@jupyter-widgets/base",
          "model_name": "LayoutModel",
          "model_module_version": "1.2.0",
          "state": {
            "_model_module": "@jupyter-widgets/base",
            "_model_module_version": "1.2.0",
            "_model_name": "LayoutModel",
            "_view_count": null,
            "_view_module": "@jupyter-widgets/base",
            "_view_module_version": "1.2.0",
            "_view_name": "LayoutView",
            "align_content": null,
            "align_items": null,
            "align_self": null,
            "border": null,
            "bottom": null,
            "display": null,
            "flex": null,
            "flex_flow": null,
            "grid_area": null,
            "grid_auto_columns": null,
            "grid_auto_flow": null,
            "grid_auto_rows": null,
            "grid_column": null,
            "grid_gap": null,
            "grid_row": null,
            "grid_template_areas": null,
            "grid_template_columns": null,
            "grid_template_rows": null,
            "height": null,
            "justify_content": null,
            "justify_items": null,
            "left": null,
            "margin": null,
            "max_height": null,
            "max_width": null,
            "min_height": null,
            "min_width": null,
            "object_fit": null,
            "object_position": null,
            "order": null,
            "overflow": null,
            "overflow_x": null,
            "overflow_y": null,
            "padding": null,
            "right": null,
            "top": null,
            "visibility": null,
            "width": null
          }
        },
        "0638f2b778444d5cb1a666dd20d284f2": {
          "model_module": "@jupyter-widgets/controls",
          "model_name": "DescriptionStyleModel",
          "model_module_version": "1.5.0",
          "state": {
            "_model_module": "@jupyter-widgets/controls",
            "_model_module_version": "1.5.0",
            "_model_name": "DescriptionStyleModel",
            "_view_count": null,
            "_view_module": "@jupyter-widgets/base",
            "_view_module_version": "1.2.0",
            "_view_name": "StyleView",
            "description_width": ""
          }
        },
        "9a5ea31edeca4424b70d9c8ddd8b0b3c": {
          "model_module": "@jupyter-widgets/base",
          "model_name": "LayoutModel",
          "model_module_version": "1.2.0",
          "state": {
            "_model_module": "@jupyter-widgets/base",
            "_model_module_version": "1.2.0",
            "_model_name": "LayoutModel",
            "_view_count": null,
            "_view_module": "@jupyter-widgets/base",
            "_view_module_version": "1.2.0",
            "_view_name": "LayoutView",
            "align_content": null,
            "align_items": null,
            "align_self": null,
            "border": null,
            "bottom": null,
            "display": null,
            "flex": null,
            "flex_flow": null,
            "grid_area": null,
            "grid_auto_columns": null,
            "grid_auto_flow": null,
            "grid_auto_rows": null,
            "grid_column": null,
            "grid_gap": null,
            "grid_row": null,
            "grid_template_areas": null,
            "grid_template_columns": null,
            "grid_template_rows": null,
            "height": null,
            "justify_content": null,
            "justify_items": null,
            "left": null,
            "margin": null,
            "max_height": null,
            "max_width": null,
            "min_height": null,
            "min_width": null,
            "object_fit": null,
            "object_position": null,
            "order": null,
            "overflow": null,
            "overflow_x": null,
            "overflow_y": null,
            "padding": null,
            "right": null,
            "top": null,
            "visibility": null,
            "width": null
          }
        },
        "b31275dbcedc40a8b49988bba25f2f1b": {
          "model_module": "@jupyter-widgets/controls",
          "model_name": "ProgressStyleModel",
          "model_module_version": "1.5.0",
          "state": {
            "_model_module": "@jupyter-widgets/controls",
            "_model_module_version": "1.5.0",
            "_model_name": "ProgressStyleModel",
            "_view_count": null,
            "_view_module": "@jupyter-widgets/base",
            "_view_module_version": "1.2.0",
            "_view_name": "StyleView",
            "bar_color": null,
            "description_width": ""
          }
        },
        "07dbb5cbe8e0425e8e49bf896ee7f0c2": {
          "model_module": "@jupyter-widgets/base",
          "model_name": "LayoutModel",
          "model_module_version": "1.2.0",
          "state": {
            "_model_module": "@jupyter-widgets/base",
            "_model_module_version": "1.2.0",
            "_model_name": "LayoutModel",
            "_view_count": null,
            "_view_module": "@jupyter-widgets/base",
            "_view_module_version": "1.2.0",
            "_view_name": "LayoutView",
            "align_content": null,
            "align_items": null,
            "align_self": null,
            "border": null,
            "bottom": null,
            "display": null,
            "flex": null,
            "flex_flow": null,
            "grid_area": null,
            "grid_auto_columns": null,
            "grid_auto_flow": null,
            "grid_auto_rows": null,
            "grid_column": null,
            "grid_gap": null,
            "grid_row": null,
            "grid_template_areas": null,
            "grid_template_columns": null,
            "grid_template_rows": null,
            "height": null,
            "justify_content": null,
            "justify_items": null,
            "left": null,
            "margin": null,
            "max_height": null,
            "max_width": null,
            "min_height": null,
            "min_width": null,
            "object_fit": null,
            "object_position": null,
            "order": null,
            "overflow": null,
            "overflow_x": null,
            "overflow_y": null,
            "padding": null,
            "right": null,
            "top": null,
            "visibility": null,
            "width": null
          }
        },
        "f9523b390e5c46689bd388188a3cd33f": {
          "model_module": "@jupyter-widgets/controls",
          "model_name": "DescriptionStyleModel",
          "model_module_version": "1.5.0",
          "state": {
            "_model_module": "@jupyter-widgets/controls",
            "_model_module_version": "1.5.0",
            "_model_name": "DescriptionStyleModel",
            "_view_count": null,
            "_view_module": "@jupyter-widgets/base",
            "_view_module_version": "1.2.0",
            "_view_name": "StyleView",
            "description_width": ""
          }
        },
        "bd2eb97ce7834fa9997f1148facfa07c": {
          "model_module": "@jupyter-widgets/controls",
          "model_name": "HBoxModel",
          "model_module_version": "1.5.0",
          "state": {
            "_dom_classes": [],
            "_model_module": "@jupyter-widgets/controls",
            "_model_module_version": "1.5.0",
            "_model_name": "HBoxModel",
            "_view_count": null,
            "_view_module": "@jupyter-widgets/controls",
            "_view_module_version": "1.5.0",
            "_view_name": "HBoxView",
            "box_style": "",
            "children": [
              "IPY_MODEL_f676f38d0eb244039838b750c4cd2c24",
              "IPY_MODEL_0689432cf3a04a95978ca40a7b68e6b8",
              "IPY_MODEL_503eb37f61c94d7d99bdea8ad9441a8e"
            ],
            "layout": "IPY_MODEL_386b0d5919834bc9ae3f1f7a21248148"
          }
        },
        "f676f38d0eb244039838b750c4cd2c24": {
          "model_module": "@jupyter-widgets/controls",
          "model_name": "HTMLModel",
          "model_module_version": "1.5.0",
          "state": {
            "_dom_classes": [],
            "_model_module": "@jupyter-widgets/controls",
            "_model_module_version": "1.5.0",
            "_model_name": "HTMLModel",
            "_view_count": null,
            "_view_module": "@jupyter-widgets/controls",
            "_view_module_version": "1.5.0",
            "_view_name": "HTMLView",
            "description": "",
            "description_tooltip": null,
            "layout": "IPY_MODEL_e39de52b77e84da097dfd95ba14d8015",
            "placeholder": "​",
            "style": "IPY_MODEL_0a7e610a3b2b4037896f446ecb0b5c07",
            "value": "100%"
          }
        },
        "0689432cf3a04a95978ca40a7b68e6b8": {
          "model_module": "@jupyter-widgets/controls",
          "model_name": "FloatProgressModel",
          "model_module_version": "1.5.0",
          "state": {
            "_dom_classes": [],
            "_model_module": "@jupyter-widgets/controls",
            "_model_module_version": "1.5.0",
            "_model_name": "FloatProgressModel",
            "_view_count": null,
            "_view_module": "@jupyter-widgets/controls",
            "_view_module_version": "1.5.0",
            "_view_name": "ProgressView",
            "bar_style": "success",
            "description": "",
            "description_tooltip": null,
            "layout": "IPY_MODEL_c44ccf8e712240f8bb49d83df24fa057",
            "max": 29515,
            "min": 0,
            "orientation": "horizontal",
            "style": "IPY_MODEL_abc731ba8a44471fb0c86745b7fa9262",
            "value": 29515
          }
        },
        "503eb37f61c94d7d99bdea8ad9441a8e": {
          "model_module": "@jupyter-widgets/controls",
          "model_name": "HTMLModel",
          "model_module_version": "1.5.0",
          "state": {
            "_dom_classes": [],
            "_model_module": "@jupyter-widgets/controls",
            "_model_module_version": "1.5.0",
            "_model_name": "HTMLModel",
            "_view_count": null,
            "_view_module": "@jupyter-widgets/controls",
            "_view_module_version": "1.5.0",
            "_view_name": "HTMLView",
            "description": "",
            "description_tooltip": null,
            "layout": "IPY_MODEL_a13a774fe2fa45c783d4d348eea46fc8",
            "placeholder": "​",
            "style": "IPY_MODEL_bfb9c6e9f31b40dbbd67556b21932556",
            "value": " 29515/29515 [00:00&lt;00:00, 268628.77it/s]"
          }
        },
        "386b0d5919834bc9ae3f1f7a21248148": {
          "model_module": "@jupyter-widgets/base",
          "model_name": "LayoutModel",
          "model_module_version": "1.2.0",
          "state": {
            "_model_module": "@jupyter-widgets/base",
            "_model_module_version": "1.2.0",
            "_model_name": "LayoutModel",
            "_view_count": null,
            "_view_module": "@jupyter-widgets/base",
            "_view_module_version": "1.2.0",
            "_view_name": "LayoutView",
            "align_content": null,
            "align_items": null,
            "align_self": null,
            "border": null,
            "bottom": null,
            "display": null,
            "flex": null,
            "flex_flow": null,
            "grid_area": null,
            "grid_auto_columns": null,
            "grid_auto_flow": null,
            "grid_auto_rows": null,
            "grid_column": null,
            "grid_gap": null,
            "grid_row": null,
            "grid_template_areas": null,
            "grid_template_columns": null,
            "grid_template_rows": null,
            "height": null,
            "justify_content": null,
            "justify_items": null,
            "left": null,
            "margin": null,
            "max_height": null,
            "max_width": null,
            "min_height": null,
            "min_width": null,
            "object_fit": null,
            "object_position": null,
            "order": null,
            "overflow": null,
            "overflow_x": null,
            "overflow_y": null,
            "padding": null,
            "right": null,
            "top": null,
            "visibility": null,
            "width": null
          }
        },
        "e39de52b77e84da097dfd95ba14d8015": {
          "model_module": "@jupyter-widgets/base",
          "model_name": "LayoutModel",
          "model_module_version": "1.2.0",
          "state": {
            "_model_module": "@jupyter-widgets/base",
            "_model_module_version": "1.2.0",
            "_model_name": "LayoutModel",
            "_view_count": null,
            "_view_module": "@jupyter-widgets/base",
            "_view_module_version": "1.2.0",
            "_view_name": "LayoutView",
            "align_content": null,
            "align_items": null,
            "align_self": null,
            "border": null,
            "bottom": null,
            "display": null,
            "flex": null,
            "flex_flow": null,
            "grid_area": null,
            "grid_auto_columns": null,
            "grid_auto_flow": null,
            "grid_auto_rows": null,
            "grid_column": null,
            "grid_gap": null,
            "grid_row": null,
            "grid_template_areas": null,
            "grid_template_columns": null,
            "grid_template_rows": null,
            "height": null,
            "justify_content": null,
            "justify_items": null,
            "left": null,
            "margin": null,
            "max_height": null,
            "max_width": null,
            "min_height": null,
            "min_width": null,
            "object_fit": null,
            "object_position": null,
            "order": null,
            "overflow": null,
            "overflow_x": null,
            "overflow_y": null,
            "padding": null,
            "right": null,
            "top": null,
            "visibility": null,
            "width": null
          }
        },
        "0a7e610a3b2b4037896f446ecb0b5c07": {
          "model_module": "@jupyter-widgets/controls",
          "model_name": "DescriptionStyleModel",
          "model_module_version": "1.5.0",
          "state": {
            "_model_module": "@jupyter-widgets/controls",
            "_model_module_version": "1.5.0",
            "_model_name": "DescriptionStyleModel",
            "_view_count": null,
            "_view_module": "@jupyter-widgets/base",
            "_view_module_version": "1.2.0",
            "_view_name": "StyleView",
            "description_width": ""
          }
        },
        "c44ccf8e712240f8bb49d83df24fa057": {
          "model_module": "@jupyter-widgets/base",
          "model_name": "LayoutModel",
          "model_module_version": "1.2.0",
          "state": {
            "_model_module": "@jupyter-widgets/base",
            "_model_module_version": "1.2.0",
            "_model_name": "LayoutModel",
            "_view_count": null,
            "_view_module": "@jupyter-widgets/base",
            "_view_module_version": "1.2.0",
            "_view_name": "LayoutView",
            "align_content": null,
            "align_items": null,
            "align_self": null,
            "border": null,
            "bottom": null,
            "display": null,
            "flex": null,
            "flex_flow": null,
            "grid_area": null,
            "grid_auto_columns": null,
            "grid_auto_flow": null,
            "grid_auto_rows": null,
            "grid_column": null,
            "grid_gap": null,
            "grid_row": null,
            "grid_template_areas": null,
            "grid_template_columns": null,
            "grid_template_rows": null,
            "height": null,
            "justify_content": null,
            "justify_items": null,
            "left": null,
            "margin": null,
            "max_height": null,
            "max_width": null,
            "min_height": null,
            "min_width": null,
            "object_fit": null,
            "object_position": null,
            "order": null,
            "overflow": null,
            "overflow_x": null,
            "overflow_y": null,
            "padding": null,
            "right": null,
            "top": null,
            "visibility": null,
            "width": null
          }
        },
        "abc731ba8a44471fb0c86745b7fa9262": {
          "model_module": "@jupyter-widgets/controls",
          "model_name": "ProgressStyleModel",
          "model_module_version": "1.5.0",
          "state": {
            "_model_module": "@jupyter-widgets/controls",
            "_model_module_version": "1.5.0",
            "_model_name": "ProgressStyleModel",
            "_view_count": null,
            "_view_module": "@jupyter-widgets/base",
            "_view_module_version": "1.2.0",
            "_view_name": "StyleView",
            "bar_color": null,
            "description_width": ""
          }
        },
        "a13a774fe2fa45c783d4d348eea46fc8": {
          "model_module": "@jupyter-widgets/base",
          "model_name": "LayoutModel",
          "model_module_version": "1.2.0",
          "state": {
            "_model_module": "@jupyter-widgets/base",
            "_model_module_version": "1.2.0",
            "_model_name": "LayoutModel",
            "_view_count": null,
            "_view_module": "@jupyter-widgets/base",
            "_view_module_version": "1.2.0",
            "_view_name": "LayoutView",
            "align_content": null,
            "align_items": null,
            "align_self": null,
            "border": null,
            "bottom": null,
            "display": null,
            "flex": null,
            "flex_flow": null,
            "grid_area": null,
            "grid_auto_columns": null,
            "grid_auto_flow": null,
            "grid_auto_rows": null,
            "grid_column": null,
            "grid_gap": null,
            "grid_row": null,
            "grid_template_areas": null,
            "grid_template_columns": null,
            "grid_template_rows": null,
            "height": null,
            "justify_content": null,
            "justify_items": null,
            "left": null,
            "margin": null,
            "max_height": null,
            "max_width": null,
            "min_height": null,
            "min_width": null,
            "object_fit": null,
            "object_position": null,
            "order": null,
            "overflow": null,
            "overflow_x": null,
            "overflow_y": null,
            "padding": null,
            "right": null,
            "top": null,
            "visibility": null,
            "width": null
          }
        },
        "bfb9c6e9f31b40dbbd67556b21932556": {
          "model_module": "@jupyter-widgets/controls",
          "model_name": "DescriptionStyleModel",
          "model_module_version": "1.5.0",
          "state": {
            "_model_module": "@jupyter-widgets/controls",
            "_model_module_version": "1.5.0",
            "_model_name": "DescriptionStyleModel",
            "_view_count": null,
            "_view_module": "@jupyter-widgets/base",
            "_view_module_version": "1.2.0",
            "_view_name": "StyleView",
            "description_width": ""
          }
        },
        "17c7f94d71a94b5a9785f1bfe192e43d": {
          "model_module": "@jupyter-widgets/controls",
          "model_name": "HBoxModel",
          "model_module_version": "1.5.0",
          "state": {
            "_dom_classes": [],
            "_model_module": "@jupyter-widgets/controls",
            "_model_module_version": "1.5.0",
            "_model_name": "HBoxModel",
            "_view_count": null,
            "_view_module": "@jupyter-widgets/controls",
            "_view_module_version": "1.5.0",
            "_view_name": "HBoxView",
            "box_style": "",
            "children": [
              "IPY_MODEL_b2d8aeeef73b409494f9839ff08e413a",
              "IPY_MODEL_9303124eefa940feba73c0009cc7b8b1",
              "IPY_MODEL_2c4b8be5e3d44ea3841101973cbb6e17"
            ],
            "layout": "IPY_MODEL_638a74212110478cb9049d4caacf8103"
          }
        },
        "b2d8aeeef73b409494f9839ff08e413a": {
          "model_module": "@jupyter-widgets/controls",
          "model_name": "HTMLModel",
          "model_module_version": "1.5.0",
          "state": {
            "_dom_classes": [],
            "_model_module": "@jupyter-widgets/controls",
            "_model_module_version": "1.5.0",
            "_model_name": "HTMLModel",
            "_view_count": null,
            "_view_module": "@jupyter-widgets/controls",
            "_view_module_version": "1.5.0",
            "_view_name": "HTMLView",
            "description": "",
            "description_tooltip": null,
            "layout": "IPY_MODEL_c08e203968fb4d2a8d48660bd2005591",
            "placeholder": "​",
            "style": "IPY_MODEL_0aa5fce90577442ba94f31d58ffd6af0",
            "value": "100%"
          }
        },
        "9303124eefa940feba73c0009cc7b8b1": {
          "model_module": "@jupyter-widgets/controls",
          "model_name": "FloatProgressModel",
          "model_module_version": "1.5.0",
          "state": {
            "_dom_classes": [],
            "_model_module": "@jupyter-widgets/controls",
            "_model_module_version": "1.5.0",
            "_model_name": "FloatProgressModel",
            "_view_count": null,
            "_view_module": "@jupyter-widgets/controls",
            "_view_module_version": "1.5.0",
            "_view_name": "ProgressView",
            "bar_style": "success",
            "description": "",
            "description_tooltip": null,
            "layout": "IPY_MODEL_e71996ca07d546f596c5092025679143",
            "max": 4422102,
            "min": 0,
            "orientation": "horizontal",
            "style": "IPY_MODEL_95489bfb7e1944fe98fea8a213a9fa13",
            "value": 4422102
          }
        },
        "2c4b8be5e3d44ea3841101973cbb6e17": {
          "model_module": "@jupyter-widgets/controls",
          "model_name": "HTMLModel",
          "model_module_version": "1.5.0",
          "state": {
            "_dom_classes": [],
            "_model_module": "@jupyter-widgets/controls",
            "_model_module_version": "1.5.0",
            "_model_name": "HTMLModel",
            "_view_count": null,
            "_view_module": "@jupyter-widgets/controls",
            "_view_module_version": "1.5.0",
            "_view_name": "HTMLView",
            "description": "",
            "description_tooltip": null,
            "layout": "IPY_MODEL_fe89826536504558893069678526b933",
            "placeholder": "​",
            "style": "IPY_MODEL_e245ba164b1f4c23ac75daea526bf6d9",
            "value": " 4422102/4422102 [00:00&lt;00:00, 7300053.24it/s]"
          }
        },
        "638a74212110478cb9049d4caacf8103": {
          "model_module": "@jupyter-widgets/base",
          "model_name": "LayoutModel",
          "model_module_version": "1.2.0",
          "state": {
            "_model_module": "@jupyter-widgets/base",
            "_model_module_version": "1.2.0",
            "_model_name": "LayoutModel",
            "_view_count": null,
            "_view_module": "@jupyter-widgets/base",
            "_view_module_version": "1.2.0",
            "_view_name": "LayoutView",
            "align_content": null,
            "align_items": null,
            "align_self": null,
            "border": null,
            "bottom": null,
            "display": null,
            "flex": null,
            "flex_flow": null,
            "grid_area": null,
            "grid_auto_columns": null,
            "grid_auto_flow": null,
            "grid_auto_rows": null,
            "grid_column": null,
            "grid_gap": null,
            "grid_row": null,
            "grid_template_areas": null,
            "grid_template_columns": null,
            "grid_template_rows": null,
            "height": null,
            "justify_content": null,
            "justify_items": null,
            "left": null,
            "margin": null,
            "max_height": null,
            "max_width": null,
            "min_height": null,
            "min_width": null,
            "object_fit": null,
            "object_position": null,
            "order": null,
            "overflow": null,
            "overflow_x": null,
            "overflow_y": null,
            "padding": null,
            "right": null,
            "top": null,
            "visibility": null,
            "width": null
          }
        },
        "c08e203968fb4d2a8d48660bd2005591": {
          "model_module": "@jupyter-widgets/base",
          "model_name": "LayoutModel",
          "model_module_version": "1.2.0",
          "state": {
            "_model_module": "@jupyter-widgets/base",
            "_model_module_version": "1.2.0",
            "_model_name": "LayoutModel",
            "_view_count": null,
            "_view_module": "@jupyter-widgets/base",
            "_view_module_version": "1.2.0",
            "_view_name": "LayoutView",
            "align_content": null,
            "align_items": null,
            "align_self": null,
            "border": null,
            "bottom": null,
            "display": null,
            "flex": null,
            "flex_flow": null,
            "grid_area": null,
            "grid_auto_columns": null,
            "grid_auto_flow": null,
            "grid_auto_rows": null,
            "grid_column": null,
            "grid_gap": null,
            "grid_row": null,
            "grid_template_areas": null,
            "grid_template_columns": null,
            "grid_template_rows": null,
            "height": null,
            "justify_content": null,
            "justify_items": null,
            "left": null,
            "margin": null,
            "max_height": null,
            "max_width": null,
            "min_height": null,
            "min_width": null,
            "object_fit": null,
            "object_position": null,
            "order": null,
            "overflow": null,
            "overflow_x": null,
            "overflow_y": null,
            "padding": null,
            "right": null,
            "top": null,
            "visibility": null,
            "width": null
          }
        },
        "0aa5fce90577442ba94f31d58ffd6af0": {
          "model_module": "@jupyter-widgets/controls",
          "model_name": "DescriptionStyleModel",
          "model_module_version": "1.5.0",
          "state": {
            "_model_module": "@jupyter-widgets/controls",
            "_model_module_version": "1.5.0",
            "_model_name": "DescriptionStyleModel",
            "_view_count": null,
            "_view_module": "@jupyter-widgets/base",
            "_view_module_version": "1.2.0",
            "_view_name": "StyleView",
            "description_width": ""
          }
        },
        "e71996ca07d546f596c5092025679143": {
          "model_module": "@jupyter-widgets/base",
          "model_name": "LayoutModel",
          "model_module_version": "1.2.0",
          "state": {
            "_model_module": "@jupyter-widgets/base",
            "_model_module_version": "1.2.0",
            "_model_name": "LayoutModel",
            "_view_count": null,
            "_view_module": "@jupyter-widgets/base",
            "_view_module_version": "1.2.0",
            "_view_name": "LayoutView",
            "align_content": null,
            "align_items": null,
            "align_self": null,
            "border": null,
            "bottom": null,
            "display": null,
            "flex": null,
            "flex_flow": null,
            "grid_area": null,
            "grid_auto_columns": null,
            "grid_auto_flow": null,
            "grid_auto_rows": null,
            "grid_column": null,
            "grid_gap": null,
            "grid_row": null,
            "grid_template_areas": null,
            "grid_template_columns": null,
            "grid_template_rows": null,
            "height": null,
            "justify_content": null,
            "justify_items": null,
            "left": null,
            "margin": null,
            "max_height": null,
            "max_width": null,
            "min_height": null,
            "min_width": null,
            "object_fit": null,
            "object_position": null,
            "order": null,
            "overflow": null,
            "overflow_x": null,
            "overflow_y": null,
            "padding": null,
            "right": null,
            "top": null,
            "visibility": null,
            "width": null
          }
        },
        "95489bfb7e1944fe98fea8a213a9fa13": {
          "model_module": "@jupyter-widgets/controls",
          "model_name": "ProgressStyleModel",
          "model_module_version": "1.5.0",
          "state": {
            "_model_module": "@jupyter-widgets/controls",
            "_model_module_version": "1.5.0",
            "_model_name": "ProgressStyleModel",
            "_view_count": null,
            "_view_module": "@jupyter-widgets/base",
            "_view_module_version": "1.2.0",
            "_view_name": "StyleView",
            "bar_color": null,
            "description_width": ""
          }
        },
        "fe89826536504558893069678526b933": {
          "model_module": "@jupyter-widgets/base",
          "model_name": "LayoutModel",
          "model_module_version": "1.2.0",
          "state": {
            "_model_module": "@jupyter-widgets/base",
            "_model_module_version": "1.2.0",
            "_model_name": "LayoutModel",
            "_view_count": null,
            "_view_module": "@jupyter-widgets/base",
            "_view_module_version": "1.2.0",
            "_view_name": "LayoutView",
            "align_content": null,
            "align_items": null,
            "align_self": null,
            "border": null,
            "bottom": null,
            "display": null,
            "flex": null,
            "flex_flow": null,
            "grid_area": null,
            "grid_auto_columns": null,
            "grid_auto_flow": null,
            "grid_auto_rows": null,
            "grid_column": null,
            "grid_gap": null,
            "grid_row": null,
            "grid_template_areas": null,
            "grid_template_columns": null,
            "grid_template_rows": null,
            "height": null,
            "justify_content": null,
            "justify_items": null,
            "left": null,
            "margin": null,
            "max_height": null,
            "max_width": null,
            "min_height": null,
            "min_width": null,
            "object_fit": null,
            "object_position": null,
            "order": null,
            "overflow": null,
            "overflow_x": null,
            "overflow_y": null,
            "padding": null,
            "right": null,
            "top": null,
            "visibility": null,
            "width": null
          }
        },
        "e245ba164b1f4c23ac75daea526bf6d9": {
          "model_module": "@jupyter-widgets/controls",
          "model_name": "DescriptionStyleModel",
          "model_module_version": "1.5.0",
          "state": {
            "_model_module": "@jupyter-widgets/controls",
            "_model_module_version": "1.5.0",
            "_model_name": "DescriptionStyleModel",
            "_view_count": null,
            "_view_module": "@jupyter-widgets/base",
            "_view_module_version": "1.2.0",
            "_view_name": "StyleView",
            "description_width": ""
          }
        },
        "f312df5369dc48b48ecd06fecb1331a7": {
          "model_module": "@jupyter-widgets/controls",
          "model_name": "HBoxModel",
          "model_module_version": "1.5.0",
          "state": {
            "_dom_classes": [],
            "_model_module": "@jupyter-widgets/controls",
            "_model_module_version": "1.5.0",
            "_model_name": "HBoxModel",
            "_view_count": null,
            "_view_module": "@jupyter-widgets/controls",
            "_view_module_version": "1.5.0",
            "_view_name": "HBoxView",
            "box_style": "",
            "children": [
              "IPY_MODEL_11cee5e6d531461d94bcede3cbd7ddbf",
              "IPY_MODEL_46baf41dacfe422bbdf78499151cdcbb",
              "IPY_MODEL_6b8de6f9fe074361a71f95def48cf719"
            ],
            "layout": "IPY_MODEL_3bb7a398cbb94339857165510ac93ac7"
          }
        },
        "11cee5e6d531461d94bcede3cbd7ddbf": {
          "model_module": "@jupyter-widgets/controls",
          "model_name": "HTMLModel",
          "model_module_version": "1.5.0",
          "state": {
            "_dom_classes": [],
            "_model_module": "@jupyter-widgets/controls",
            "_model_module_version": "1.5.0",
            "_model_name": "HTMLModel",
            "_view_count": null,
            "_view_module": "@jupyter-widgets/controls",
            "_view_module_version": "1.5.0",
            "_view_name": "HTMLView",
            "description": "",
            "description_tooltip": null,
            "layout": "IPY_MODEL_75989db971f043688d377cc2907c4678",
            "placeholder": "​",
            "style": "IPY_MODEL_38421e1651364626a63e839229b6253f",
            "value": "100%"
          }
        },
        "46baf41dacfe422bbdf78499151cdcbb": {
          "model_module": "@jupyter-widgets/controls",
          "model_name": "FloatProgressModel",
          "model_module_version": "1.5.0",
          "state": {
            "_dom_classes": [],
            "_model_module": "@jupyter-widgets/controls",
            "_model_module_version": "1.5.0",
            "_model_name": "FloatProgressModel",
            "_view_count": null,
            "_view_module": "@jupyter-widgets/controls",
            "_view_module_version": "1.5.0",
            "_view_name": "ProgressView",
            "bar_style": "success",
            "description": "",
            "description_tooltip": null,
            "layout": "IPY_MODEL_1a5bf9f771dd47f8ac904e81cf8cb6de",
            "max": 5148,
            "min": 0,
            "orientation": "horizontal",
            "style": "IPY_MODEL_db082ce79dab48bbac7dc4a7a5a0837d",
            "value": 5148
          }
        },
        "6b8de6f9fe074361a71f95def48cf719": {
          "model_module": "@jupyter-widgets/controls",
          "model_name": "HTMLModel",
          "model_module_version": "1.5.0",
          "state": {
            "_dom_classes": [],
            "_model_module": "@jupyter-widgets/controls",
            "_model_module_version": "1.5.0",
            "_model_name": "HTMLModel",
            "_view_count": null,
            "_view_module": "@jupyter-widgets/controls",
            "_view_module_version": "1.5.0",
            "_view_name": "HTMLView",
            "description": "",
            "description_tooltip": null,
            "layout": "IPY_MODEL_993e66f39bb94f1eb4d975831a93ca02",
            "placeholder": "​",
            "style": "IPY_MODEL_d1c88ef2923747859f36bd42dc16d1f8",
            "value": " 5148/5148 [00:00&lt;00:00, 159350.25it/s]"
          }
        },
        "3bb7a398cbb94339857165510ac93ac7": {
          "model_module": "@jupyter-widgets/base",
          "model_name": "LayoutModel",
          "model_module_version": "1.2.0",
          "state": {
            "_model_module": "@jupyter-widgets/base",
            "_model_module_version": "1.2.0",
            "_model_name": "LayoutModel",
            "_view_count": null,
            "_view_module": "@jupyter-widgets/base",
            "_view_module_version": "1.2.0",
            "_view_name": "LayoutView",
            "align_content": null,
            "align_items": null,
            "align_self": null,
            "border": null,
            "bottom": null,
            "display": null,
            "flex": null,
            "flex_flow": null,
            "grid_area": null,
            "grid_auto_columns": null,
            "grid_auto_flow": null,
            "grid_auto_rows": null,
            "grid_column": null,
            "grid_gap": null,
            "grid_row": null,
            "grid_template_areas": null,
            "grid_template_columns": null,
            "grid_template_rows": null,
            "height": null,
            "justify_content": null,
            "justify_items": null,
            "left": null,
            "margin": null,
            "max_height": null,
            "max_width": null,
            "min_height": null,
            "min_width": null,
            "object_fit": null,
            "object_position": null,
            "order": null,
            "overflow": null,
            "overflow_x": null,
            "overflow_y": null,
            "padding": null,
            "right": null,
            "top": null,
            "visibility": null,
            "width": null
          }
        },
        "75989db971f043688d377cc2907c4678": {
          "model_module": "@jupyter-widgets/base",
          "model_name": "LayoutModel",
          "model_module_version": "1.2.0",
          "state": {
            "_model_module": "@jupyter-widgets/base",
            "_model_module_version": "1.2.0",
            "_model_name": "LayoutModel",
            "_view_count": null,
            "_view_module": "@jupyter-widgets/base",
            "_view_module_version": "1.2.0",
            "_view_name": "LayoutView",
            "align_content": null,
            "align_items": null,
            "align_self": null,
            "border": null,
            "bottom": null,
            "display": null,
            "flex": null,
            "flex_flow": null,
            "grid_area": null,
            "grid_auto_columns": null,
            "grid_auto_flow": null,
            "grid_auto_rows": null,
            "grid_column": null,
            "grid_gap": null,
            "grid_row": null,
            "grid_template_areas": null,
            "grid_template_columns": null,
            "grid_template_rows": null,
            "height": null,
            "justify_content": null,
            "justify_items": null,
            "left": null,
            "margin": null,
            "max_height": null,
            "max_width": null,
            "min_height": null,
            "min_width": null,
            "object_fit": null,
            "object_position": null,
            "order": null,
            "overflow": null,
            "overflow_x": null,
            "overflow_y": null,
            "padding": null,
            "right": null,
            "top": null,
            "visibility": null,
            "width": null
          }
        },
        "38421e1651364626a63e839229b6253f": {
          "model_module": "@jupyter-widgets/controls",
          "model_name": "DescriptionStyleModel",
          "model_module_version": "1.5.0",
          "state": {
            "_model_module": "@jupyter-widgets/controls",
            "_model_module_version": "1.5.0",
            "_model_name": "DescriptionStyleModel",
            "_view_count": null,
            "_view_module": "@jupyter-widgets/base",
            "_view_module_version": "1.2.0",
            "_view_name": "StyleView",
            "description_width": ""
          }
        },
        "1a5bf9f771dd47f8ac904e81cf8cb6de": {
          "model_module": "@jupyter-widgets/base",
          "model_name": "LayoutModel",
          "model_module_version": "1.2.0",
          "state": {
            "_model_module": "@jupyter-widgets/base",
            "_model_module_version": "1.2.0",
            "_model_name": "LayoutModel",
            "_view_count": null,
            "_view_module": "@jupyter-widgets/base",
            "_view_module_version": "1.2.0",
            "_view_name": "LayoutView",
            "align_content": null,
            "align_items": null,
            "align_self": null,
            "border": null,
            "bottom": null,
            "display": null,
            "flex": null,
            "flex_flow": null,
            "grid_area": null,
            "grid_auto_columns": null,
            "grid_auto_flow": null,
            "grid_auto_rows": null,
            "grid_column": null,
            "grid_gap": null,
            "grid_row": null,
            "grid_template_areas": null,
            "grid_template_columns": null,
            "grid_template_rows": null,
            "height": null,
            "justify_content": null,
            "justify_items": null,
            "left": null,
            "margin": null,
            "max_height": null,
            "max_width": null,
            "min_height": null,
            "min_width": null,
            "object_fit": null,
            "object_position": null,
            "order": null,
            "overflow": null,
            "overflow_x": null,
            "overflow_y": null,
            "padding": null,
            "right": null,
            "top": null,
            "visibility": null,
            "width": null
          }
        },
        "db082ce79dab48bbac7dc4a7a5a0837d": {
          "model_module": "@jupyter-widgets/controls",
          "model_name": "ProgressStyleModel",
          "model_module_version": "1.5.0",
          "state": {
            "_model_module": "@jupyter-widgets/controls",
            "_model_module_version": "1.5.0",
            "_model_name": "ProgressStyleModel",
            "_view_count": null,
            "_view_module": "@jupyter-widgets/base",
            "_view_module_version": "1.2.0",
            "_view_name": "StyleView",
            "bar_color": null,
            "description_width": ""
          }
        },
        "993e66f39bb94f1eb4d975831a93ca02": {
          "model_module": "@jupyter-widgets/base",
          "model_name": "LayoutModel",
          "model_module_version": "1.2.0",
          "state": {
            "_model_module": "@jupyter-widgets/base",
            "_model_module_version": "1.2.0",
            "_model_name": "LayoutModel",
            "_view_count": null,
            "_view_module": "@jupyter-widgets/base",
            "_view_module_version": "1.2.0",
            "_view_name": "LayoutView",
            "align_content": null,
            "align_items": null,
            "align_self": null,
            "border": null,
            "bottom": null,
            "display": null,
            "flex": null,
            "flex_flow": null,
            "grid_area": null,
            "grid_auto_columns": null,
            "grid_auto_flow": null,
            "grid_auto_rows": null,
            "grid_column": null,
            "grid_gap": null,
            "grid_row": null,
            "grid_template_areas": null,
            "grid_template_columns": null,
            "grid_template_rows": null,
            "height": null,
            "justify_content": null,
            "justify_items": null,
            "left": null,
            "margin": null,
            "max_height": null,
            "max_width": null,
            "min_height": null,
            "min_width": null,
            "object_fit": null,
            "object_position": null,
            "order": null,
            "overflow": null,
            "overflow_x": null,
            "overflow_y": null,
            "padding": null,
            "right": null,
            "top": null,
            "visibility": null,
            "width": null
          }
        },
        "d1c88ef2923747859f36bd42dc16d1f8": {
          "model_module": "@jupyter-widgets/controls",
          "model_name": "DescriptionStyleModel",
          "model_module_version": "1.5.0",
          "state": {
            "_model_module": "@jupyter-widgets/controls",
            "_model_module_version": "1.5.0",
            "_model_name": "DescriptionStyleModel",
            "_view_count": null,
            "_view_module": "@jupyter-widgets/base",
            "_view_module_version": "1.2.0",
            "_view_name": "StyleView",
            "description_width": ""
          }
        }
      }
    }
  },
  "cells": [
    {
      "cell_type": "markdown",
      "metadata": {
        "id": "view-in-github",
        "colab_type": "text"
      },
      "source": [
        "<a href=\"https://colab.research.google.com/github/SeoJiWon1/ML-DL/blob/main/Pytorch_Tutorial_DNN.ipynb\" target=\"_parent\"><img src=\"https://colab.research.google.com/assets/colab-badge.svg\" alt=\"Open In Colab\"/></a>"
      ]
    },
    {
      "cell_type": "markdown",
      "source": [
        "# 텐서(Tensor)"
      ],
      "metadata": {
        "id": "wMxmfH9JMIip"
      }
    },
    {
      "cell_type": "code",
      "execution_count": null,
      "metadata": {
        "id": "HVWrl0NyesfT"
      },
      "outputs": [],
      "source": [
        "import torch\n",
        "import numpy as np"
      ]
    },
    {
      "cell_type": "code",
      "source": [
        "# 텐서로 바꾸기 \n",
        "data = [[1,2],[3,4]]\n",
        "x_data = torch.tensor(data)\n",
        "x_data"
      ],
      "metadata": {
        "colab": {
          "base_uri": "https://localhost:8080/"
        },
        "id": "8tsXyQlUfJPx",
        "outputId": "1ffcb948-8d8f-40d0-f063-efd1c7e76a66"
      },
      "execution_count": null,
      "outputs": [
        {
          "output_type": "execute_result",
          "data": {
            "text/plain": [
              "tensor([[1, 2],\n",
              "        [3, 4]])"
            ]
          },
          "metadata": {},
          "execution_count": 2
        }
      ]
    },
    {
      "cell_type": "code",
      "source": [
        "# 넘파이에서 텐서로 바꾸기\n",
        "np_array = np.array(data)\n",
        "x_np = torch.from_numpy(np_array)\n",
        "x_np"
      ],
      "metadata": {
        "colab": {
          "base_uri": "https://localhost:8080/"
        },
        "id": "5WhObcCXg7WH",
        "outputId": "168ec3c4-24fe-4e43-fcbd-1ac604d4783a"
      },
      "execution_count": null,
      "outputs": [
        {
          "output_type": "execute_result",
          "data": {
            "text/plain": [
              "tensor([[1, 2],\n",
              "        [3, 4]])"
            ]
          },
          "metadata": {},
          "execution_count": 3
        }
      ]
    },
    {
      "cell_type": "code",
      "source": [
        "np_array"
      ],
      "metadata": {
        "colab": {
          "base_uri": "https://localhost:8080/"
        },
        "id": "a1jKV_FChRUF",
        "outputId": "a8f551a5-e97a-435d-c30c-3ca409d95060"
      },
      "execution_count": null,
      "outputs": [
        {
          "output_type": "execute_result",
          "data": {
            "text/plain": [
              "array([[1, 2],\n",
              "       [3, 4]])"
            ]
          },
          "metadata": {},
          "execution_count": 4
        }
      ]
    },
    {
      "cell_type": "code",
      "source": [
        "# 무작위 또는 상수 값 활용하는 텐서 만들기 \n",
        "shape = (2, 3)\n",
        "rand_tensor = torch.rand(shape)\n",
        "ones_tensor = torch.ones(shape)\n",
        "zeros_tensor = torch.zeros(shape)\n",
        "print(f\"Random Tensor: \\n {rand_tensor} \\n\")\n",
        "print(f\"Ones Tensor: \\n {ones_tensor} \\n\")\n",
        "print(f\"Zeros Tensor: \\n {zeros_tensor}\")"
      ],
      "metadata": {
        "colab": {
          "base_uri": "https://localhost:8080/"
        },
        "id": "yXPkK_bT1Hgf",
        "outputId": "c9b5bc97-38ad-4ed7-9e7e-372e7b273ecc"
      },
      "execution_count": null,
      "outputs": [
        {
          "output_type": "stream",
          "name": "stdout",
          "text": [
            "Random Tensor: \n",
            " tensor([[0.9834, 0.9818, 0.9408],\n",
            "        [0.0541, 0.3845, 0.2521]]) \n",
            "\n",
            "Ones Tensor: \n",
            " tensor([[1., 1., 1.],\n",
            "        [1., 1., 1.]]) \n",
            "\n",
            "Zeros Tensor: \n",
            " tensor([[0., 0., 0.],\n",
            "        [0., 0., 0.]])\n"
          ]
        }
      ]
    },
    {
      "cell_type": "code",
      "source": [
        "# 텐서의 모양 타입 확인 \n",
        "tensor = torch.rand(3,4)\n",
        "tensor.shape\n",
        "tensor.dtype\n",
        "tensor.device\n",
        "\n",
        "print(f\"Shape of tensor: {tensor.shape}\")\n",
        "print(f\"Datatype of tensor: {tensor.dtype}\")\n",
        "print(f\"Device tensor is stored on: {tensor.device}\")"
      ],
      "metadata": {
        "colab": {
          "base_uri": "https://localhost:8080/"
        },
        "id": "9DejNuAH1d5H",
        "outputId": "383c94bc-b766-4d3b-abd2-21cfbb53814d"
      },
      "execution_count": null,
      "outputs": [
        {
          "output_type": "stream",
          "name": "stdout",
          "text": [
            "Shape of tensor: torch.Size([3, 4])\n",
            "Datatype of tensor: torch.float32\n",
            "Device tensor is stored on: cpu\n"
          ]
        }
      ]
    },
    {
      "cell_type": "code",
      "source": [
        "# 텐서 연산\n",
        "# GPU가 존재하면 텐서를 이동합니다. \n",
        "if torch.cuda.is_available():\n",
        "    tensor = tensor.to(\"cuda\")"
      ],
      "metadata": {
        "id": "szL27_G614IY"
      },
      "execution_count": null,
      "outputs": []
    },
    {
      "cell_type": "code",
      "source": [
        "# tensor의 표준 인덱싱과 슬라이싱\n",
        "tensor = torch.ones(4, 4)\n",
        "tensor[:,1]= 0\n",
        "print(tensor)"
      ],
      "metadata": {
        "colab": {
          "base_uri": "https://localhost:8080/"
        },
        "id": "Up7BoACqHEPu",
        "outputId": "da9bc7d0-f6b7-424c-abac-e61c1978e9da"
      },
      "execution_count": null,
      "outputs": [
        {
          "output_type": "stream",
          "name": "stdout",
          "text": [
            "tensor([[1., 0., 1., 1.],\n",
            "        [1., 0., 1., 1.],\n",
            "        [1., 0., 1., 1.],\n",
            "        [1., 0., 1., 1.]])\n"
          ]
        }
      ]
    },
    {
      "cell_type": "code",
      "source": [
        "# 텐서 합치기\n",
        "# torch.cat 활용\n",
        "t1 = torch.cat([tensor, tensor, tensor], dim=1)\n",
        "print(t1)"
      ],
      "metadata": {
        "colab": {
          "base_uri": "https://localhost:8080/"
        },
        "id": "emqN1FVBIHxR",
        "outputId": "88129cd1-f992-4a55-bfd9-0e016d9dc74c"
      },
      "execution_count": null,
      "outputs": [
        {
          "output_type": "stream",
          "name": "stdout",
          "text": [
            "tensor([[1., 0., 1., 1., 1., 0., 1., 1., 1., 0., 1., 1.],\n",
            "        [1., 0., 1., 1., 1., 0., 1., 1., 1., 0., 1., 1.],\n",
            "        [1., 0., 1., 1., 1., 0., 1., 1., 1., 0., 1., 1.],\n",
            "        [1., 0., 1., 1., 1., 0., 1., 1., 1., 0., 1., 1.]])\n"
          ]
        }
      ]
    },
    {
      "cell_type": "code",
      "source": [
        "a = tensor +  tensor\n",
        "print(a)"
      ],
      "metadata": {
        "colab": {
          "base_uri": "https://localhost:8080/"
        },
        "id": "zCg6AXXSIsSA",
        "outputId": "7e8a49c0-2cb6-4b0c-db6c-5a7e89809c06"
      },
      "execution_count": null,
      "outputs": [
        {
          "output_type": "stream",
          "name": "stdout",
          "text": [
            "tensor([[2., 0., 2., 2.],\n",
            "        [2., 0., 2., 2.],\n",
            "        [2., 0., 2., 2.],\n",
            "        [2., 0., 2., 2.]])\n"
          ]
        }
      ]
    },
    {
      "cell_type": "code",
      "source": [
        "# 산술  연산\n",
        "# 두 텐서 간의 행렬 곱 계산 \n",
        "y1 = tensor @ tensor.T\n",
        "print(y1)"
      ],
      "metadata": {
        "colab": {
          "base_uri": "https://localhost:8080/"
        },
        "id": "PZPtTINJI3nW",
        "outputId": "743c1c4f-453a-4772-e2a3-656201b37408"
      },
      "execution_count": null,
      "outputs": [
        {
          "output_type": "stream",
          "name": "stdout",
          "text": [
            "tensor([[3., 3., 3., 3.],\n",
            "        [3., 3., 3., 3.],\n",
            "        [3., 3., 3., 3.],\n",
            "        [3., 3., 3., 3.]])\n"
          ]
        }
      ]
    },
    {
      "cell_type": "code",
      "source": [
        "y2 = tensor.matmul(tensor.T)\n",
        "print(y2)"
      ],
      "metadata": {
        "colab": {
          "base_uri": "https://localhost:8080/"
        },
        "id": "4lR4xQ80JgKq",
        "outputId": "3b72d589-bb40-4b0b-988b-7cd9294e5a04"
      },
      "execution_count": null,
      "outputs": [
        {
          "output_type": "stream",
          "name": "stdout",
          "text": [
            "tensor([[3., 3., 3., 3.],\n",
            "        [3., 3., 3., 3.],\n",
            "        [3., 3., 3., 3.],\n",
            "        [3., 3., 3., 3.]])\n"
          ]
        }
      ]
    },
    {
      "cell_type": "code",
      "source": [
        "y3 = torch.rand_like(y1)\n",
        "print(y3)"
      ],
      "metadata": {
        "colab": {
          "base_uri": "https://localhost:8080/"
        },
        "id": "FwTEYpINJg9x",
        "outputId": "41dd5d7d-09a9-4b2b-acef-15f8dec24067"
      },
      "execution_count": null,
      "outputs": [
        {
          "output_type": "stream",
          "name": "stdout",
          "text": [
            "tensor([[0.3580, 0.2788, 0.4376, 0.5727],\n",
            "        [0.9641, 0.1136, 0.8040, 0.4041],\n",
            "        [0.1830, 0.0039, 0.4305, 0.4051],\n",
            "        [0.4747, 0.7826, 0.2027, 0.3620]])\n"
          ]
        }
      ]
    },
    {
      "cell_type": "code",
      "source": [
        "z1 = tensor * tensor\n",
        "print(z1)"
      ],
      "metadata": {
        "colab": {
          "base_uri": "https://localhost:8080/"
        },
        "id": "TNxqicv4Jw-K",
        "outputId": "7075f71b-85b7-4e70-99f5-e8caf189819f"
      },
      "execution_count": null,
      "outputs": [
        {
          "output_type": "stream",
          "name": "stdout",
          "text": [
            "tensor([[1., 0., 1., 1.],\n",
            "        [1., 0., 1., 1.],\n",
            "        [1., 0., 1., 1.],\n",
            "        [1., 0., 1., 1.]])\n"
          ]
        }
      ]
    },
    {
      "cell_type": "code",
      "source": [
        "z2 = tensor.mul(tensor)\n",
        "print(z2)"
      ],
      "metadata": {
        "colab": {
          "base_uri": "https://localhost:8080/"
        },
        "id": "ZVrcinW1KFwR",
        "outputId": "049c3c5b-fe52-4c39-e8e9-bb9fcfd729f1"
      },
      "execution_count": null,
      "outputs": [
        {
          "output_type": "stream",
          "name": "stdout",
          "text": [
            "tensor([[1., 0., 1., 1.],\n",
            "        [1., 0., 1., 1.],\n",
            "        [1., 0., 1., 1.],\n",
            "        [1., 0., 1., 1.]])\n"
          ]
        }
      ]
    },
    {
      "cell_type": "markdown",
      "source": [
        "# Dataset 과 DataLoader"
      ],
      "metadata": {
        "id": "flXTB_VtMNTY"
      }
    },
    {
      "cell_type": "markdown",
      "source": [
        "## 데이터셋 불러오기"
      ],
      "metadata": {
        "id": "8RdjXC0_MunI"
      }
    },
    {
      "cell_type": "markdown",
      "source": [
        "* root 는 학습/테스트 데이터가 저장되는 경로입니다.\n",
        "\n",
        "* train 은 학습용 또는 테스트용 데이터셋 여부를 지정합니다.\n",
        "\n",
        "* download=True 는 root 에 데이터가 없는 경우 인터넷에서 다운로드합니다.\n",
        "\n",
        "* transform 과 target_transform 은 특징(feature)과 정답(label) 변형(transform)을 지정합니다."
      ],
      "metadata": {
        "id": "3BgFNwCVPK4Q"
      }
    },
    {
      "cell_type": "markdown",
      "source": [
        "* torch.utils.data\n",
        "    * 데이터셋의 표준을 정의하고 데이터셋을 불러오고 자르고 섞는 데 쓰는 도구들이 들어있는 모습\n",
        "    * 파이토치 모델을 학습시키기 위한 데이터셋의 표준을 torch.utils.data.Dataset에 정의\n",
        "    * Dataset 모듈을 상속하는 파생 클래스는 학습에 필요한 데이터를 로딩해주는 torch.utils.data.DataLoader 인스턴스의 입력으로 사용할 수 있음\n",
        "* torchvision.datasets\n",
        "    * torch.utils.data.Dataset을 상속하는 이미지 데이터셋의 모음. 패션 아이템 데이터셋이 바로 여기에 들어있음\n",
        "* torchvision.transforms\n",
        "    * 이미지 데이터셋에 쓸 수 있는 여러 가지 변환 필터를 담고 있는 모듈.\n",
        "    * 예를 들어 텐서로 변환한다든지, 크기 조절(resize)과 크롭(crop)으로 이미지를 수정할 수도 있고, 밝기(brightness), 대비(contrast) 등을 조절하는 데 사용될 수도 있음\n",
        "* torchvision.utils\n",
        "    * 이미지 데이터를 저장하고 시각화하기 위한 도구가 들어있는 모듈"
      ],
      "metadata": {
        "id": "ktOYxe34YUUt"
      }
    },
    {
      "cell_type": "code",
      "source": [
        "from torchvision import datasets, transforms, utils\n",
        "from torch.utils import data"
      ],
      "metadata": {
        "id": "HWr-gl1mcg4c"
      },
      "execution_count": null,
      "outputs": []
    },
    {
      "cell_type": "code",
      "source": [
        "import numpy as np\n",
        "import matplotlib.pyplot as plt"
      ],
      "metadata": {
        "id": "OLDtYGlAenpW"
      },
      "execution_count": null,
      "outputs": []
    },
    {
      "cell_type": "code",
      "source": [
        "# 이미지를 텐서로 변환\n",
        "# 토치비전의 transforms : 입력받은 이미지를 변환시키는 도구\n",
        "# 기능을 추가하고 싶다 -> transforms.Compose() 함수 안의 리스트로 넣어주면 순서대로 변환\n",
        "transform = transforms.Compose([\n",
        "    transforms.ToTensor()\n",
        "])"
      ],
      "metadata": {
        "id": "WImTYwqZe14b"
      },
      "execution_count": null,
      "outputs": []
    },
    {
      "cell_type": "markdown",
      "source": [
        "## Transforms에서 자주 쓰이는 기능\n",
        "* ToTensor : 이미지를 파이토치 텐서로 변환\n",
        "* Resize : 이미지 크기 조정\n",
        "* Normalize : 주어진 평균과 표준편차를 이용하여 정규화\n",
        "* RandomHorizontalFlip : 무작위로 이미지의 오른쪽과 왼쪽을 뒤집는 기능\n",
        "* RandomCrop : 이미지를 무작위로 자르는 기능"
      ],
      "metadata": {
        "id": "-NgN4QDnf8-D"
      }
    },
    {
      "cell_type": "code",
      "source": [
        "# Fashion MNIST 데이터셋 불러오기\n",
        "# 토치비전의 datesets 패키지 : 데이터셋을 내려받고, Compose로 만든 이미지 변환 설정을 적용하는데 사용\n",
        "# 데이터셋을 번거롭게 다운로드 받을 필요 없고, 'download = True'. -> 현재 root 폴더. 데이터 존재 여부 판단 -> 다운로드 받아줌\n",
        "# 훈련셋/시험셋 -> train = T/F\n",
        "trainset = datasets.FashionMNIST(\n",
        "    root = './.data/',\n",
        "    train = True,\n",
        "    download = True,\n",
        "    transform = transform # ToTensor를 통해 이미지를 파이토치 Tensor화\n",
        ")\n",
        "testset = datasets.FashionMNIST(\n",
        "    root = './.data/',\n",
        "    train = False, # 시험셋\n",
        "    download = True,\n",
        "    transform = transform # ToTensor를 통해 이미지를 파이토치 Tensor화\n",
        ")"
      ],
      "metadata": {
        "id": "npgaSSHJf7Ez",
        "colab": {
          "base_uri": "https://localhost:8080/",
          "height": 439,
          "referenced_widgets": [
            "a187cb057415432883388a65259f55d2",
            "349b76fcbdf4402581424c7843889c91",
            "1b80e30e77b04463b9224d31e7e7a777",
            "0cf41243f3d54c46a10f7e3075a14e77",
            "ca5218606c2740e2ba56b134b3eea170",
            "2b4f119268934d0dacb0069f0d72c3c5",
            "0638f2b778444d5cb1a666dd20d284f2",
            "9a5ea31edeca4424b70d9c8ddd8b0b3c",
            "b31275dbcedc40a8b49988bba25f2f1b",
            "07dbb5cbe8e0425e8e49bf896ee7f0c2",
            "f9523b390e5c46689bd388188a3cd33f",
            "bd2eb97ce7834fa9997f1148facfa07c",
            "f676f38d0eb244039838b750c4cd2c24",
            "0689432cf3a04a95978ca40a7b68e6b8",
            "503eb37f61c94d7d99bdea8ad9441a8e",
            "386b0d5919834bc9ae3f1f7a21248148",
            "e39de52b77e84da097dfd95ba14d8015",
            "0a7e610a3b2b4037896f446ecb0b5c07",
            "c44ccf8e712240f8bb49d83df24fa057",
            "abc731ba8a44471fb0c86745b7fa9262",
            "a13a774fe2fa45c783d4d348eea46fc8",
            "bfb9c6e9f31b40dbbd67556b21932556",
            "17c7f94d71a94b5a9785f1bfe192e43d",
            "b2d8aeeef73b409494f9839ff08e413a",
            "9303124eefa940feba73c0009cc7b8b1",
            "2c4b8be5e3d44ea3841101973cbb6e17",
            "638a74212110478cb9049d4caacf8103",
            "c08e203968fb4d2a8d48660bd2005591",
            "0aa5fce90577442ba94f31d58ffd6af0",
            "e71996ca07d546f596c5092025679143",
            "95489bfb7e1944fe98fea8a213a9fa13",
            "fe89826536504558893069678526b933",
            "e245ba164b1f4c23ac75daea526bf6d9",
            "f312df5369dc48b48ecd06fecb1331a7",
            "11cee5e6d531461d94bcede3cbd7ddbf",
            "46baf41dacfe422bbdf78499151cdcbb",
            "6b8de6f9fe074361a71f95def48cf719",
            "3bb7a398cbb94339857165510ac93ac7",
            "75989db971f043688d377cc2907c4678",
            "38421e1651364626a63e839229b6253f",
            "1a5bf9f771dd47f8ac904e81cf8cb6de",
            "db082ce79dab48bbac7dc4a7a5a0837d",
            "993e66f39bb94f1eb4d975831a93ca02",
            "d1c88ef2923747859f36bd42dc16d1f8"
          ]
        },
        "outputId": "70692254-6f88-467f-ccc5-79ae953e688e"
      },
      "execution_count": null,
      "outputs": [
        {
          "output_type": "stream",
          "name": "stdout",
          "text": [
            "Downloading http://fashion-mnist.s3-website.eu-central-1.amazonaws.com/train-images-idx3-ubyte.gz\n",
            "Downloading http://fashion-mnist.s3-website.eu-central-1.amazonaws.com/train-images-idx3-ubyte.gz to ./.data/FashionMNIST/raw/train-images-idx3-ubyte.gz\n"
          ]
        },
        {
          "output_type": "display_data",
          "data": {
            "text/plain": [
              "  0%|          | 0/26421880 [00:00<?, ?it/s]"
            ],
            "application/vnd.jupyter.widget-view+json": {
              "version_major": 2,
              "version_minor": 0,
              "model_id": "a187cb057415432883388a65259f55d2"
            }
          },
          "metadata": {}
        },
        {
          "output_type": "stream",
          "name": "stdout",
          "text": [
            "Extracting ./.data/FashionMNIST/raw/train-images-idx3-ubyte.gz to ./.data/FashionMNIST/raw\n",
            "\n",
            "Downloading http://fashion-mnist.s3-website.eu-central-1.amazonaws.com/train-labels-idx1-ubyte.gz\n",
            "Downloading http://fashion-mnist.s3-website.eu-central-1.amazonaws.com/train-labels-idx1-ubyte.gz to ./.data/FashionMNIST/raw/train-labels-idx1-ubyte.gz\n"
          ]
        },
        {
          "output_type": "display_data",
          "data": {
            "text/plain": [
              "  0%|          | 0/29515 [00:00<?, ?it/s]"
            ],
            "application/vnd.jupyter.widget-view+json": {
              "version_major": 2,
              "version_minor": 0,
              "model_id": "bd2eb97ce7834fa9997f1148facfa07c"
            }
          },
          "metadata": {}
        },
        {
          "output_type": "stream",
          "name": "stdout",
          "text": [
            "Extracting ./.data/FashionMNIST/raw/train-labels-idx1-ubyte.gz to ./.data/FashionMNIST/raw\n",
            "\n",
            "Downloading http://fashion-mnist.s3-website.eu-central-1.amazonaws.com/t10k-images-idx3-ubyte.gz\n",
            "Downloading http://fashion-mnist.s3-website.eu-central-1.amazonaws.com/t10k-images-idx3-ubyte.gz to ./.data/FashionMNIST/raw/t10k-images-idx3-ubyte.gz\n"
          ]
        },
        {
          "output_type": "display_data",
          "data": {
            "text/plain": [
              "  0%|          | 0/4422102 [00:00<?, ?it/s]"
            ],
            "application/vnd.jupyter.widget-view+json": {
              "version_major": 2,
              "version_minor": 0,
              "model_id": "17c7f94d71a94b5a9785f1bfe192e43d"
            }
          },
          "metadata": {}
        },
        {
          "output_type": "stream",
          "name": "stdout",
          "text": [
            "Extracting ./.data/FashionMNIST/raw/t10k-images-idx3-ubyte.gz to ./.data/FashionMNIST/raw\n",
            "\n",
            "Downloading http://fashion-mnist.s3-website.eu-central-1.amazonaws.com/t10k-labels-idx1-ubyte.gz\n",
            "Downloading http://fashion-mnist.s3-website.eu-central-1.amazonaws.com/t10k-labels-idx1-ubyte.gz to ./.data/FashionMNIST/raw/t10k-labels-idx1-ubyte.gz\n"
          ]
        },
        {
          "output_type": "display_data",
          "data": {
            "text/plain": [
              "  0%|          | 0/5148 [00:00<?, ?it/s]"
            ],
            "application/vnd.jupyter.widget-view+json": {
              "version_major": 2,
              "version_minor": 0,
              "model_id": "f312df5369dc48b48ecd06fecb1331a7"
            }
          },
          "metadata": {}
        },
        {
          "output_type": "stream",
          "name": "stdout",
          "text": [
            "Extracting ./.data/FashionMNIST/raw/t10k-labels-idx1-ubyte.gz to ./.data/FashionMNIST/raw\n",
            "\n"
          ]
        }
      ]
    },
    {
      "cell_type": "code",
      "source": [
        "# torchvision.datasets로 생성된 객체 -> 파이토치 내부 클래스 torch.utils.data.Dataset을 상속\n",
        "# 파이토치 DataLoader (Dataset 클래스를 넣어줌) -> 모델의 데이터를 로딩 -> 바로 사용해줄 수 있음\n",
        "# DataLoader는 데이터셋을 배치batch라는 작은 단위로 쪼개고, 학습 시 반복문 안에서 데이터를 공급해주는 클래스\n",
        "\n",
        "# 배치 크기(batch size)를 지정\n",
        "# -> 한 번에 처리하는 데이터 개수 (처리 -> 딥러닝 : 학습)\n",
        "# 배치 크기가 16이다 -> 반복할 때마다 (한 번 로딩할 때) 16개씩 읽어줌\n",
        "batch_size = 16\n",
        "# 컴퓨터 메모리 공간에 여유가 있다면 더 크게 해도 되고, 여유가 없다면 적게 해야함 (2의 배수)"
      ],
      "metadata": {
        "id": "PvNYq-B_gHAz"
      },
      "execution_count": null,
      "outputs": []
    },
    {
      "cell_type": "code",
      "source": [
        "# 메모리 확인 명령어\n",
        "!free"
      ],
      "metadata": {
        "colab": {
          "base_uri": "https://localhost:8080/"
        },
        "id": "ekJ4NF_sg3ab",
        "outputId": "bec75ec6-6f4c-4913-af10-d5d9c12094ab"
      },
      "execution_count": null,
      "outputs": [
        {
          "output_type": "stream",
          "name": "stdout",
          "text": [
            "              total        used        free      shared  buff/cache   available\n",
            "Mem:       13297192     2455708     6386328       13520     4455156    11139020\n",
            "Swap:             0           0           0\n"
          ]
        }
      ]
    },
    {
      "cell_type": "code",
      "source": [
        "# 데이터로더(DataLoader)의 매개변수에 앞서 불러온 데이터셋을 넣어주고 배치 크기를 지정\n",
        "# 한 번에 16개씩의 배치를 로딩해주는 데이터로더 학습셋/시험셋\n",
        "train_loader = data.DataLoader(\n",
        "    dataset = trainset,\n",
        "    batch_size = batch_size\n",
        ")\n",
        "test_loader = data.DataLoader(\n",
        "    dataset = testset,\n",
        "    batch_size = batch_size\n",
        ")"
      ],
      "metadata": {
        "id": "f3r8W5GPhGbk"
      },
      "execution_count": null,
      "outputs": []
    },
    {
      "cell_type": "code",
      "source": [
        "# iter() 함수 : 반복되는 객체를 반복문 안에 이용할 수 있도록 만들어주는 함수\n",
        "# next() 함수 : 배치 1개를 (아직 반복되지 않은 하나의 원소를) 불러와주는 함수\n",
        "# 배치 1개의 images와 labels을 불러오는 구조 -> images, labels -> 앞서 설정한 배치 크기만큼 각각 이미지 16개와 레이블 16개가 들어있음\n",
        "dataiter = iter(train_loader)\n",
        "images, labels = next(dataiter)"
      ],
      "metadata": {
        "id": "va_HKor4hJRr"
      },
      "execution_count": null,
      "outputs": []
    },
    {
      "cell_type": "code",
      "source": [
        "# utils.make_grid() 함수 -> 여러 이미지를 모아서 하나의 이미지\n",
        "# img -> matplotlib 호환 -> numpy 배열로 변환\n",
        "img = utils.make_grid(images, padding=0)\n",
        "npimg = img.numpy() # 텐서 -> 넘파이 배열  --> 이미지나 open cv 쪽으로는 넘파이 배열로 하는 것이 편리, 유용\n",
        "print(npimg.shape) # 색상(0), 세로(1), 가로(2) -> (맷플롯립) 세로(1), 가로(2), 색상(0)\n",
        "plt.figure(figsize=(10, 7))\n",
        "# npimg - 이미지 넘파이 배열\n",
        "# np.transpose -> 차원의 순서를 교체\n",
        "plt.imshow(np.transpose(npimg, (1, 2, 0)))\n",
        "plt.show()"
      ],
      "metadata": {
        "colab": {
          "base_uri": "https://localhost:8080/",
          "height": 208
        },
        "id": "TYBhMezJiNt0",
        "outputId": "253a6d70-f7b3-4b1e-d79f-1d9788a66750"
      },
      "execution_count": null,
      "outputs": [
        {
          "output_type": "stream",
          "name": "stdout",
          "text": [
            "(3, 56, 224)\n"
          ]
        },
        {
          "output_type": "display_data",
          "data": {
            "text/plain": [
              "<Figure size 720x504 with 1 Axes>"
            ],
            "image/png": "[encoded data removed]"
          },
          "metadata": {
            "needs_background": "light"
          }
        }
      ]
    },
    {
      "cell_type": "code",
      "source": [
        "print(labels) # 각각의 패션아이템 종류"
      ],
      "metadata": {
        "colab": {
          "base_uri": "https://localhost:8080/"
        },
        "id": "S91W0edwlCXe",
        "outputId": "d746169e-34ee-4371-84e6-03b207f52ca5"
      },
      "execution_count": null,
      "outputs": [
        {
          "output_type": "stream",
          "name": "stdout",
          "text": [
            "tensor([9, 0, 0, 3, 0, 2, 7, 2, 5, 5, 0, 9, 5, 5, 7, 9])\n"
          ]
        }
      ]
    },
    {
      "cell_type": "code",
      "source": [
        "# 이미지들의 클래스들은 '티셔츠/윗옷, 바지', 스웨터', '드레스', '코트', '샌들. 셔츠, '운동화', '가방, '앵글부츠, 이렇게 10가지\n",
        "# 데이터셋에서는 이름 대신에 숫자 번호로 레이블이 주어짐 -> 딕셔너리화\n",
        "CLASSES = {\n",
        "    0: 'T-shirt/top',\n",
        "    1: 'Trouser',\n",
        "    2: 'Pullover',\n",
        "    3: 'Dress',\n",
        "    4: 'Coat',\n",
        "    5: 'Sandal',\n",
        "    6: 'Shirt',\n",
        "    7: 'Sneaker',\n",
        "    8: 'Bag',\n",
        "    9: 'Ankle boot'\n",
        "}\n",
        "for label in labels:\n",
        "    index = label.item()\n",
        "    print(CLASSES[index])"
      ],
      "metadata": {
        "colab": {
          "base_uri": "https://localhost:8080/"
        },
        "id": "iVFLTGm7mEwt",
        "outputId": "f3c4606a-913e-4e76-e078-29274ab23bea"
      },
      "execution_count": null,
      "outputs": [
        {
          "output_type": "stream",
          "name": "stdout",
          "text": [
            "Ankle boot\n",
            "T-shirt/top\n",
            "T-shirt/top\n",
            "Dress\n",
            "T-shirt/top\n",
            "Pullover\n",
            "Sneaker\n",
            "Pullover\n",
            "Sandal\n",
            "Sandal\n",
            "T-shirt/top\n",
            "Ankle boot\n",
            "Sandal\n",
            "Sandal\n",
            "Sneaker\n",
            "Ankle boot\n"
          ]
        }
      ]
    },
    {
      "cell_type": "markdown",
      "source": [
        "* 이미지의 데이터는 가로, 세로, 색상으로 구성된 3차원 행렬로 표현\n",
        "* 가로세로는 각각의 픽셀 수, 그리고 색상값은 흑백 사진이니 1가지 숫자로 나타낼 수 있음\n",
        "\n",
        "![MNIST 데이터](https://github.com/bigdata-young/ai_26th/blob/main/img/dl_02_01.jpeg?raw=true)\n",
        "\n",
        "* 각 픽셀은 0부터 255까지 값을 가짐.\n",
        "* Fashion MNIST에서 이미지의 크기는 28 x 28, 색상 채널은 흑백 1가지 → 입력 x의 특징값 총개 수는 28 x 28 x 1개, 즉 784개"
      ],
      "metadata": {
        "id": "yQ3ylZiKrX_h"
      }
    },
    {
      "cell_type": "code",
      "source": [
        "# 개별 이미지 보기 (0~15)\n",
        "idx = 3 #@param {\"type\":\"number\"}\n",
        "\n",
        "item_img = images[idx] # 첫번째 이미지 꺼내기\n",
        "item_npimg = item_img.squeeze().numpy() # squeeze하고 numpy를 통해 넘파이 행렬로 만들기\n",
        "\n",
        "plt.title(CLASSES[labels[idx].item()]) # 종류 보기\n",
        "print(item_npimg.shape)\n",
        "plt.imshow(item_npimg, cmap='gray')\n",
        "plt.show()"
      ],
      "metadata": {
        "colab": {
          "base_uri": "https://localhost:8080/",
          "height": 299
        },
        "id": "Oh3MwS3foz68",
        "outputId": "12bbd0fc-bd3e-499b-e595-cca5df3d7ed3"
      },
      "execution_count": null,
      "outputs": [
        {
          "output_type": "stream",
          "name": "stdout",
          "text": [
            "(28, 28)\n"
          ]
        },
        {
          "output_type": "display_data",
          "data": {
            "text/plain": [
              "<Figure size 432x288 with 1 Axes>"
            ],
            "image/png": "[encoded data removed]"
          },
          "metadata": {
            "needs_background": "light"
          }
        }
      ]
    },
    {
      "cell_type": "markdown",
      "source": [
        "# 인공신경망으로 패션 아이템 분류\n",
        "심층 인공 신경망 `deep neural network, DNN`"
      ],
      "metadata": {
        "id": "3ToxT1en1OBd"
      }
    },
    {
      "cell_type": "markdown",
      "source": [
        "## 환경설정"
      ],
      "metadata": {
        "id": "tSYWflDk1TtV"
      }
    },
    {
      "cell_type": "code",
      "source": [
        "import torch\n",
        "\n",
        "# GPU 사용 환경\n",
        "\n",
        "torch.cuda.is_available() # 현재 컴퓨터(머신)에서 CUDA(GPU)를 사용할 수 있는지 확인\n",
        "# 런타임 > 런타임 유형 변경 > 하드웨어 가속기 > GPU"
      ],
      "metadata": {
        "colab": {
          "base_uri": "https://localhost:8080/"
        },
        "id": "CQ2lm8RGr4WR",
        "outputId": "8b16de6e-1a2c-44a3-d6bc-6248e8127f38"
      },
      "execution_count": null,
      "outputs": [
        {
          "output_type": "execute_result",
          "data": {
            "text/plain": [
              "True"
            ]
          },
          "metadata": {},
          "execution_count": 28
        }
      ]
    },
    {
      "cell_type": "code",
      "source": [
        "# 환경에 따라서 CPU / GPU 를 알아서 설정하게 하는 코드\n",
        "USE_CUDA = torch.cuda.is_available()\n",
        "USE_CUDA"
      ],
      "metadata": {
        "colab": {
          "base_uri": "https://localhost:8080/"
        },
        "id": "CIpGcmvA1lKX",
        "outputId": "c8083c9e-7731-4a30-e561-2423a797599b"
      },
      "execution_count": null,
      "outputs": [
        {
          "output_type": "execute_result",
          "data": {
            "text/plain": [
              "True"
            ]
          },
          "metadata": {},
          "execution_count": 29
        }
      ]
    },
    {
      "cell_type": "code",
      "source": [
        "# USE_CUDA가 True면 cuda를 입력해서, GPU 장치를 사용하고, 아니면 CPU를 쓰겠다\n",
        "DEVICE = torch.device(\"cuda\"if USE_CUDA else \"cpu\")\n",
        "DEVICE"
      ],
      "metadata": {
        "colab": {
          "base_uri": "https://localhost:8080/"
        },
        "id": "TusUay-O1q9t",
        "outputId": "93da092b-9624-4370-fc33-da1da239484f"
      },
      "execution_count": null,
      "outputs": [
        {
          "output_type": "execute_result",
          "data": {
            "text/plain": [
              "device(type='cuda')"
            ]
          },
          "metadata": {},
          "execution_count": 30
        }
      ]
    },
    {
      "cell_type": "code",
      "source": [
        "# 효율적 학습을 위해 (데이터셋을) 배치로 잘라서 사용\n",
        "BATCH_SIZE = 64 # 각 미니 패치의 크기 (2의 제곱근)\n",
        "EPOCHS = 30 # 학습 데이터를 총 몇 번 볼 것인가  "
      ],
      "metadata": {
        "id": "7l-Q3UVB2PsW"
      },
      "execution_count": null,
      "outputs": []
    },
    {
      "cell_type": "code",
      "source": [
        "import torch # 파이토치\n",
        "import torch.nn as nn # 인공 신경망 모델의 재료 -> 클래스 -> 객체 (값을 저장할 수 있음) -> 가중치가 저장되어야 할 때 \n",
        "import torch.optim as optim # 최적화를 위한 모듈\n",
        "import torch.nn.functional as F # nn모듈의 함수 버전 -> 가중치 저장은 필요없고, 함수/기능만 필요\n",
        "from torchvision import transforms, datasets  # 토치비전의 데이터셋 다루기 "
      ],
      "metadata": {
        "id": "WQmdV_Zt2w41"
      },
      "execution_count": null,
      "outputs": []
    },
    {
      "cell_type": "markdown",
      "source": [
        "# 데이터셋 불러오기\n",
        "# Dataset\n",
        "\n",
        "우선 데이터셋을 먼저 살펴보면, 샘플 데이터와 레이블(label) 또는 정답 데이터를 저장하는 역할을 수행한다.\n",
        "\n",
        "한마디로 학습(Train) 데이터셋과 학습을 통해 산출된 결과 데이터셋을 다루는 역할을 담당한다는 것이다.\n",
        "\n",
        "PyTorch Dataset을 통해서 이미지, 텍스트, 오디오 데이터셋을 다룰 수 있다.\n",
        "\n",
        "# Dataloader\n",
        "\n",
        "데이터로더는 데이터셋에 접근하는 역할을 수행한다.\n",
        "\n",
        "데이터 로더를 통해서 데이터셋에 대한 import와 export를 모두 할 수 있다.\n",
        "\n",
        "또한 데이터셋을 접근한다는 특징에서 iterable 방식을 취하고 있다.\n",
        "\n",
        "한마디로 데이터를 비교하여 올바른 데이터셋에 접근하는데 이 과정이 반복적인 기능이 포함되다 보니 이것을 순회 가능한 객체라고도 부른다.\n",
        "\n",
        "# Dataset과 Dataloader에서 사용되는 Parameter\n",
        "\n",
        "각 라이브러리마다 사용되는 특정 변수(variable)들이 존재한다.\n",
        "\n",
        "우리는 특정 기능을 변수를 Parameter 또는 매개변수라고 부른다.\n",
        "\n",
        "Dataset과 Dataloader에서도 사용되는 Parameter들이 존재한다.\n",
        "\n",
        "대표적인 4개의 매개변수는 root, train, download, transform 등이 있다.\n",
        "\n",
        "# 학습 또는 테스트 데이터 저장 경로\n",
        "root\n",
        "\n",
        "# 학습 또는 테스트 데이터셋 여부 설정\n",
        "train\n",
        "\n",
        "# True값인 경우에는 root에 없는 데이터를 인터넷에서 가져옴\n",
        "download=True\n",
        "\n",
        "# label, transform, feature 설정\n",
        "transform || target_transform"
      ],
      "metadata": {
        "id": "mKJEKv8N35sE"
      }
    },
    {
      "cell_type": "code",
      "source": [
        "# 이미지를 변환 시켜주는 transform 정의 \n",
        "transform = transforms.Compose([\n",
        "    transforms.ToTensor() # 변환할 방식을 추가\n",
        "])  # 텐서로 바꿔준다?\n",
        "\n",
        "# 학습셋, 시험셋을 로딩 (다운로드)\n",
        "trainset = datasets.FashionMNIST(\n",
        "    root      = './.data/', \n",
        "    train     = True, # T/F\n",
        "    download  = True,\n",
        "    transform = transform # 변환 설정\n",
        ")\n",
        "\n",
        "testset = datasets.FashionMNIST(\n",
        "    root      = './.data/', \n",
        "    train     = False,\n",
        "    download  = True,\n",
        "    transform = transform\n",
        ")\n",
        "\n",
        "# 반복해서 불러올 때 배치 사이즈, 방식\n",
        "train_loader = torch.utils.data.DataLoader(\n",
        "    dataset     = trainset, # 연결할 데이터셋을 결정\n",
        "    batch_size  = BATCH_SIZE, # 배치 사이즈 (한 번에 불러올 미니 배치)\n",
        "    shuffle     = True, # 섞을까말까.\n",
        ")\n",
        "test_loader = torch.utils.data.DataLoader(\n",
        "    dataset     = testset,\n",
        "    batch_size  = BATCH_SIZE,\n",
        "    shuffle     = True,\n",
        ")\n"
      ],
      "metadata": {
        "id": "JRmP3idC36El"
      },
      "execution_count": null,
      "outputs": []
    },
    {
      "cell_type": "markdown",
      "source": [
        "## 이미지 분류 문제\n",
        "**이미지 분류** `image classification`\n",
        "* 한 장의 이미지를 받아 이 이미지가 어느 클래스(레이블)에 속하는지 알려주는 문제\n",
        "* 상대적으로 단순한 문제지만 상업적으로 가장 영향력이 있는 문제\n",
        "* 인공 신경망을 이용한 이미지 분류 알고리즘들은 이미 여러 서비스에서 이미지 기반 검색, 추천, 광고 등에 사용\n",
        "![이미지 분류](https://github.com/bigdata-young/ai_26th/blob/main/img/dl_02_02.jpeg?raw=true)\n",
        "* 연속된 이미지라고 할 수 있는 비디오 분류 모델들도 결국 기본적인 이미지 분류 방식에서 크게 벗어나지 않음"
      ],
      "metadata": {
        "id": "OwXelRYx8fHs"
      }
    },
    {
      "cell_type": "markdown",
      "source": [
        "## 이미지 분류를 위한 인공 신경망 구현\n",
        "입력 x와 레이블(정답) y를 받아서 학습한 다음, 새로운 X가 왔을 때 어떤 패션 아이템인지 예측하는 모델"
      ],
      "metadata": {
        "id": "fcWseSwV-TXK"
      }
    },
    {
      "cell_type": "markdown",
      "source": [
        "### 인공 신경망 구성"
      ],
      "metadata": {
        "id": "fivXUxyM-VXD"
      }
    },
    {
      "cell_type": "code",
      "source": [
        "# (은닉층) 레이어가 3개인 (깊이가 3인) 인공신경망 구성\n",
        "\n",
        "class Net(nn.Module): # 자식클래스 nn.Module이 부모클래스 인데 어디에 있지?\n",
        "# nn.Module은 torch.nn.Module을 상속받는 파이썬 클래스이다. \n",
        "\n",
        "    # 먼저 생성자에 모델의 가중치 변수들이 들어가는 연산(객체)들을 선언\n",
        "    def __init__(self): # 클래스를 통해서 생성될 객체 -> self \n",
        "        super(Net, self).__init__()\n",
        "\n",
        "        ## nn.Linear 클래스는 선형 결합을 수행하는 객체를 만듦\n",
        "        self.fc1 = nn.Linear(784, 256) # input 784, output 256\n",
        "        # 1 x 28 x 28 -> 784 픽셀값(한 점씩)을 입력 받아서 가중치를 행렬곱/편향. 값 256개를 출력\n",
        "        # fc는 fully connected -> 이전 레이어의 모든 노드가 다음 레이어의 모든 노드에 연결된 층 (Dense)\n",
        "    \n",
        "        self.fc2 = nn.Linear(256, 128) # input 256, output 128 fc가 무엇인지도 물어보자\n",
        "        self.fc3 = nn.Linear(128, 10) # input 128, output 10\n",
        "        # 출력값 10개 각각은 클래스가 될 확률을 나타내며, 10개 중 값이 가장 큰 클래스가 이 모델의 훈련과정을 표현\n",
        "\n",
        "    def forward(self, x): # x은 입력되는 텐서 forward는 순전파 입력층부터 출력층까지 순서대로\n",
        "        # 데이터의 흐름을 정의\n",
        "        # n, 색상, 세로, 가로 -> (-1, 784)  # 64, 784 (배치 사이즈 만큼)\n",
        "        x = x.view(-1, 784) # 28*28 인 이미지 텐서를 한 줄짜리 1차원 텐서\n",
        "\n",
        "        # fc1() 과 fc2()를 거치게 할 것, 각각 층은 ReLu 활성화 함수를 통해서 처리\n",
        "        # F.relu == nn.ReLU (거의 동일, 취향 문제) -> 가중치가 없는 연산 (저장 X)\n",
        "        # nn.Linear -> 선형결합 (가중치) -> 거의 강제. (init(생성자)에 선언하는 것이 권장)\n",
        "        x = F.relu(self.fc1(x))\n",
        "        x = F.relu(self.fc2(x))\n",
        "\n",
        "        # 마지막으로 fc3() 함수까지 거쳐 나온 값 10개\n",
        "        x = self.fc3(x)\n",
        "        \n",
        "        return x "
      ],
      "metadata": {
        "id": "r4UiNL7M8g9k"
      },
      "execution_count": null,
      "outputs": []
    },
    {
      "cell_type": "markdown",
      "source": [
        "* 모델 선언과 동시에 to() 함수로 연산을 어디서 수행할지 정할 수 있음\n",
        "* to() 함수는 모델의 파라미터들을 지정한 장치의 메모리로 보내는 역할을 함\n",
        "* 일반적으로 CPU만 사용한다면 필요 없지만, GPU를 사용하려면 to(\"cuda\")로 지정하여 GPU의 메모리로 보내야 함\n",
        "* 아무것도 지정하지 않으면 CPU에서 처리"
      ],
      "metadata": {
        "id": "Ug5QcppOVM9s"
      }
    },
    {
      "cell_type": "code",
      "source": [
        "model = Net().to(DEVICE) # 기기에 맞는 (CPU, GPU) 환경을 넣어서 처리"
      ],
      "metadata": {
        "id": "K15pJb5YYprC"
      },
      "execution_count": null,
      "outputs": []
    },
    {
      "cell_type": "markdown",
      "source": [
        "### 최적화 알고리즘"
      ],
      "metadata": {
        "id": "cJjFJbCuZZSi"
      }
    },
    {
      "cell_type": "code",
      "source": [
        "# 최적화 알고리즘 : 파이토치 내장 모듈인 optim.SGD를 사용\n",
        "# SGD (확률적 경사하강법, stochastic gradient descent) : 모델 최적화를 확률적 경사하강법\n",
        "# 모델 내부의 정보를 넘겨주는 model.parameters() 함수와 직접 설정한 학습률(lr)을 입력 \n",
        "optimizer = optim.SGD(model.parameters(), lr = 0.01)"
      ],
      "metadata": {
        "id": "_3VKrkZqZDvQ"
      },
      "execution_count": null,
      "outputs": []
    },
    {
      "cell_type": "code",
      "source": [
        "# 학습을 위한 연산을 train 함수로 정의\n",
        "# train : 학습할 model, 데이터를 공급해주는 train_loader, 최적화를 담당할 optimizer를 넣을 것\n",
        "def train(model: nn.Module, train_loader, optimizer):# epoch 1번 = train 1번 = train 내부의 batch 사이즈별 학습이 따로 돎\n",
        "    # 학습 모드\n",
        "    model.train() # <-> model.eval() : 평가모드\n",
        "    # 모드에 따라서 동작이 다른 파이토치 모듈\n",
        "    # 배치를 반복하여서 훈련\n",
        "    # enumerate(연속된 데이터) -> zip(인덱스, 값)\n",
        "    for batch_idx, (data, target) in enumerate(train_loader):\n",
        "        # data : 모델에 입력할 data (이미지 텐서), target : 해당 이미지의 분류값. 클래스.\n",
        "        # 모델에 입력될 데이터 모양(shape): [배치크기(64), 색, 높이(세로), 넓이(가로)]\n",
        "        # data.size() : [64, 1, 28, 28] <- 배치 데이터\n",
        "        # 모델의 가중치를 보낸 장치(DEVICE) -> 학습 데이터도 같은 장치로 보내야 함\n",
        "        data, target = data.to(DEVICE), target.to(DEVICE) # cuda 사용가능한 컴퓨터라면 GPU, 아니면 CPU\n",
        "\n",
        "        # 배치를 처리할 때마다 기울기를 새로 계산해줘야함 -> optimizer.zero_grad()\n",
        "        optimizer.zero_grad()\n",
        "\n",
        "        # 학습 데이터에 대한 모델의 예측값을 output\n",
        "        output = model(data)\n",
        "\n",
        "        # output -> 오차를 구해서 개선\n",
        "        # output & 레이블(target, 정답) 사이의 오차 구하기\n",
        "        loss = F.cross_entropy(output, target) # 한 배치(64)에 대한 오차(손실)\n",
        "        # 이진 교차 엔트로피 binary cross entropy : 클래스가 2개 (분류해야하는 대상이 2개)\n",
        "        # **교차 엔트로피 cross entropy : 클래스가 3개 이상 (이번에는 10개)\n",
        "        # F.cross_entropy -> 이것에 대한 기울기를 저장할 필요가 없어서 F 함수를 씀\n",
        "        \n",
        "        loss.backward() # 오차 역전파로 기울기 (gradient) 계산\n",
        "        optimizer.step() # 계산한 기울기를 바탕으로 앞서 정의한 알고리즘에 맞추어 가중치를 수정"
      ],
      "metadata": {
        "id": "qV2XFJj5aNJ_"
      },
      "execution_count": null,
      "outputs": []
    },
    {
      "cell_type": "markdown",
      "source": [
        "* 우리가 원하는 모델? : 학습 데이터에 최적화된 모델이 아닌 모든 데이터에 높은 성능을 보이는 모델\n",
        "* 일반화 `generalization` : 세상에 존재하는 모든 데이터에 최적화하는 것\n",
        "* 일반화 오류 `generalization error` : 학습 데이터를 기반으로 한 모델이 학습하지 않은 데이터에 얼마나 적응하는지를 수치로 나타낸 것\n",
        "    * 일반화 오류는 학습과 실제 성능의 괴리를 뜻하므로 작을수록 좋음\n",
        "* 학습 데이터의 일부를 떼어내어 평가용 데이터셋을 마련\n",
        "* 평가용 데이터 셋 = 테스트셋 `test set`\n",
        "    * 모델이 학습 과정에서 본 적이 없는 '실제 세상의 모든 데이터'를 대표\n",
        "\n",
        "* Fashion MNIST는 비교적 규모가 작은 데이터셋이므로 학습과 테스트 두 가지로 나뉘어 있음\n",
        "* 일반적인 머신러닝 데이터셋은 학습 `train`, 검증 `validator`, 테스트 `test` 3단계로 나뉨 \n",
        "    * 학습용 데이터셋 : 가중치를 조절\n",
        "    * 검증용 데이터셋 : 배치 크기와 모델 설계 같은 하이퍼파라미터 `hyperparameter`를 조절하는데 사용\n",
        "    * 테스트용 데이터셋 : 성능 보고에 사용\n",
        "\n",
        "* **하이퍼 파라미터** : 모델 층의 종류와 크기, 배치 크기, 학습률 등 머신러닝 모델이 배우지 않고 사용자가 직접 지정해주는 값\n",
        "    * 모델의 가중치(파라미터 parameter)를 최적화하는 데 많은 영향을 주게 됨\n",
        "    * 고로 하이퍼파라미터를 최적화하는 것도 딥러닝에서 데이터를 모으는 과정만큼이나 중요"
      ],
      "metadata": {
        "id": "ZJpAI5L5iJm4"
      }
    },
    {
      "cell_type": "code",
      "source": [
        "# 평가 함수 evaluate\n",
        "# 모델의 일반화 정도 확인 + 학습을 언제 멈춰야할지 알아냄 (조기종료)\n",
        "def evaluate(model, test_loader): # 최적화 담당하는 optimizer 없어도 됨\n",
        "    # epoch가 끝날 때마다 테스트셋으로 모델의 성능을 측정\n",
        "    model.eval() # 평가 모드\n",
        "\n",
        "    test_loss = 0 # 테스트셋의 오차\n",
        "    correct = 0 # 예측이 맞은 갯수를 담아줄 변수\n",
        "\n",
        "    # torch.no_grad() -> 생성 / with가 끝나면 해당 객체, 기능을 close.\n",
        "    with torch.no_grad(): # 기울기 계산 끄기\n",
        "        for data, target in test_loader:\n",
        "            data, target = data.to(DEVICE), target.to(DEVICE) # DEVICE로 데이터 보내기\n",
        "            output = model(data) # 테스트 데이터의 예측값\n",
        "\n",
        "            test_loss += F.cross_entropy(output, target,\n",
        "                                         reduction='sum').item()\n",
        "            # 평가를 위해서 교차 엔트로피를 거칠 때 reduction을 'sum'을 지정\n",
        "            # 원래 default는 mean(평균)\n",
        "            # 모든 오차를 더해줌\n",
        "            # ---\n",
        "            # 정확도\n",
        "            # 가장 큰 값을 가진 클래스가 모델의 예측값\n",
        "            # 예측과 정답을 비교하여서 일치할 경우 -> correct에 1을 더함 \n",
        "            # output.max() -> (가장 큰 값(0), 그 값이 있는 자리의 인덱스(1))\n",
        "            # print(output)\n",
        "            # https://pytorch.org/docs/stable/generated/torch.Tensor.max.html\n",
        "            pred = output.max(1, keepdim=True)[1] # max(차원)\n",
        "            # print(pred)\n",
        "\n",
        "            # 모델의 예측 패션 아이템과 레이블(정답)이 일치하는지는 eq (0, 1)\n",
        "            # print(pred.eq(target.view_as(pred)))\n",
        "            correct += pred.eq(target.view_as(pred)).sum().item()\n",
        "            # -> sum (모두 더하면 현 배치에서 모델을 맞춘 정답 개수 구함)\n",
        "            # view_as -> 인수로 들어간 텐서의 모양으로 바꿔줌(정렬)\n",
        "    # 배치별 총 오차와, 총 맞춘 개수를 합친 test_loss, correct\n",
        "\n",
        "    # test_loss : 전체 데이터셋에 대한 오차 -> 배치별로 나눠져 있는 것의 합\n",
        "    # correct : 맞힌 개수의 합\n",
        "    # 총 정답 평균 -> 100을 곱해서 정확도 (accuracy) 구하기\n",
        "    test_loss /= len(test_loader.dataset)\n",
        "    test_accuracy = 100. * correct / len(test_loader.dataset) # 얼마나 맞췄는지\n",
        "    return test_loss, test_accuracy"
      ],
      "metadata": {
        "id": "tQANR5HziLCo"
      },
      "execution_count": null,
      "outputs": []
    },
    {
      "cell_type": "code",
      "source": [
        "# 에포크마다 학습과 테스트셋을 이용한 검증을 반복하고 결과를 출력\n",
        "for epoch in range(1, EPOCHS + 1):\n",
        "    train(model, train_loader, optimizer)\n",
        "    test_loss, test_accuracy = evaluate(model, test_loader)\n",
        "    \n",
        "    print(f'[{epoch}] Test Loss: {test_loss:.4f}, Accuracy: {test_accuracy:.2f}%')"
      ],
      "metadata": {
        "colab": {
          "base_uri": "https://localhost:8080/"
        },
        "id": "QuWmJNFAj6Le",
        "outputId": "ac552be0-25d2-4b42-de1d-d10089dde278"
      },
      "execution_count": null,
      "outputs": [
        {
          "output_type": "stream",
          "name": "stdout",
          "text": [
            "[1] Test Loss: 0.8630, Accuracy: 65.00%\n",
            "[2] Test Loss: 0.6601, Accuracy: 77.09%\n",
            "[3] Test Loss: 0.5790, Accuracy: 79.45%\n",
            "[4] Test Loss: 0.5363, Accuracy: 81.18%\n",
            "[5] Test Loss: 0.5251, Accuracy: 80.79%\n",
            "[6] Test Loss: 0.4980, Accuracy: 81.92%\n",
            "[7] Test Loss: 0.4811, Accuracy: 82.97%\n",
            "[8] Test Loss: 0.4708, Accuracy: 83.11%\n",
            "[9] Test Loss: 0.4619, Accuracy: 83.63%\n",
            "[10] Test Loss: 0.4494, Accuracy: 84.09%\n",
            "[11] Test Loss: 0.4428, Accuracy: 84.42%\n",
            "[12] Test Loss: 0.4604, Accuracy: 83.80%\n",
            "[13] Test Loss: 0.4272, Accuracy: 84.75%\n",
            "[14] Test Loss: 0.4412, Accuracy: 84.58%\n",
            "[15] Test Loss: 0.4151, Accuracy: 85.12%\n",
            "[16] Test Loss: 0.4140, Accuracy: 85.25%\n",
            "[17] Test Loss: 0.4047, Accuracy: 85.50%\n",
            "[18] Test Loss: 0.4102, Accuracy: 85.62%\n",
            "[19] Test Loss: 0.4065, Accuracy: 85.51%\n",
            "[20] Test Loss: 0.3936, Accuracy: 85.87%\n",
            "[21] Test Loss: 0.3967, Accuracy: 85.96%\n",
            "[22] Test Loss: 0.4041, Accuracy: 85.93%\n",
            "[23] Test Loss: 0.4071, Accuracy: 85.32%\n",
            "[24] Test Loss: 0.4104, Accuracy: 85.12%\n",
            "[25] Test Loss: 0.3839, Accuracy: 86.13%\n",
            "[26] Test Loss: 0.3900, Accuracy: 86.22%\n",
            "[27] Test Loss: 0.3842, Accuracy: 86.19%\n",
            "[28] Test Loss: 0.3924, Accuracy: 86.12%\n",
            "[29] Test Loss: 0.3774, Accuracy: 86.54%\n",
            "[30] Test Loss: 0.3798, Accuracy: 86.52%\n"
          ]
        }
      ]
    },
    {
      "cell_type": "markdown",
      "source": [
        "## 과적합과 드롭아웃\n",
        "* 과적합 `overfitting`\n",
        "    * 학습 성능은 잘 나오지만, 테스트셋이나 실제 상황에서는 성능이 나오지 않을 때\n",
        "    * 너무 학습 데이터에만 치중되어 유연성이 부족해지고, 그 결과 새로운 데이터에서는 성능이 잘 나오지 않는 상황 (예 : 기출문제만 공부하고 시험 치기)\n",
        "* 과소적합 `underfitting`\n",
        "    * 과적합과는 반대로 학습을 제대로 진행하지 않은 상황\n",
        "    * 학습 데이터도 제대로 학습하지 않은 경우\n",
        "\n",
        "**바람직한 상태?** → 과소적합과 과적합의 중간\n",
        "* 학습 데이터와 학습하지 않은 실제 데이터에서 동시에 높은 성능을 내는 상태 = 일반화 `generalization`\n",
        "\n",
        "![과소적합, 일반화, 과적합](https://github.com/bigdata-young/ai_26th/blob/main/img/dl_02_03.jpeg?raw=true)"
      ],
      "metadata": {
        "id": "jANlcRpwlFbn"
      }
    },
    {
      "cell_type": "markdown",
      "source": [
        "* 분류용 모델의 결과는 일반화를 지향.\n",
        "* 데이터셋을 학습, 검증, 테스트셋으로 나누는 것도 과적합을 탐지하려는 노력의 일환\n",
        "    * 학습 데이터셋만 이용해서 학습하면 오차는 무한정 내려갈 수밖에 없음. 실제로 학습을 멈추지 않고 계속 진행해보면 학습 성능은 계속 좋아지지만, 검증/테스트 성능이 오히려 떨어지는 것을 확인할 수 있음\n",
        "    * 따라서 학습 중간중간 검증용 데이터셋으로 모델이 학습 데이터에만 과적합되지 않았는지 확인\n",
        "* 검증 데이터셋에 대한 성능이 나빠지기 시작하기 직전이 가장 적합한 모델 → 이 타이밍에 모델을 저장하여 이용하는 것을 **조기 종료**`early stopping`라고 함\n",
        "\n",
        "![조기종료](https://github.com/bigdata-young/ai_26th/blob/main/img/dl_02_04_.jpeg?raw=true)"
      ],
      "metadata": {
        "id": "Dws-GladlH9W"
      }
    },
    {
      "cell_type": "markdown",
      "source": [
        "* 학습을 무한히 진행하다 보면 학습 오차는 꾸준히 내려가 0으로 수렴하지만, 검증 오차는 어느 순간부터 올라가게 됨 → 너무 학습 데이터셋에 과적합되므로 검증 오차가 올라가는 것\n",
        "* 검증 오차가 올라가는 순간을 포착하여 학습을 종료하는 것이 바로 조기 종료\n",
        "* 한편, 과적합 방지를 위해 학습 데이터를 늘리는 방법과 과적합 방지 기능을 하는 드롭아웃을 모델 구조에 적용하는 방법이 있음"
      ],
      "metadata": {
        "id": "N_qNxTjzlJv4"
      }
    },
    {
      "cell_type": "markdown",
      "source": [
        "### 데이터 늘리기\n",
        "* 과적합을 막기 위해 이미 가진 데이터를 최대한 늘리는 방법data augmentation 을 적용\n",
        "* 이미지 데이터라면 보통 이미지 일부분을 자르거나, 돌리고, 노이즈를 더하고, 색상을 변경하는 등 여러 방법을 사용할 수 있음\n",
        "* 예) 오른쪽과 왼쪽을 뒤집는 가로 대칭 이동 전략"
      ],
      "metadata": {
        "id": "cSmjoJm1lLru"
      }
    },
    {
      "cell_type": "code",
      "source": [
        "train_loader = torch.utils.data.DataLoader(\n",
        "    datasets.FashionMNIST('./.data',\n",
        "                   train=True,\n",
        "                   download=True,\n",
        "                   transform=transforms.Compose([\n",
        "                       transforms.RandomHorizontalFlip(), # 이미지를 무작위로 수평 뒤집기 (뒤집는 것만으로 예제 수가 2배로 늚)\n",
        "                       transforms.ToTensor(),\n",
        "                       transforms.Normalize((0.1307,), (0.3081,))\n",
        "                   ])),\n",
        "    batch_size=BATCH_SIZE, shuffle=True)\n",
        "test_loader = torch.utils.data.DataLoader(\n",
        "    datasets.FashionMNIST('./.data',\n",
        "                   train=False, \n",
        "                   transform=transforms.Compose([\n",
        "                       transforms.ToTensor(),\n",
        "                       transforms.Normalize((0.1307,), (0.3081,))\n",
        "                   ])),\n",
        "    batch_size=BATCH_SIZE, shuffle=True)"
      ],
      "metadata": {
        "id": "q28N1i50j6p-"
      },
      "execution_count": null,
      "outputs": []
    },
    {
      "cell_type": "markdown",
      "source": [
        "* 좌우를 뒤바꾸어 학습 데이터 늘리기\n",
        "![flip](https://github.com/bigdata-young/ai_26th/blob/main/img/dl_02_05.jpeg?raw=true)"
      ],
      "metadata": {
        "id": "9RmbCOv2lbU2"
      }
    },
    {
      "cell_type": "markdown",
      "source": [
        "* 드롭아웃 `dropout`\n",
        "  * 학습 진행 과정에서 신경망의 일부를 사용하지 않는 방법 (모델에 직접 영향을 주어 과적합을 해결)\n",
        "  * 예) 50% 드롭아웃이면 학습 단계마다 절반의 뉴런만 사용, 검증과 테스트 단계에서는 모든 뉴런을 사용합니다\n",
        "  * 학습에서 배제된 뉴런 외에 다른 뉴런들에 가중치를 분산시키고 개별 뉴런이 특징에 고정되는 현상을 방지하는 기능 (영향력이 큰 몇몇 요소들을 의도적으로 배제)\n",
        "  \n",
        "![드롭아웃](https://github.com/bigdata-young/ai_26th/blob/main/img/dl_02_06.jpeg?raw=true)"
      ],
      "metadata": {
        "id": "84yh6NCmleTe"
      }
    },
    {
      "cell_type": "code",
      "source": [
        "# 드롭 아웃 적용을 위한 신경망 구조 수정\n",
        "class Net(nn.Module):\n",
        "    def __init__(self, dropout_p = 0.2): # 직접 설정할 수 있게 생성자로 받음 (기본값 0.2)\n",
        "        super(Net, self).__init__()\n",
        "        self.fc1 = nn.Linear(784, 256)\n",
        "        self.fc2 = nn.Linear(256, 128)\n",
        "        self.fc3 = nn.Linear(128, 10)\n",
        "        # 드롭아웃 비율을 결정하는 dropout_p 파라미터를 추가\n",
        "        self.dropout_p = dropout_p\n",
        "    def forward(self, x): # forward에 dropout 관련 설정 추가\n",
        "        x = x.view(-1, 784)\n",
        "        x = F.relu(self.fc1(x))\n",
        "        \n",
        "        # F.dropout() 함수는 가중치가 없으므로 torch.nn.functional 패키지에서 바로 가져와서 사용할 수 있음\n",
        "        # 취향에 따라 nn.Dropout 클래스를 사용해도 무방\n",
        "        # nn.Dropout은 내부적으로 F.dropout () 함수를 쓰며 self,training 등 몇 가지 내부 변수를 자동으로 적용해주는 모듈\n",
        "        # nn.Dropout과 F.dropout()은 같은 기능의 클래스를 쓰느냐 함수를 쓰느냐 의 차이\n",
        "        \n",
        "        # 모델에는 학습과 평가 모드가 있음 → F.dropout () 함수는 모델의 모드에 따라 동작이 달라짐\n",
        "        # 학습 모드에서만 드롭아웃을 하고 평가 모드에서는 모든 뉴런을 사용해야 하기 때문.\n",
        "        \n",
        "        # model.train ()과 model.eval() 함수를 호출하여 모드를 바꿀 때마다 모델 내부의 self.training 변숫값이 True나 False로 바뀜\n",
        "        # 이 모델에선 layer1 층을 지나면서 한 번, layer2 층을 지나며 다시 한 번 드롭아웃\n",
        "\n",
        "        # 신경망 층의 출력 x와 학습인지를 알려주는 self.training, 그리고 드롭아웃 확률인 self. dropout_p를 입력해줌\n",
        "        # 드롭아웃 추가\n",
        "        x = F.dropout(x, training=self.training,\n",
        "                      p=self.dropout_p)\n",
        "        x = F.relu(self.fc2(x))\n",
        "        # 드롭아웃 추가\n",
        "        x = F.dropout(x, training=self.training,\n",
        "                      p=self.dropout_p)\n",
        "        x = self.fc3(x)\n",
        "        return x"
      ],
      "metadata": {
        "id": "2tN4dydalZEP"
      },
      "execution_count": null,
      "outputs": []
    },
    {
      "cell_type": "code",
      "source": [
        "# 드롭아웃 확률을 추가하여 모델 객체 생성 (모델을 인스턴스화)\n",
        "model = Net(dropout_p=0.2).to(DEVICE)\n",
        "optimizer = optim.SGD(model.parameters(), lr=0.01)"
      ],
      "metadata": {
        "id": "wR_UhIq4lgpH"
      },
      "execution_count": null,
      "outputs": []
    },
    {
      "cell_type": "code",
      "source": [
        "# 데이터셋에 노이즈를 추가(변형)하거나 모델에 드롭아웃을 적용할 때,\n",
        "# 최고 성능에 도달하는 데까지 걸리는 시간은 길어짐 ← 데이터셋이 늘고, 모델이 느리게 학습되기 때문\n",
        "# 에포크를 늘려서 학습 → 정확도가 눈에 띄게 높이 시작해서 꾸준히 오랫동안 증가\n",
        "EPOCHS = 50\n",
        "for epoch in range(1, EPOCHS + 1):\n",
        "    train(model, train_loader, optimizer)\n",
        "    test_loss, test_accuracy = evaluate(model, test_loader)\n",
        "    \n",
        "    print(f'[{epoch}] Test Loss: {test_loss:.4f}, Accuracy: {test_accuracy:.2f}%')"
      ],
      "metadata": {
        "id": "cOQ622-3lfnP",
        "colab": {
          "base_uri": "https://localhost:8080/"
        },
        "outputId": "bb359f84-24ba-410d-eea0-9bf62db9aa8d"
      },
      "execution_count": null,
      "outputs": [
        {
          "output_type": "stream",
          "name": "stdout",
          "text": [
            "[1] Test Loss: 0.6405, Accuracy: 77.59%\n",
            "[2] Test Loss: 0.5322, Accuracy: 80.79%\n",
            "[3] Test Loss: 0.4876, Accuracy: 82.27%\n",
            "[4] Test Loss: 0.4586, Accuracy: 83.32%\n",
            "[5] Test Loss: 0.4415, Accuracy: 83.75%\n",
            "[6] Test Loss: 0.4305, Accuracy: 84.50%\n",
            "[7] Test Loss: 0.4209, Accuracy: 84.77%\n",
            "[8] Test Loss: 0.4041, Accuracy: 85.67%\n",
            "[9] Test Loss: 0.3980, Accuracy: 85.61%\n",
            "[10] Test Loss: 0.3908, Accuracy: 85.86%\n",
            "[11] Test Loss: 0.3821, Accuracy: 86.34%\n",
            "[12] Test Loss: 0.3798, Accuracy: 86.36%\n",
            "[13] Test Loss: 0.3801, Accuracy: 86.29%\n",
            "[14] Test Loss: 0.3732, Accuracy: 86.66%\n",
            "[15] Test Loss: 0.3635, Accuracy: 87.00%\n",
            "[16] Test Loss: 0.3620, Accuracy: 87.04%\n",
            "[17] Test Loss: 0.3585, Accuracy: 87.01%\n",
            "[18] Test Loss: 0.3634, Accuracy: 86.86%\n",
            "[19] Test Loss: 0.3553, Accuracy: 87.21%\n",
            "[20] Test Loss: 0.3532, Accuracy: 86.95%\n",
            "[21] Test Loss: 0.3449, Accuracy: 87.69%\n",
            "[22] Test Loss: 0.3440, Accuracy: 87.64%\n",
            "[23] Test Loss: 0.3412, Accuracy: 87.73%\n",
            "[24] Test Loss: 0.3403, Accuracy: 87.75%\n",
            "[25] Test Loss: 0.3469, Accuracy: 87.37%\n",
            "[26] Test Loss: 0.3343, Accuracy: 87.98%\n",
            "[27] Test Loss: 0.3415, Accuracy: 87.81%\n",
            "[28] Test Loss: 0.3307, Accuracy: 88.18%\n",
            "[29] Test Loss: 0.3357, Accuracy: 87.90%\n",
            "[30] Test Loss: 0.3321, Accuracy: 87.70%\n",
            "[31] Test Loss: 0.3340, Accuracy: 88.11%\n",
            "[32] Test Loss: 0.3308, Accuracy: 87.80%\n",
            "[33] Test Loss: 0.3284, Accuracy: 88.08%\n",
            "[34] Test Loss: 0.3219, Accuracy: 88.14%\n",
            "[35] Test Loss: 0.3223, Accuracy: 88.18%\n",
            "[36] Test Loss: 0.3182, Accuracy: 88.56%\n",
            "[37] Test Loss: 0.3276, Accuracy: 88.19%\n",
            "[38] Test Loss: 0.3169, Accuracy: 88.67%\n",
            "[39] Test Loss: 0.3194, Accuracy: 88.58%\n",
            "[40] Test Loss: 0.3179, Accuracy: 88.72%\n",
            "[41] Test Loss: 0.3350, Accuracy: 87.73%\n",
            "[42] Test Loss: 0.3147, Accuracy: 88.63%\n",
            "[43] Test Loss: 0.3112, Accuracy: 88.90%\n",
            "[44] Test Loss: 0.3093, Accuracy: 88.71%\n",
            "[45] Test Loss: 0.3119, Accuracy: 88.75%\n",
            "[46] Test Loss: 0.3138, Accuracy: 88.56%\n",
            "[47] Test Loss: 0.3082, Accuracy: 88.94%\n",
            "[48] Test Loss: 0.3103, Accuracy: 88.77%\n",
            "[49] Test Loss: 0.3122, Accuracy: 88.72%\n",
            "[50] Test Loss: 0.3083, Accuracy: 88.85%\n"
          ]
        }
      ]
    },
    {
      "cell_type": "markdown",
      "source": [
        "# 자동 미분(Autograd)"
      ],
      "metadata": {
        "id": "Kq-myLBBxPTg"
      }
    },
    {
      "cell_type": "code",
      "source": [
        "# 임의로 2w^2 + 5 라는 식을 세우고 w에 대해 미분 \n",
        "import torch"
      ],
      "metadata": {
        "id": "8xnbD9wnxIF3"
      },
      "execution_count": null,
      "outputs": []
    },
    {
      "cell_type": "code",
      "source": [
        "w = torch.tensor(2.0, requires_grad =True)"
      ],
      "metadata": {
        "id": "UPwS5cr5xepZ"
      },
      "execution_count": null,
      "outputs": []
    },
    {
      "cell_type": "code",
      "source": [
        "y = w**2\n",
        "z = 2 * y + 5"
      ],
      "metadata": {
        "id": "xd-8wsM1yP5H"
      },
      "execution_count": null,
      "outputs": []
    },
    {
      "cell_type": "code",
      "source": [
        "# 수식을 w에 대해서 미분 \n",
        "# .backward() 호출로 기울기로 계산 \n",
        "z.backward()"
      ],
      "metadata": {
        "id": "JxH2N07GyzGm"
      },
      "execution_count": null,
      "outputs": []
    },
    {
      "cell_type": "code",
      "source": [
        "print('수식을 w로 미분한값 :{}'.format(w.grad))"
      ],
      "metadata": {
        "colab": {
          "base_uri": "https://localhost:8080/"
        },
        "id": "dFwx7i-oy60O",
        "outputId": "7d794587-f94c-4f0b-e0e1-ed1b61ec108c"
      },
      "execution_count": null,
      "outputs": [
        {
          "output_type": "stream",
          "name": "stdout",
          "text": [
            "수식을 w로 미분한값 :8.0\n"
          ]
        }
      ]
    },
    {
      "cell_type": "code",
      "source": [],
      "metadata": {
        "id": "BABC_GCczKte"
      },
      "execution_count": null,
      "outputs": []
    }
  ]
}