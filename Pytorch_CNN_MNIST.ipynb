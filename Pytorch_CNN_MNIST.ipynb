{
  "nbformat": 4,
  "nbformat_minor": 0,
  "metadata": {
    "colab": {
      "provenance": [],
      "toc_visible": true,
      "authorship_tag": "ABX9TyO2Mk4RV6cc5FYfU4h+7ujp",
      "include_colab_link": true
    },
    "kernelspec": {
      "name": "python3",
      "display_name": "Python 3"
    },
    "language_info": {
      "name": "python"
    },
    "gpuClass": "standard",
    "accelerator": "GPU"
  },
  "cells": [
    {
      "cell_type": "markdown",
      "metadata": {
        "id": "view-in-github",
        "colab_type": "text"
      },
      "source": [
        "<a href=\"https://colab.research.google.com/github/SeoJiWon1/ML-DL/blob/main/Pytorch_CNN_MNIST.ipynb\" target=\"_parent\"><img src=\"https://colab.research.google.com/assets/colab-badge.svg\" alt=\"Open In Colab\"/></a>"
      ]
    },
    {
      "cell_type": "markdown",
      "source": [
        "# CNN으로 MNIST 분류하기"
      ],
      "metadata": {
        "id": "UOy-nbDMWMfQ"
      }
    },
    {
      "cell_type": "markdown",
      "source": [
        "* 합성곱 신경망은 출처에 따라서 합성곱 층을 부르는 단위가 조금 다르다\n",
        "* 1. 첫번째 표기 방법\n",
        "\n",
        "합성곱(nn.Cov2d) + 활성화 함수(nn.ReLU)를 하나의 합성곱 층으로 보고, 맥스풀링(nn.MaxPoold2d)은 풀링 층으로 별도로 명명\n",
        "\n",
        "* 2. 두번째 표기 방법\n",
        "\n",
        "합성곱(nn.Conv2d) + 활성화 함수(nn.ReLU) + 맥스풀링(nn.MaxPoold2d)을 하나의 합성곱 층"
      ],
      "metadata": {
        "id": "Yq3m3iXbWR0j"
      }
    },
    {
      "cell_type": "markdown",
      "source": [
        "편의를 위해 맥스풀링까지도 포함해서 하나의 합성곱 층으로 판단하고 정리"
      ],
      "metadata": {
        "id": "4J6VH2o0WRyh"
      }
    },
    {
      "cell_type": "markdown",
      "source": [
        "## 모델의 아키텍처: 총 3개의 층으로 구성"
      ],
      "metadata": {
        "id": "ucBXEuFMWRwX"
      }
    },
    {
      "cell_type": "markdown",
      "source": [
        "### 1번 레이어 : 합성곱층(Convolutional layer)\n",
        "합성곱(in_channel = 1, out_channel = 32, kernel_size=3, stride=1, padding=1) + 활성화 함수 ReLU\n",
        "맥스풀링(kernel_size=2, stride=2))\n"
      ],
      "metadata": {
        "id": "Y5A0-awxWxKA"
      }
    },
    {
      "cell_type": "markdown",
      "source": [
        "### 2번 레이어 : 합성곱층(Convolutional layer)\n",
        "합성곱(in_channel = 32, out_channel = 64, kernel_size=3, stride=1, padding=1) + 활성화 함수 ReLU\n",
        "맥스풀링(kernel_size=2, stride=2))\n",
        "\n"
      ],
      "metadata": {
        "id": "vBjRX9KpW-pw"
      }
    },
    {
      "cell_type": "markdown",
      "source": [
        "### 3번 레이어 : 전결합층(Fully-Connected layer)\n",
        "특성맵을 펼친다. # batch_size × 7 × 7 × 64 → batch_size × 3136\n",
        "전결합층(뉴런 10개) + 활성화 함수 Softmax"
      ],
      "metadata": {
        "id": "jaIp-MEUXAMI"
      }
    },
    {
      "cell_type": "markdown",
      "source": [
        "## 모델 구현\n"
      ],
      "metadata": {
        "id": "tVZOlIejXCD4"
      }
    },
    {
      "cell_type": "markdown",
      "source": [
        "### 1. 필요한 도구 임포트와 입력 정의."
      ],
      "metadata": {
        "id": "Sq4O2uyyX1HX"
      }
    },
    {
      "cell_type": "code",
      "execution_count": 1,
      "metadata": {
        "id": "3ckfwFpkWHvz"
      },
      "outputs": [],
      "source": [
        "import torch\n",
        "import torch.nn as nn"
      ]
    },
    {
      "cell_type": "code",
      "source": [
        "# 배치 크기 × 채널 × 높이(height) × 너비(widht)의 크기의 텐서를 선언\n",
        "inputs = torch.Tensor(1,1,28,28)\n",
        "print(f'텐서의 크기:{inputs.shape}')"
      ],
      "metadata": {
        "colab": {
          "base_uri": "https://localhost:8080/"
        },
        "id": "PlesXpvGX5EC",
        "outputId": "c28bfbb0-dc6d-444e-fa32-afe1784c9f7f"
      },
      "execution_count": 2,
      "outputs": [
        {
          "output_type": "stream",
          "name": "stdout",
          "text": [
            "텐서의 크기:torch.Size([1, 1, 28, 28])\n"
          ]
        }
      ]
    },
    {
      "cell_type": "markdown",
      "source": [
        "### 2. 합성곱층과 풀링 선언하기"
      ],
      "metadata": {
        "id": "QQdE-dChYz4_"
      }
    },
    {
      "cell_type": "markdown",
      "source": [
        "* 첫번째 합성곱 층을 구현\n",
        "* 1채널 짜리를 입력받아서 32채널을 뽑아내는데 커널 사이즈는 3이고 패딩은 1"
      ],
      "metadata": {
        "id": "RY6lIOInY3rn"
      }
    },
    {
      "cell_type": "code",
      "source": [
        "conv1 = nn.Conv2d(1, 32, 3, padding =1)\n",
        "print(conv1)"
      ],
      "metadata": {
        "colab": {
          "base_uri": "https://localhost:8080/"
        },
        "id": "_MGlhK6JYY4m",
        "outputId": "c4dcc939-6a7c-46b7-bfc1-0024126e1f98"
      },
      "execution_count": 3,
      "outputs": [
        {
          "output_type": "stream",
          "name": "stdout",
          "text": [
            "Conv2d(1, 32, kernel_size=(3, 3), stride=(1, 1), padding=(1, 1))\n"
          ]
        }
      ]
    },
    {
      "cell_type": "markdown",
      "source": [
        "* 두 번째 합성곱 층을 구현\n",
        "* 32 채널 입력 64채널을 뽑아내는데 커널 사이즈는 3 패딩은 1"
      ],
      "metadata": {
        "id": "rKu3vHeIdU3X"
      }
    },
    {
      "cell_type": "code",
      "source": [
        "conv2 = nn.Conv2d(32, 64, kernel_size=3, padding =1)\n",
        "print(conv2)"
      ],
      "metadata": {
        "colab": {
          "base_uri": "https://localhost:8080/"
        },
        "id": "haGi_XSncxRU",
        "outputId": "026ac41c-6b01-4161-88f3-2cb16c0ca941"
      },
      "execution_count": 4,
      "outputs": [
        {
          "output_type": "stream",
          "name": "stdout",
          "text": [
            "Conv2d(32, 64, kernel_size=(3, 3), stride=(1, 1), padding=(1, 1))\n"
          ]
        }
      ]
    },
    {
      "cell_type": "markdown",
      "source": [
        "* 맥스풀링 구현현"
      ],
      "metadata": {
        "id": "3bm38g0udmQX"
      }
    },
    {
      "cell_type": "code",
      "source": [
        "pool = nn.MaxPool2d(2)\n",
        "print(pool)"
      ],
      "metadata": {
        "colab": {
          "base_uri": "https://localhost:8080/"
        },
        "id": "17iRkHdzdkWi",
        "outputId": "0808fde9-6d42-4ad6-8c9e-f91fa06ab3f7"
      },
      "execution_count": 5,
      "outputs": [
        {
          "output_type": "stream",
          "name": "stdout",
          "text": [
            "MaxPool2d(kernel_size=2, stride=2, padding=0, dilation=1, ceil_mode=False)\n"
          ]
        }
      ]
    },
    {
      "cell_type": "markdown",
      "source": [
        "### 3. 구현체를 연결하여 모델 만들기\n",
        "* 지금까지는 선언만 연결은x \n",
        "* 이들을 연결시켜서 모델을 완성\n",
        "* 첫 번째 합성곱층 통과\n",
        "* 통과시킨 후 텐서의 크기 비교"
      ],
      "metadata": {
        "id": "GHUYD1ameae-"
      }
    },
    {
      "cell_type": "code",
      "source": [
        "out = conv1(inputs)\n",
        "print(out.shape)"
      ],
      "metadata": {
        "colab": {
          "base_uri": "https://localhost:8080/"
        },
        "id": "dRsNLCIDetXP",
        "outputId": "56912e56-9bc8-469b-a22e-bafb95e4d63e"
      },
      "execution_count": 6,
      "outputs": [
        {
          "output_type": "stream",
          "name": "stdout",
          "text": [
            "torch.Size([1, 32, 28, 28])\n"
          ]
        }
      ]
    },
    {
      "cell_type": "markdown",
      "source": [
        "32채널의 28너비 28높이의 텐서\n",
        "\n",
        "32가 나온 이유는 conv1의 out_channel로 32를 지정해주었기 때문\n",
        "\n",
        "또한, 28너비 28높이가 된 이유는 패딩을 1폭으로 하고 3 × 3 커널을 사용하면 크기가 보존"
      ],
      "metadata": {
        "id": "bUY6EnHAeg3O"
      }
    },
    {
      "cell_type": "markdown",
      "source": [
        "* 맥스풀링을 통과시키고 통과한 후의 텐서 크기 비교"
      ],
      "metadata": {
        "id": "PNCSpTi0fpV2"
      }
    },
    {
      "cell_type": "code",
      "source": [
        "out  = pool(out)\n",
        "print(out.shape)"
      ],
      "metadata": {
        "colab": {
          "base_uri": "https://localhost:8080/"
        },
        "id": "VUCvC_Sod2lh",
        "outputId": "7b29e671-57a1-4368-dfc6-72b31dce5017"
      },
      "execution_count": 7,
      "outputs": [
        {
          "output_type": "stream",
          "name": "stdout",
          "text": [
            "torch.Size([1, 32, 14, 14])\n"
          ]
        }
      ]
    },
    {
      "cell_type": "code",
      "source": [
        "out = conv2(out)\n",
        "print(out.shape)"
      ],
      "metadata": {
        "colab": {
          "base_uri": "https://localhost:8080/"
        },
        "id": "dcYj8fLXf2yz",
        "outputId": "24a9495f-a608-4a4a-cef3-8759ed643ec8"
      },
      "execution_count": 8,
      "outputs": [
        {
          "output_type": "stream",
          "name": "stdout",
          "text": [
            "torch.Size([1, 64, 14, 14])\n"
          ]
        }
      ]
    },
    {
      "cell_type": "markdown",
      "source": [
        "* 이를 맥스풀링을 통과시키고 맥스풀링을 통과한 후의 텐서의 크기를 비교"
      ],
      "metadata": {
        "id": "mZAEUp1yhM2O"
      }
    },
    {
      "cell_type": "code",
      "source": [
        "out = pool(out)\n",
        "print(out.shape)"
      ],
      "metadata": {
        "colab": {
          "base_uri": "https://localhost:8080/"
        },
        "id": "jCMf6LfphJrE",
        "outputId": "828d0f50-6baf-4762-f258-d40460590f48"
      },
      "execution_count": 9,
      "outputs": [
        {
          "output_type": "stream",
          "name": "stdout",
          "text": [
            "torch.Size([1, 64, 7, 7])\n"
          ]
        }
      ]
    },
    {
      "cell_type": "markdown",
      "source": [
        "*  .view()를 사용하여 텐서를 펼치는 작업"
      ],
      "metadata": {
        "id": "hd7jWNd4heNW"
      }
    },
    {
      "cell_type": "code",
      "source": [
        "# 첫번째 차원인 배치 차원은 그대로 두고 나머지는 펼쳐라\n",
        "out = out.view(out.size(0), -1)\n",
        "print(out.shape)"
      ],
      "metadata": {
        "colab": {
          "base_uri": "https://localhost:8080/"
        },
        "id": "rdVZbApchZq1",
        "outputId": "150b17f0-95d0-43a8-f03d-6b50e253ecd6"
      },
      "execution_count": 10,
      "outputs": [
        {
          "output_type": "stream",
          "name": "stdout",
          "text": [
            "torch.Size([1, 3136])\n"
          ]
        }
      ]
    },
    {
      "cell_type": "code",
      "source": [
        "# n번째 차원을 접근하게 해주는 .size(n)\n",
        "# 현재 out의 크기 1 x 64 x 7 x 7\n",
        "# out의 첫 번째 차원이 몇인지 출력\n",
        "out.size(0)\n"
      ],
      "metadata": {
        "colab": {
          "base_uri": "https://localhost:8080/"
        },
        "id": "wi_hNvqaiBEP",
        "outputId": "20e4366b-f591-47bf-f5cc-5b8d860eca80"
      },
      "execution_count": 11,
      "outputs": [
        {
          "output_type": "execute_result",
          "data": {
            "text/plain": [
              "1"
            ]
          },
          "metadata": {},
          "execution_count": 11
        }
      ]
    },
    {
      "cell_type": "code",
      "source": [
        "out.size(1)"
      ],
      "metadata": {
        "colab": {
          "base_uri": "https://localhost:8080/"
        },
        "id": "s08WOduQimVy",
        "outputId": "ee950806-2cfe-4769-c129-1f4f8eb770ec"
      },
      "execution_count": 12,
      "outputs": [
        {
          "output_type": "execute_result",
          "data": {
            "text/plain": [
              "3136"
            ]
          },
          "metadata": {},
          "execution_count": 12
        }
      ]
    },
    {
      "cell_type": "markdown",
      "source": [
        "* 이제 이에 대해서 전결합층(Fully-Connteced layer)를 통과\n",
        "* CNN은 합성곱층, 풀링층, 전결합층으로 구성\n",
        "* 출력층으로 10개의 뉴런을 배치하여 10개 차원의 텐서로 변환"
      ],
      "metadata": {
        "id": "OkW86Besi9pF"
      }
    },
    {
      "cell_type": "code",
      "source": [
        "fc = nn.Linear(3136, 10) # input_dim = 3136, output_dim =10)\n",
        "out = fc(out)\n",
        "print(out.shape)"
      ],
      "metadata": {
        "colab": {
          "base_uri": "https://localhost:8080/"
        },
        "id": "oRvxWbPbi0Dm",
        "outputId": "84320983-b227-41f2-9112-4f418d66d272"
      },
      "execution_count": 13,
      "outputs": [
        {
          "output_type": "stream",
          "name": "stdout",
          "text": [
            "torch.Size([1, 10])\n"
          ]
        }
      ]
    },
    {
      "cell_type": "markdown",
      "source": [
        "## CNN으로 MNIST 분류하기"
      ],
      "metadata": {
        "id": "v9X0jlRilDeV"
      }
    },
    {
      "cell_type": "markdown",
      "source": [
        "### (1) 필요한 도구 임포트"
      ],
      "metadata": {
        "id": "OmqpZtZ_l87O"
      }
    },
    {
      "cell_type": "code",
      "source": [
        "import torch\n",
        "import torchvision.datasets as dsets\n",
        "import torchvision.transforms as transforms\n",
        "import torch.nn.init"
      ],
      "metadata": {
        "id": "pYBGO6tPk9cw"
      },
      "execution_count": 17,
      "outputs": []
    },
    {
      "cell_type": "markdown",
      "source": [
        "### (2) GPU 사용 가능 여부"
      ],
      "metadata": {
        "id": "1sL56HJWmJ_k"
      }
    },
    {
      "cell_type": "code",
      "source": [
        "device = 'cuda' if torch.cuda.is_available() else 'cpu'\n",
        "\n",
        "# 랜덤 시드 고정\n",
        "torch.manual_seed(777)\n",
        "\n",
        "# GPU 사용 가능일 경우 랜덤 시드 고정\n",
        "if device == 'cuda':\n",
        "    torch.cuda.manual_seed_all(777)\n"
      ],
      "metadata": {
        "id": "xYwF0wONlRXG"
      },
      "execution_count": 18,
      "outputs": []
    },
    {
      "cell_type": "markdown",
      "source": [
        "### (3) 학습에 사용할 파라미터 설정"
      ],
      "metadata": {
        "id": "qpRje2jXmBzM"
      }
    },
    {
      "cell_type": "code",
      "source": [
        "learning_rate = 0.001\n",
        "training_epochs = 15\n",
        "batch_size  = 100"
      ],
      "metadata": {
        "id": "RxzQShePl5K2"
      },
      "execution_count": 30,
      "outputs": []
    },
    {
      "cell_type": "markdown",
      "source": [
        "### (4) 데이터로더를 사용하여 데이터셋을 정의"
      ],
      "metadata": {
        "id": "wlAztpBtmwsE"
      }
    },
    {
      "cell_type": "code",
      "source": [
        "mnist_train = dsets.MNIST(root = \"MNIST_data/\",\n",
        "                         train = True,\n",
        "                         transform = transforms.ToTensor(),\n",
        "                         download = True)\n",
        "\n",
        "mnist_test = dsets.MNIST(root = \"MNIST_data/\",\n",
        "                         train = False,\n",
        "                         transform = transforms.ToTensor(),\n",
        "                         download = True)\n"
      ],
      "metadata": {
        "id": "xKSLANF-mutE"
      },
      "execution_count": 31,
      "outputs": []
    },
    {
      "cell_type": "markdown",
      "source": [
        "### (5) 데이터로더를 사용하여 배치 크기를 지정"
      ],
      "metadata": {
        "id": "MacVgHb6otUr"
      }
    },
    {
      "cell_type": "code",
      "source": [
        "data_loader = torch.utils.data.DataLoader(dataset =mnist_train,\n",
        "                                          batch_size = batch_size,\n",
        "                                          shuffle = True,\n",
        "                                          drop_last = True)"
      ],
      "metadata": {
        "id": "QdeW4EauorWH"
      },
      "execution_count": 32,
      "outputs": []
    },
    {
      "cell_type": "markdown",
      "source": [
        "### (6) 클래스로 모델을 설계"
      ],
      "metadata": {
        "id": "qPl7AOJbpa-9"
      }
    },
    {
      "cell_type": "code",
      "source": [
        "class CNN(torch.nn.Module):\n",
        "\n",
        "    def __init__(self):\n",
        "        super(CNN, self).__init__()\n",
        "        # 첫번째층\n",
        "        # ImgIn shape=(?, 28, 28, 1)\n",
        "        #    Conv     -> (?, 28, 28, 32)\n",
        "        #    Pool     -> (?, 14, 14, 32)\n",
        "        self.layer1 = torch.nn.Sequential(\n",
        "            torch.nn.Conv2d(1, 32, kernel_size=3, stride=1, padding=1),\n",
        "            torch.nn.ReLU(),\n",
        "            torch.nn.MaxPool2d(kernel_size=2, stride=2))\n",
        "\n",
        "        # 두번째층\n",
        "        # ImgIn shape=(?, 14, 14, 32)\n",
        "        #    Conv      ->(?, 14, 14, 64)\n",
        "        #    Pool      ->(?, 7, 7, 64)\n",
        "        self.layer2 = torch.nn.Sequential(\n",
        "            torch.nn.Conv2d(32, 64, kernel_size=3, stride=1, padding=1),\n",
        "            torch.nn.ReLU(),\n",
        "            torch.nn.MaxPool2d(kernel_size=2, stride=2))\n",
        "\n",
        "        # 전결합층 7x7x64 inputs -> 10 outputs\n",
        "        self.fc = torch.nn.Linear(7 * 7 * 64, 10, bias=True)\n",
        "\n",
        "        # 전결합층 한정으로 가중치 초기화\n",
        "        torch.nn.init.xavier_uniform_(self.fc.weight)\n",
        "\n",
        "    def forward(self, x):\n",
        "        out = self.layer1(x)\n",
        "        out = self.layer2(out)\n",
        "        out = out.view(out.size(0), -1)   # 전결합층을 위해서 Flatten\n",
        "        out = self.fc(out)\n",
        "        return out\n"
      ],
      "metadata": {
        "id": "tt5z-kpFpTQX"
      },
      "execution_count": 33,
      "outputs": []
    },
    {
      "cell_type": "markdown",
      "source": [
        "## 모델을 정의"
      ],
      "metadata": {
        "id": "t6rzihBQuayw"
      }
    },
    {
      "cell_type": "code",
      "source": [
        "# CNN 모델 정의\n",
        "model = CNN().to(device)"
      ],
      "metadata": {
        "id": "jsVjCydguZhB"
      },
      "execution_count": 34,
      "outputs": []
    },
    {
      "cell_type": "markdown",
      "source": [
        "## 비용 함수와 옵티마이저를 정의"
      ],
      "metadata": {
        "id": "MVHECRKAvCox"
      }
    },
    {
      "cell_type": "code",
      "source": [
        "criterion = torch.nn.CrossEntropyLoss().to(device) # 비용 함수에 소프트맥스 함수가 포함되어져 있음\n",
        "optimizer = torch.optim.Adam(model.parameters(), lr = learning_rate)"
      ],
      "metadata": {
        "id": "dWxNH2vAuomU"
      },
      "execution_count": 35,
      "outputs": []
    },
    {
      "cell_type": "markdown",
      "source": [
        "## 총 배치의 수 출력"
      ],
      "metadata": {
        "id": "dBuqS-PDvi8w"
      }
    },
    {
      "cell_type": "code",
      "source": [
        "total_batch = len(data_loader)\n",
        "print(f\"총 배치의 수 : {total_batch}\")"
      ],
      "metadata": {
        "colab": {
          "base_uri": "https://localhost:8080/"
        },
        "id": "wKRM-s9IvW3R",
        "outputId": "eebefa8f-3541-43ad-f838-e66b959701cf"
      },
      "execution_count": 36,
      "outputs": [
        {
          "output_type": "stream",
          "name": "stdout",
          "text": [
            "총 배치의 수 : 600\n"
          ]
        }
      ]
    },
    {
      "cell_type": "markdown",
      "source": [
        "* 총 배치의 수는 600\n",
        "\n",
        "* 배치 크기를 100으로 했으므로 결국 훈련 데이터는 총 60,000개란 의미"
      ],
      "metadata": {
        "id": "xiCoLTaDv1Og"
      }
    },
    {
      "cell_type": "markdown",
      "source": [
        "## 모델을 훈련"
      ],
      "metadata": {
        "id": "mORk9FAUv7ew"
      }
    },
    {
      "cell_type": "code",
      "source": [
        "for epoch in range(training_epochs):\n",
        "    avg_cost = 0\n",
        "\n",
        "    for X, Y in data_loader: # 미니 배치 단위로 꺼내온다. X는 미니 배치, Y는 레이블.\n",
        "        # image is already size of (28x28), no reshape\n",
        "        # label is not one-hot encoded\n",
        "        X = X.to(device)\n",
        "        Y = Y.to(device)\n",
        "\n",
        "        optimizer.zero_grad()\n",
        "        hypothesis = model(X)\n",
        "        cost = criterion(hypothesis, Y)\n",
        "        cost.backward()\n",
        "        optimizer.step()\n",
        "\n",
        "        avg_cost += cost / total_batch\n",
        "\n",
        "    print('[Epoch: {:>4}] cost = {:>.9}'.format(epoch + 1, avg_cost))"
      ],
      "metadata": {
        "colab": {
          "base_uri": "https://localhost:8080/"
        },
        "id": "czsLCjMPvzKy",
        "outputId": "dd4145cc-3ac2-41be-923d-4a72cc5d26c7"
      },
      "execution_count": 37,
      "outputs": [
        {
          "output_type": "stream",
          "name": "stdout",
          "text": [
            "[Epoch:    1] cost = 0.229303986\n",
            "[Epoch:    2] cost = 0.0645529777\n",
            "[Epoch:    3] cost = 0.0467760526\n",
            "[Epoch:    4] cost = 0.0383122563\n",
            "[Epoch:    5] cost = 0.0311420057\n",
            "[Epoch:    6] cost = 0.0265621524\n",
            "[Epoch:    7] cost = 0.0218592118\n",
            "[Epoch:    8] cost = 0.0190796815\n",
            "[Epoch:    9] cost = 0.0163430367\n",
            "[Epoch:   10] cost = 0.0140317129\n",
            "[Epoch:   11] cost = 0.0123439338\n",
            "[Epoch:   12] cost = 0.010240824\n",
            "[Epoch:   13] cost = 0.00755288964\n",
            "[Epoch:   14] cost = 0.00907103904\n",
            "[Epoch:   15] cost = 0.00620678533\n"
          ]
        }
      ]
    },
    {
      "cell_type": "markdown",
      "source": [
        "## 테스트"
      ],
      "metadata": {
        "id": "HCL4eKYoyXgf"
      }
    },
    {
      "cell_type": "code",
      "source": [
        "# 학습을 진행하지 않을 것이므로 torch.no_grad()\n",
        "with torch.no_grad():\n",
        "    X_test = mnist_test.test_data.view(len(mnist_test), 1, 28, 28).float().to(device)\n",
        "    Y_test = mnist_test.test_labels.to(device)\n",
        "\n",
        "    prediction = model(X_test)\n",
        "    correct_prediction = torch.argmax(prediction, 1) == Y_test\n",
        "    accuracy = correct_prediction.float().mean()\n",
        "    print('Accuracy:', accuracy.item())"
      ],
      "metadata": {
        "colab": {
          "base_uri": "https://localhost:8080/"
        },
        "id": "ikIC9oJSv-bs",
        "outputId": "1e230f2d-b736-4d52-dc15-f05e0d2c8e9b"
      },
      "execution_count": 38,
      "outputs": [
        {
          "output_type": "stream",
          "name": "stdout",
          "text": [
            "Accuracy: 0.9872999787330627\n"
          ]
        },
        {
          "output_type": "stream",
          "name": "stderr",
          "text": [
            "/usr/local/lib/python3.8/dist-packages/torchvision/datasets/mnist.py:80: UserWarning: test_data has been renamed data\n",
            "  warnings.warn(\"test_data has been renamed data\")\n",
            "/usr/local/lib/python3.8/dist-packages/torchvision/datasets/mnist.py:70: UserWarning: test_labels has been renamed targets\n",
            "  warnings.warn(\"test_labels has been renamed targets\")\n"
          ]
        }
      ]
    },
    {
      "cell_type": "code",
      "source": [],
      "metadata": {
        "id": "o4fFWovdyab4"
      },
      "execution_count": null,
      "outputs": []
    }
  ]
}