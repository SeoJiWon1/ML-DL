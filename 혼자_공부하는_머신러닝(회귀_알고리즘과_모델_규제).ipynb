{
  "nbformat": 4,
  "nbformat_minor": 0,
  "metadata": {
    "colab": {
      "provenance": [],
      "toc_visible": true,
      "authorship_tag": "ABX9TyO2paYUR4BSQbInAlitzTlD",
      "include_colab_link": true
    },
    "kernelspec": {
      "name": "python3",
      "display_name": "Python 3"
    },
    "language_info": {
      "name": "python"
    }
  },
  "cells": [
    {
      "cell_type": "markdown",
      "metadata": {
        "id": "view-in-github",
        "colab_type": "text"
      },
      "source": [
        "<a href=\"https://colab.research.google.com/github/SeoJiWon1/ML-DL/blob/main/%ED%98%BC%EC%9E%90_%EA%B3%B5%EB%B6%80%ED%95%98%EB%8A%94_%EB%A8%B8%EC%8B%A0%EB%9F%AC%EB%8B%9D(%ED%9A%8C%EA%B7%80_%EC%95%8C%EA%B3%A0%EB%A6%AC%EC%A6%98%EA%B3%BC_%EB%AA%A8%EB%8D%B8_%EA%B7%9C%EC%A0%9C).ipynb\" target=\"_parent\"><img src=\"https://colab.research.google.com/assets/colab-badge.svg\" alt=\"Open In Colab\"/></a>"
      ]
    },
    {
      "cell_type": "markdown",
      "source": [
        "# 회귀 알고리즘과 모델 규제"
      ],
      "metadata": {
        "id": "df68Ugkm2I33"
      }
    },
    {
      "cell_type": "markdown",
      "source": [
        "# k-최근접 이웃 회귀"
      ],
      "metadata": {
        "id": "T30x-ga_2M82"
      }
    },
    {
      "cell_type": "markdown",
      "source": [
        "## 회귀 문제\n",
        "* 두 변수 사이의 상관관계를 분석하는 방법\n",
        "* 예시) 임의의 어떤 숫자를 예측하는 문제\n",
        "* 농어의 무게를 예측"
      ],
      "metadata": {
        "id": "3v8FZr2L4d60"
      }
    },
    {
      "cell_type": "markdown",
      "source": [
        "## k-최근접 이웃 분류 알고리즘\n",
        "* 예측하려는 샘플에 가장 가까운 샘플 k개를 선택\n",
        "* 샘플들의 클래스를 확인하여 다수 클래스를 샐운 샘플의 클래스로 예측"
      ],
      "metadata": {
        "id": "uIeIvn1Z5xP8"
      }
    },
    {
      "cell_type": "markdown",
      "source": [
        "## 데이터 준비"
      ],
      "metadata": {
        "id": "OQUfPAd66N9E"
      }
    },
    {
      "cell_type": "code",
      "source": [
        "import numpy as np\n",
        "\n",
        "# 농어의 길이 -> 특성\n",
        "# 농어의 무게 -> 타깃\n",
        "\n",
        "\n",
        "\n",
        "perch_length = np.array([8.4, 13.7, 15.0, 16.2, 17.4, 18.0, 18.7, 19.0, 19.6, 20.0, 21.0,\n",
        "       21.0, 21.0, 21.3, 22.0, 22.0, 22.0, 22.0, 22.0, 22.5, 22.5, 22.7,\n",
        "       23.0, 23.5, 24.0, 24.0, 24.6, 25.0, 25.6, 26.5, 27.3, 27.5, 27.5,\n",
        "       27.5, 28.0, 28.7, 30.0, 32.8, 34.5, 35.0, 36.5, 36.0, 37.0, 37.0,\n",
        "       39.0, 39.0, 39.0, 40.0, 40.0, 40.0, 40.0, 42.0, 43.0, 43.0, 43.5,\n",
        "       44.0])\n",
        "\n",
        "perch_weight = np.array([5.9, 32.0, 40.0, 51.5, 70.0, 100.0, 78.0, 80.0, 85.0, 85.0, 110.0,\n",
        "       115.0, 125.0, 130.0, 120.0, 120.0, 130.0, 135.0, 110.0, 130.0,\n",
        "       150.0, 145.0, 150.0, 170.0, 225.0, 145.0, 188.0, 180.0, 197.0,\n",
        "       218.0, 300.0, 260.0, 265.0, 250.0, 250.0, 300.0, 320.0, 514.0,\n",
        "       556.0, 840.0, 685.0, 700.0, 700.0, 690.0, 900.0, 650.0, 820.0,\n",
        "       850.0, 900.0, 1015.0, 820.0, 1100.0, 1000.0, 1100.0, 1000.0,\n",
        "       1000.0])"
      ],
      "metadata": {
        "id": "eTugQFRT2MBX"
      },
      "execution_count": null,
      "outputs": []
    },
    {
      "cell_type": "code",
      "source": [
        " # 산점도 그려보기 \n",
        "\n",
        "import matplotlib.pyplot as plt\n",
        "plt.scatter(perch_length, perch_weight)\n",
        "plt.xlabel('length')\n",
        "plt.ylabel('weight')\n",
        "plt.show"
      ],
      "metadata": {
        "colab": {
          "base_uri": "https://localhost:8080/",
          "height": 297
        },
        "id": "NBegcGCc6dv1",
        "outputId": "5f33d2a3-bd82-4b9b-c53d-82de5a02dc31"
      },
      "execution_count": null,
      "outputs": [
        {
          "output_type": "execute_result",
          "data": {
            "text/plain": [
              "<function matplotlib.pyplot.show(*args, **kw)>"
            ]
          },
          "metadata": {},
          "execution_count": 137
        },
        {
          "output_type": "display_data",
          "data": {
            "text/plain": [
              "<Figure size 432x288 with 1 Axes>"
            ],
            "image/png": "[encoded data removed]"
          },
          "metadata": {
            "needs_background": "light"
          }
        }
      ]
    },
    {
      "cell_type": "markdown",
      "source": [
        "## 훈련세트 / 테스트 세트 분류"
      ],
      "metadata": {
        "id": "QOiocsuh75HN"
      }
    },
    {
      "cell_type": "code",
      "source": [
        "from sklearn.model_selection import train_test_split\n",
        "train_input, test_input, train_target, test_target = train_test_split(\n",
        "    perch_length, perch_weight, random_state = 42\n",
        ")"
      ],
      "metadata": {
        "id": "NsjKTmYS8Epn"
      },
      "execution_count": null,
      "outputs": []
    },
    {
      "cell_type": "code",
      "source": [
        "# 사이킷 런에 사용할 훈련 세트는 2차원 배열이여야 한다. \n",
        "# (4,) 배열을 (2,2) 크기로 바꾸기  --> 1차원 배열을 2차원 배열로 바꿈 \n",
        "test_array = np.array([1, 2, 3, 4])\n",
        "print(test_array.shape)"
      ],
      "metadata": {
        "colab": {
          "base_uri": "https://localhost:8080/"
        },
        "id": "f8jacEmd8hNU",
        "outputId": "2d888a35-9d86-42d3-d567-d67ea463775f"
      },
      "execution_count": null,
      "outputs": [
        {
          "output_type": "stream",
          "name": "stdout",
          "text": [
            "(4,)\n"
          ]
        }
      ]
    },
    {
      "cell_type": "code",
      "source": [
        "test_array = test_array.reshape(2,2)\n",
        "print(test_array.shape)"
      ],
      "metadata": {
        "colab": {
          "base_uri": "https://localhost:8080/"
        },
        "id": "6SHq6E2_9rgE",
        "outputId": "86b31c6b-ef5e-4cde-bba9-7bbcf005b6ac"
      },
      "execution_count": null,
      "outputs": [
        {
          "output_type": "stream",
          "name": "stdout",
          "text": [
            "(2, 2)\n"
          ]
        }
      ]
    },
    {
      "cell_type": "code",
      "source": [
        "train_input.shape"
      ],
      "metadata": {
        "colab": {
          "base_uri": "https://localhost:8080/"
        },
        "id": "cK1nzsQ494PE",
        "outputId": "4f8e123b-722b-49ad-871f-1a90d55a1eed"
      },
      "execution_count": null,
      "outputs": [
        {
          "output_type": "execute_result",
          "data": {
            "text/plain": [
              "(42,)"
            ]
          },
          "metadata": {},
          "execution_count": 141
        }
      ]
    },
    {
      "cell_type": "code",
      "source": [
        "train_input = train_input.reshape(42,1)"
      ],
      "metadata": {
        "id": "M18b22Lj-7NU"
      },
      "execution_count": null,
      "outputs": []
    },
    {
      "cell_type": "code",
      "source": [
        "print(train_input.shape)"
      ],
      "metadata": {
        "colab": {
          "base_uri": "https://localhost:8080/"
        },
        "id": "JpZFaIen_Cvc",
        "outputId": "6d714b5e-b4aa-49d5-f5a1-c8ed4ce25c52"
      },
      "execution_count": null,
      "outputs": [
        {
          "output_type": "stream",
          "name": "stdout",
          "text": [
            "(42, 1)\n"
          ]
        }
      ]
    },
    {
      "cell_type": "code",
      "source": [
        "# -1 기능 사용\n",
        "train_input_two = train_input.reshape(-1,2)\n"
      ],
      "metadata": {
        "id": "Dk61m6pB_Zjc"
      },
      "execution_count": null,
      "outputs": []
    },
    {
      "cell_type": "code",
      "source": [
        "print(train_input_two.shape)"
      ],
      "metadata": {
        "colab": {
          "base_uri": "https://localhost:8080/"
        },
        "id": "ZzSLqq-l_7i9",
        "outputId": "19557ba5-6dae-4749-b4e3-445d868366be"
      },
      "execution_count": null,
      "outputs": [
        {
          "output_type": "stream",
          "name": "stdout",
          "text": [
            "(21, 2)\n"
          ]
        }
      ]
    },
    {
      "cell_type": "code",
      "source": [
        "test_input = test_input.reshape(-1,1)"
      ],
      "metadata": {
        "id": "8yW6R7b6ALKt"
      },
      "execution_count": null,
      "outputs": []
    },
    {
      "cell_type": "code",
      "source": [
        "print(train_input.shape, test_input.shape)"
      ],
      "metadata": {
        "colab": {
          "base_uri": "https://localhost:8080/"
        },
        "id": "PJsHLqEaAuo0",
        "outputId": "4b8148a1-dae8-46a8-c739-65fd963ce56c"
      },
      "execution_count": null,
      "outputs": [
        {
          "output_type": "stream",
          "name": "stdout",
          "text": [
            "(42, 1) (14, 1)\n"
          ]
        }
      ]
    },
    {
      "cell_type": "markdown",
      "source": [
        "## 결정계수(R^2)"
      ],
      "metadata": {
        "id": "vK0iGgEtBHYl"
      }
    },
    {
      "cell_type": "markdown",
      "source": [
        "### KNeighborsRegressor\n",
        "* 사이킷런에서 k-최근접 이웃 회귀 알고리즘을 구현한 클래스\n",
        "* 객체 생성\n",
        "* fit() 메서드로 회귀 모델을 훈련\n"
      ],
      "metadata": {
        "id": "RrYTuwL9BThk"
      }
    },
    {
      "cell_type": "code",
      "source": [
        "from sklearn.neighbors import KNeighborsRegressor # Regressor는 회귀모델 Classifier는 분류모델\n",
        "\n",
        "knr = KNeighborsRegressor()\n",
        "\n",
        "# k-최근접 이웃 회귀 모델을 훈련\n",
        "knr.fit(train_input, train_target)"
      ],
      "metadata": {
        "colab": {
          "base_uri": "https://localhost:8080/"
        },
        "id": "TbMJGZDJAzHj",
        "outputId": "d70746bf-d8ec-4897-ee6d-0fd7ca409834"
      },
      "execution_count": null,
      "outputs": [
        {
          "output_type": "execute_result",
          "data": {
            "text/plain": [
              "KNeighborsRegressor()"
            ]
          },
          "metadata": {},
          "execution_count": 148
        }
      ]
    },
    {
      "cell_type": "code",
      "source": [
        "# 테스트 세트의 점수를 확인\n",
        "print(knr.score(test_input, test_target))"
      ],
      "metadata": {
        "colab": {
          "base_uri": "https://localhost:8080/"
        },
        "id": "kBi6wdL2BwFU",
        "outputId": "76c65c3f-7d38-482b-ec08-678b325c99c8"
      },
      "execution_count": null,
      "outputs": [
        {
          "output_type": "stream",
          "name": "stdout",
          "text": [
            "0.992809406101064\n"
          ]
        }
      ]
    },
    {
      "cell_type": "markdown",
      "source": [
        "### 결정계수와 정확도 구분\n",
        "* 분류의 경우 정확도라 불리며 샘플을 정확하게 분류한 개수의 비율\n",
        "* 회귀에서는 정확한 숫자를 맞힌다는 것은 거의 불가능\n",
        "* 그렇기 때문에 다른 값으로 평가하는데 이 점수를 결정계수(coefficient of determination)라고 부른다. 이것이 R^2\n",
        "* 즉 회귀문제는 R^2이 정확도를 대신하고 분류문제는 정확도를 측정!!!!!!!\n",
        "* 만약 타깃의 평균 정도를 예측하는 수준이라면 0에 가까워지고, 예측이 타깃에 아주 가까워지면 1에 가까운 값이 된다. 1에 가까울 수록 굿\n",
        "* R^2 = 1 - { (타깃 - 예측)^2 의 합/ (타깃 - 평균)^2의 합 }"
      ],
      "metadata": {
        "id": "XWNS5zdwEPxz"
      }
    },
    {
      "cell_type": "markdown",
      "source": [
        "### score() 메서드의 출력값의 의미\n",
        "* 높을수록 좋다. \n",
        "* 대표적으로 정확도나 결정계수"
      ],
      "metadata": {
        "id": "T1ZosPyFG7WT"
      }
    },
    {
      "cell_type": "code",
      "source": [
        "# 타깃과 예측의 절댓값 오차를 평균하여 반환 mean_absolute_error\n",
        "from sklearn.metrics import mean_absolute_error\n",
        "\n",
        "# 테스트 세트에 대한 예측을 만듭니다. \n",
        "test_prediction = knr.predict(test_input)\n",
        "\n",
        "#테스트 세트에 대한 평균 절댓값 오차를 계산\n",
        "mae = mean_absolute_error(test_target, test_prediction)\n",
        "print(mae)\n",
        "\n",
        "# 결과에서 예측이 평균적으로 19g 정도 타깃값과 다르다는 것을 알 수 있다. "
      ],
      "metadata": {
        "colab": {
          "base_uri": "https://localhost:8080/"
        },
        "id": "y3n90g1HDCJt",
        "outputId": "58b2732b-6106-4398-a4f2-1405b681f9ec"
      },
      "execution_count": null,
      "outputs": [
        {
          "output_type": "stream",
          "name": "stdout",
          "text": [
            "19.157142857142862\n"
          ]
        }
      ]
    },
    {
      "cell_type": "markdown",
      "source": [
        "## 과대적합 vs 과소적합"
      ],
      "metadata": {
        "id": "R1aCf6WAIo77"
      }
    },
    {
      "cell_type": "markdown",
      "source": [
        "### 과대적합과 과소적합\n",
        "* 훈련 세트에서 점수가 굉장히 좋았는데 테스트 세트에서는 점수가 굉장히 나쁘다면 모델히 훈련 세트에 과대적합(overfitting)되었다고 한다.\n",
        "* 반대로 훈련 세트보다 테스트 세트의 점수가 높거나 두 점수가 모두 너무 낮은 경우는 훈련 세트에 과소적합(underfitting) 되었다고 말한다."
      ],
      "metadata": {
        "id": "BH3AL2VsJNKr"
      }
    },
    {
      "cell_type": "code",
      "source": [
        "# 앞에서 훈련한 모델을 사용해 훈련 세트의 R^2 점수를 확인\n",
        "print(knr.score(train_input, train_target)) \n",
        "# 훈련세트의 점수가 더 작으니 과소적합 \n",
        "# 모델을 조금 더 복잡하게 만들면 해결 가능 -> 이웃의 개수 k를 줄이는 것 (기본 k값 5)"
      ],
      "metadata": {
        "colab": {
          "base_uri": "https://localhost:8080/"
        },
        "id": "rmFVTfoGIPD8",
        "outputId": "352fb9e6-3706-4d41-d6a3-0299bd4b9299"
      },
      "execution_count": null,
      "outputs": [
        {
          "output_type": "stream",
          "name": "stdout",
          "text": [
            "0.9698823289099254\n"
          ]
        }
      ]
    },
    {
      "cell_type": "markdown",
      "source": [
        "### n_neighbors 속성값 바꾸기\n"
      ],
      "metadata": {
        "id": "diZqcOKDJLDc"
      }
    },
    {
      "cell_type": "code",
      "source": [
        "# 이웃의 개수를 3으로 설정\n",
        "knr.n_neighbors = 3 \n",
        "\n",
        "# 모델을 다시 훈련\n",
        "knr.fit(train_input, train_target)\n",
        "print(knr.score(train_input, train_target))\n",
        "\n",
        "# k의 값을 줄였더니 훈련 세트의 R^2 점수가 높아졌다. "
      ],
      "metadata": {
        "colab": {
          "base_uri": "https://localhost:8080/"
        },
        "id": "4SGaw_4PI796",
        "outputId": "054d4d6c-05b3-4cfb-ce0d-fdc51001bbe5"
      },
      "execution_count": null,
      "outputs": [
        {
          "output_type": "stream",
          "name": "stdout",
          "text": [
            "0.9804899950518966\n"
          ]
        }
      ]
    },
    {
      "cell_type": "code",
      "source": [
        "# 테스트 점수 확인\n",
        "print(knr.score(test_input, test_target))\n",
        "\n",
        "# 과소적합 문제 해결 "
      ],
      "metadata": {
        "colab": {
          "base_uri": "https://localhost:8080/"
        },
        "id": "yoKaCGToLXzs",
        "outputId": "68dc56b6-837c-4c8e-a56f-11fac1530db7"
      },
      "execution_count": null,
      "outputs": [
        {
          "output_type": "stream",
          "name": "stdout",
          "text": [
            "0.9746459963987609\n"
          ]
        }
      ]
    },
    {
      "cell_type": "markdown",
      "source": [
        "# 선형 회귀"
      ],
      "metadata": {
        "id": "mz6cUGIRPQYF"
      }
    },
    {
      "cell_type": "code",
      "source": [
        "import numpy as np\n",
        "\n",
        "# 농어의 길이 -> 특성\n",
        "# 농어의 무게 -> 타깃\n",
        "\n",
        "\n",
        "\n",
        "perch_length = np.array([8.4, 13.7, 15.0, 16.2, 17.4, 18.0, 18.7, 19.0, 19.6, 20.0, 21.0,\n",
        "       21.0, 21.0, 21.3, 22.0, 22.0, 22.0, 22.0, 22.0, 22.5, 22.5, 22.7,\n",
        "       23.0, 23.5, 24.0, 24.0, 24.6, 25.0, 25.6, 26.5, 27.3, 27.5, 27.5,\n",
        "       27.5, 28.0, 28.7, 30.0, 32.8, 34.5, 35.0, 36.5, 36.0, 37.0, 37.0,\n",
        "       39.0, 39.0, 39.0, 40.0, 40.0, 40.0, 40.0, 42.0, 43.0, 43.0, 43.5,\n",
        "       44.0])\n",
        "\n",
        "perch_weight = np.array([5.9, 32.0, 40.0, 51.5, 70.0, 100.0, 78.0, 80.0, 85.0, 85.0, 110.0,\n",
        "       115.0, 125.0, 130.0, 120.0, 120.0, 130.0, 135.0, 110.0, 130.0,\n",
        "       150.0, 145.0, 150.0, 170.0, 225.0, 145.0, 188.0, 180.0, 197.0,\n",
        "       218.0, 300.0, 260.0, 265.0, 250.0, 250.0, 300.0, 320.0, 514.0,\n",
        "       556.0, 840.0, 685.0, 700.0, 700.0, 690.0, 900.0, 650.0, 820.0,\n",
        "       850.0, 900.0, 1015.0, 820.0, 1100.0, 1000.0, 1100.0, 1000.0,\n",
        "       1000.0])"
      ],
      "metadata": {
        "id": "HmOZUaFmPSp9"
      },
      "execution_count": null,
      "outputs": []
    },
    {
      "cell_type": "code",
      "source": [
        "# 데이터를 훈련 세트와 테스트 세트로 나눈다. 특성 데이터는 2차원 배열로 변환\n",
        "from sklearn.model_selection import train_test_split\n",
        "\n",
        "train_input, test_input, train_target, test_target = train_test_split(perch_length, perch_weight, random_state =42)\n",
        "\n",
        "# 훈련 세트와 테스트 세트를 2차원 배열로 바꾸기 \n",
        "train_input = train_input.reshape(-1,1)\n",
        "test_input = test_input.reshape(-1,1)"
      ],
      "metadata": {
        "id": "rndz19R8RZsz"
      },
      "execution_count": null,
      "outputs": []
    },
    {
      "cell_type": "code",
      "source": [
        "# 최근접 이웃 개수를 3으로 하는 모델을 훈련\n",
        "\n",
        "from sklearn.neighbors import KNeighborsRegressor\n",
        "\n",
        "knr = KNeighborsRegressor(n_neighbors =3)\n",
        "\n",
        "# k - 최근접 이웃 회귀 모델을 훈련합니다. \n",
        "knr.fit(train_input, train_target)"
      ],
      "metadata": {
        "colab": {
          "base_uri": "https://localhost:8080/"
        },
        "id": "qlixC-7QSmFb",
        "outputId": "a464c451-053d-4ae4-ffcc-ffaccc1b19eb"
      },
      "execution_count": null,
      "outputs": [
        {
          "output_type": "execute_result",
          "data": {
            "text/plain": [
              "KNeighborsRegressor(n_neighbors=3)"
            ]
          },
          "metadata": {},
          "execution_count": 156
        }
      ]
    },
    {
      "cell_type": "code",
      "source": [
        "# 길이가 50cm인 농어의 무게를 예측\n",
        "print(knr.predict([[50]]))\n",
        "\n",
        "# 무게가 1,033g으로 예측"
      ],
      "metadata": {
        "colab": {
          "base_uri": "https://localhost:8080/"
        },
        "id": "jhr-DtL8TVDL",
        "outputId": "1b1160af-f472-4411-c41b-cedd6bc2b0d4"
      },
      "execution_count": null,
      "outputs": [
        {
          "output_type": "stream",
          "name": "stdout",
          "text": [
            "[1033.33333333]\n"
          ]
        }
      ]
    },
    {
      "cell_type": "code",
      "source": [
        "# 농어의 최근접 이웃을 산점도에 표시\n",
        "import matplotlib.pyplot as plt\n",
        "\n",
        "# 50cm 농어의 이웃을 구합니다. \n",
        "distances, indexes = knr.kneighbors(([[50]]))\n",
        "\n",
        "# 훈련 세트의 산점도를 그립니다.\n",
        "plt.scatter(train_input, train_target)\n",
        "\n",
        "# 훈련 세트 중에서 이웃 샘플만 다시 그립니다.\n",
        "plt.scatter(train_input[indexes], train_target[indexes], marker = 'D')\n",
        "\n",
        "# 50cm 농어 데이터 \n",
        "plt.scatter(50, 1033, marker ='^')\n",
        "plt.xlabel(\"length\")\n",
        "plt.ylabel('weight')\n",
        "plt.show()"
      ],
      "metadata": {
        "colab": {
          "base_uri": "https://localhost:8080/",
          "height": 279
        },
        "id": "a9QY8DBPTunT",
        "outputId": "5778ed41-b7de-4252-f91a-c2fe8cbab74d"
      },
      "execution_count": null,
      "outputs": [
        {
          "output_type": "display_data",
          "data": {
            "text/plain": [
              "<Figure size 432x288 with 1 Axes>"
            ],
            "image/png": "[encoded data removed]"
          },
          "metadata": {
            "needs_background": "light"
          }
        }
      ]
    },
    {
      "cell_type": "code",
      "source": [
        "# 근방 농어들 평균 \n",
        "print(np.mean(train_target[indexes]))"
      ],
      "metadata": {
        "colab": {
          "base_uri": "https://localhost:8080/"
        },
        "id": "vDtJiIuhUlab",
        "outputId": "702dc4c4-5095-40b6-a962-39f902977399"
      },
      "execution_count": null,
      "outputs": [
        {
          "output_type": "stream",
          "name": "stdout",
          "text": [
            "1033.3333333333333\n"
          ]
        }
      ]
    },
    {
      "cell_type": "code",
      "source": [
        "print(knr.predict(([[100]])))"
      ],
      "metadata": {
        "colab": {
          "base_uri": "https://localhost:8080/"
        },
        "id": "k9BILP6tWTp7",
        "outputId": "eb67765d-a7d6-441a-b69e-38859e664c0a"
      },
      "execution_count": null,
      "outputs": [
        {
          "output_type": "stream",
          "name": "stdout",
          "text": [
            "[1033.33333333]\n"
          ]
        }
      ]
    },
    {
      "cell_type": "markdown",
      "source": [
        "## 선형회귀 특성\n",
        "* 특성이 하나인 경우 어떤 직선을 학습하는 알고리즘\n",
        "* sklearn.linear_model 패키지 아래에 LinearRegression 클래스 "
      ],
      "metadata": {
        "id": "AMtZZdhfW7yS"
      }
    },
    {
      "cell_type": "code",
      "source": [
        "from sklearn.linear_model import LinearRegression\n",
        "lr = LinearRegression()\n",
        "\n",
        "# 선형 회귀 모델을 훈련합니다. \n",
        "lr.fit(train_input, train_target)\n",
        "\n",
        "# 50cm 농어에 대해 예측합니다. \n",
        "print(lr.predict([[50]]))"
      ],
      "metadata": {
        "colab": {
          "base_uri": "https://localhost:8080/"
        },
        "id": "dL_2vGUvWf_a",
        "outputId": "2312b677-014b-4861-df46-30b4b01768c0"
      },
      "execution_count": null,
      "outputs": [
        {
          "output_type": "stream",
          "name": "stdout",
          "text": [
            "[1241.83860323]\n"
          ]
        }
      ]
    },
    {
      "cell_type": "code",
      "source": [
        "# a : 기울기, b : y절편  --> coef_, intercept_\n",
        "print(lr.coef_, lr.intercept_)"
      ],
      "metadata": {
        "id": "whWLia4AZvRS",
        "colab": {
          "base_uri": "https://localhost:8080/"
        },
        "outputId": "52b8f7a0-0ef5-4fbc-9a32-d2f82a83fb0c"
      },
      "execution_count": null,
      "outputs": [
        {
          "output_type": "stream",
          "name": "stdout",
          "text": [
            "[39.01714496] -709.0186449535477\n"
          ]
        }
      ]
    },
    {
      "cell_type": "markdown",
      "source": [
        "### 모델 파라미터\n",
        "* coef_ , intercept_  그래프의 기울기와 y절편\n",
        "* 최적의 모델 파라미터를 찾는 것과 같다 >> 모델 기반 학습\n",
        "* k-최근접 이웃에는 모델 파라미터가 없고 사례 기반 학습이라 한다."
      ],
      "metadata": {
        "id": "UDr_wsAgU6G7"
      }
    },
    {
      "cell_type": "code",
      "source": [
        "# 훈련 세트의 산점도 그리기\n",
        "plt.scatter(train_input, train_target)\n",
        "\n",
        "# 15에서 50까지 1차 방정식 그래프를 그립니다. \n",
        "plt.plot([15, 50], [15*lr.coef_ + lr.intercept_, 50*lr.coef_ +lr.intercept_ ])\n",
        "\n",
        "# 50cm 농어 데이터\n",
        "plt.scatter(50, 1241.8, marker = '^')\n",
        "plt.xlabel('length')\n",
        "plt.ylabel('weight')\n",
        "plt.show()"
      ],
      "metadata": {
        "colab": {
          "base_uri": "https://localhost:8080/",
          "height": 279
        },
        "id": "ezlCOp-zUVmf",
        "outputId": "16c3de5f-a503-461a-c222-cf60e2915bd0"
      },
      "execution_count": null,
      "outputs": [
        {
          "output_type": "display_data",
          "data": {
            "text/plain": [
              "<Figure size 432x288 with 1 Axes>"
            ],
            "image/png": "[encoded data removed]"
          },
          "metadata": {
            "needs_background": "light"
          }
        }
      ]
    },
    {
      "cell_type": "code",
      "source": [
        "print(lr.score(train_input, train_target))\n",
        "print(lr.score(test_input, test_target))"
      ],
      "metadata": {
        "colab": {
          "base_uri": "https://localhost:8080/"
        },
        "id": "fMA6TdQhcE80",
        "outputId": "eacf5dd9-522d-4120-aed6-4fe7231d397a"
      },
      "execution_count": null,
      "outputs": [
        {
          "output_type": "stream",
          "name": "stdout",
          "text": [
            "0.939846333997604\n",
            "0.8247503123313558\n"
          ]
        }
      ]
    },
    {
      "cell_type": "markdown",
      "source": [
        "## 다항회귀\n",
        "* 여러 개의 특성을 사용한 선형 회귀\n",
        "* 선형회귀에서는 직선으로 0 밑으로의 값이 생기기 때문에 오류가 발생"
      ],
      "metadata": {
        "id": "_t60vobBPj7e"
      }
    },
    {
      "cell_type": "markdown",
      "source": [
        "### 2차 방정식\n",
        "* y = a * x^2 + b * x + c \n",
        "* 다항식 (polynomial)이라 부르며 다항식을 사용한 선형 회귀를 다항 회귀(poly regression)라 부른다. "
      ],
      "metadata": {
        "id": "KWOy06OAPqEE"
      }
    },
    {
      "cell_type": "code",
      "source": [
        "# column_stack() 함수를 사용하여 제곱 표현 가능 \n",
        "train_poly = np.column_stack((train_input **2, train_input))\n",
        "test_poly = np.column_stack((test_input **2, test_input))"
      ],
      "metadata": {
        "id": "jNqqXjnicXl5"
      },
      "execution_count": null,
      "outputs": []
    },
    {
      "cell_type": "code",
      "source": [
        "print(train_poly.shape, test_poly.shape)"
      ],
      "metadata": {
        "colab": {
          "base_uri": "https://localhost:8080/"
        },
        "id": "K7uHz89ZRsXu",
        "outputId": "da1aaa8d-df74-4ae7-cd17-d3d9e6ac21fc"
      },
      "execution_count": null,
      "outputs": [
        {
          "output_type": "stream",
          "name": "stdout",
          "text": [
            "(42, 2) (14, 2)\n"
          ]
        }
      ]
    },
    {
      "cell_type": "code",
      "source": [
        "# 2차 방정식 그래프를 찾기 위해 훈련 세트에 제곱 항을 추가했지만, 타깃값은 그대로 사용한다는 것\n",
        "# 목표하는 값은 어떤 그래프를 훈련하든지 바꿀 필요가 없다.\n",
        "lr = LinearRegression()\n",
        "lr.fit(train_poly, train_target)\n",
        "\n",
        "print(lr.predict([[50**2,50]])) \n",
        "\n",
        "# fit, predict --> 모델링\n",
        "# score --> 평가"
      ],
      "metadata": {
        "colab": {
          "base_uri": "https://localhost:8080/"
        },
        "id": "YIWfupmpSRcz",
        "outputId": "79f76452-4acd-4059-f553-f7a90a538d98"
      },
      "execution_count": null,
      "outputs": [
        {
          "output_type": "stream",
          "name": "stdout",
          "text": [
            "[1573.98423528]\n"
          ]
        }
      ]
    },
    {
      "cell_type": "code",
      "source": [
        "print(lr.coef_, lr.intercept_)"
      ],
      "metadata": {
        "colab": {
          "base_uri": "https://localhost:8080/"
        },
        "id": "_INpEQ1BTh18",
        "outputId": "fcbf34d0-bffa-4c27-b684-5fad78cc1f35"
      },
      "execution_count": null,
      "outputs": [
        {
          "output_type": "stream",
          "name": "stdout",
          "text": [
            "[  1.01433211 -21.55792498] 116.0502107827827\n"
          ]
        }
      ]
    },
    {
      "cell_type": "code",
      "source": [
        "# 최종결과 \n",
        "# 무게 = 1.01 x 길이**2 - 21.6 x 길이 + 116.05"
      ],
      "metadata": {
        "id": "oRMcCLZGTpmz"
      },
      "execution_count": null,
      "outputs": []
    },
    {
      "cell_type": "code",
      "source": [
        "# 구간별 직선을 그리기 위해 15에서 49까지 정수 배열을 만든다.\n",
        "point =np.arange(15,50)\n",
        "\n",
        "# 훈련 세트의 산점도를 그립니다.\n",
        "plt.scatter(train_input, train_target)\n",
        "\n",
        "# 15에서 49까지 2차 방정식 그래프를 그립니다. \n",
        "plt.plot(point, 1.01 * point**2 - 21.6 * point + 116.05)\n",
        "\n",
        "# 50cm 농어 데이터\n",
        "plt.scatter(50, 1574, marker = '^')\n",
        "plt.xlabel('length')\n",
        "plt.ylabel('weight')\n",
        "plt.show()"
      ],
      "metadata": {
        "colab": {
          "base_uri": "https://localhost:8080/",
          "height": 279
        },
        "id": "WX-AAeEIUnEi",
        "outputId": "94b45ef5-b7c2-4274-8331-e50bfc357329"
      },
      "execution_count": null,
      "outputs": [
        {
          "output_type": "display_data",
          "data": {
            "text/plain": [
              "<Figure size 432x288 with 1 Axes>"
            ],
            "image/png": "[encoded data removed]"
          },
          "metadata": {
            "needs_background": "light"
          }
        }
      ]
    },
    {
      "cell_type": "code",
      "source": [
        "print(lr.score(train_poly, train_target))\n",
        "print(lr.score(test_poly, test_target))"
      ],
      "metadata": {
        "colab": {
          "base_uri": "https://localhost:8080/"
        },
        "id": "wrbDeyeKumGZ",
        "outputId": "20b9fbae-eada-40b5-ab6b-a1a1338f61ec"
      },
      "execution_count": null,
      "outputs": [
        {
          "output_type": "stream",
          "name": "stdout",
          "text": [
            "0.9706807451768623\n",
            "0.9775935108325122\n"
          ]
        }
      ]
    },
    {
      "cell_type": "markdown",
      "source": [
        "# 특성 공학과 규제"
      ],
      "metadata": {
        "id": "oLSgPvF9RZSR"
      }
    },
    {
      "cell_type": "code",
      "source": [
        "# https://raw.githubusercontent.com/rickiepark/hg-mldl/master/perch_full.csv\n",
        "import pandas as pd\n",
        "df = pd.read_csv(\"https://raw.githubusercontent.com/rickiepark/hg-mldl/master/perch_full.csv\")\n",
        "df"
      ],
      "metadata": {
        "colab": {
          "base_uri": "https://localhost:8080/",
          "height": 1000
        },
        "id": "OPQQte4nu-Pw",
        "outputId": "6fdd2d9c-f3db-4e7b-f02d-af103c6142ac"
      },
      "execution_count": null,
      "outputs": [
        {
          "output_type": "execute_result",
          "data": {
            "text/plain": [
              "    length   height   width\n",
              "0      8.4     2.11    1.41\n",
              "1     13.7     3.53    2.00\n",
              "2     15.0     3.82    2.43\n",
              "3     16.2     4.59    2.63\n",
              "4     17.4     4.59    2.94\n",
              "5     18.0     5.22    3.32\n",
              "6     18.7     5.20    3.12\n",
              "7     19.0     5.64    3.05\n",
              "8     19.6     5.14    3.04\n",
              "9     20.0     5.08    2.77\n",
              "10    21.0     5.69    3.56\n",
              "11    21.0     5.92    3.31\n",
              "12    21.0     5.69    3.67\n",
              "13    21.3     6.38    3.53\n",
              "14    22.0     6.11    3.41\n",
              "15    22.0     5.64    3.52\n",
              "16    22.0     6.11    3.52\n",
              "17    22.0     5.88    3.52\n",
              "18    22.0     5.52    4.00\n",
              "19    22.5     5.86    3.62\n",
              "20    22.5     6.79    3.62\n",
              "21    22.7     5.95    3.63\n",
              "22    23.0     5.22    3.63\n",
              "23    23.5     6.28    3.72\n",
              "24    24.0     7.29    3.72\n",
              "25    24.0     6.38    3.82\n",
              "26    24.6     6.73    4.17\n",
              "27    25.0     6.44    3.68\n",
              "28    25.6     6.56    4.24\n",
              "29    26.5     7.17    4.14\n",
              "30    27.3     8.32    5.14\n",
              "31    27.5     7.17    4.34\n",
              "32    27.5     7.05    4.34\n",
              "33    27.5     7.28    4.57\n",
              "34    28.0     7.82    4.20\n",
              "35    28.7     7.59    4.64\n",
              "36    30.0     7.62    4.77\n",
              "37    32.8    10.03    6.02\n",
              "38    34.5    10.26    6.39\n",
              "39    35.0    11.49    7.80\n",
              "40    36.5    10.88    6.86\n",
              "41    36.0    10.61    6.74\n",
              "42    37.0    10.84    6.26\n",
              "43    37.0    10.57    6.37\n",
              "44    39.0    11.14    7.49\n",
              "45    39.0    11.14    6.00\n",
              "46    39.0    12.43    7.35\n",
              "47    40.0    11.93    7.11\n",
              "48    40.0    11.73    7.22\n",
              "49    40.0    12.38    7.46\n",
              "50    40.0    11.14    6.63\n",
              "51    42.0    12.80    6.87\n",
              "52    43.0    11.93    7.28\n",
              "53    43.0    12.51    7.42\n",
              "54    43.5    12.60    8.14\n",
              "55    44.0    12.49    7.60"
            ],
            "text/html": [
              "\n",
              "  <div id=\"df-2ccafc70-5cf9-4d19-839c-a24d118681d7\">\n",
              "    <div class=\"colab-df-container\">\n",
              "      <div>\n",
              "<style scoped>\n",
              "    .dataframe tbody tr th:only-of-type {\n",
              "        vertical-align: middle;\n",
              "    }\n",
              "\n",
              "    .dataframe tbody tr th {\n",
              "        vertical-align: top;\n",
              "    }\n",
              "\n",
              "    .dataframe thead th {\n",
              "        text-align: right;\n",
              "    }\n",
              "</style>\n",
              "<table border=\"1\" class=\"dataframe\">\n",
              "  <thead>\n",
              "    <tr style=\"text-align: right;\">\n",
              "      <th></th>\n",
              "      <th>length</th>\n",
              "      <th>height</th>\n",
              "      <th>width</th>\n",
              "    </tr>\n",
              "  </thead>\n",
              "  <tbody>\n",
              "    <tr>\n",
              "      <th>0</th>\n",
              "      <td>8.4</td>\n",
              "      <td>2.11</td>\n",
              "      <td>1.41</td>\n",
              "    </tr>\n",
              "    <tr>\n",
              "      <th>1</th>\n",
              "      <td>13.7</td>\n",
              "      <td>3.53</td>\n",
              "      <td>2.00</td>\n",
              "    </tr>\n",
              "    <tr>\n",
              "      <th>2</th>\n",
              "      <td>15.0</td>\n",
              "      <td>3.82</td>\n",
              "      <td>2.43</td>\n",
              "    </tr>\n",
              "    <tr>\n",
              "      <th>3</th>\n",
              "      <td>16.2</td>\n",
              "      <td>4.59</td>\n",
              "      <td>2.63</td>\n",
              "    </tr>\n",
              "    <tr>\n",
              "      <th>4</th>\n",
              "      <td>17.4</td>\n",
              "      <td>4.59</td>\n",
              "      <td>2.94</td>\n",
              "    </tr>\n",
              "    <tr>\n",
              "      <th>5</th>\n",
              "      <td>18.0</td>\n",
              "      <td>5.22</td>\n",
              "      <td>3.32</td>\n",
              "    </tr>\n",
              "    <tr>\n",
              "      <th>6</th>\n",
              "      <td>18.7</td>\n",
              "      <td>5.20</td>\n",
              "      <td>3.12</td>\n",
              "    </tr>\n",
              "    <tr>\n",
              "      <th>7</th>\n",
              "      <td>19.0</td>\n",
              "      <td>5.64</td>\n",
              "      <td>3.05</td>\n",
              "    </tr>\n",
              "    <tr>\n",
              "      <th>8</th>\n",
              "      <td>19.6</td>\n",
              "      <td>5.14</td>\n",
              "      <td>3.04</td>\n",
              "    </tr>\n",
              "    <tr>\n",
              "      <th>9</th>\n",
              "      <td>20.0</td>\n",
              "      <td>5.08</td>\n",
              "      <td>2.77</td>\n",
              "    </tr>\n",
              "    <tr>\n",
              "      <th>10</th>\n",
              "      <td>21.0</td>\n",
              "      <td>5.69</td>\n",
              "      <td>3.56</td>\n",
              "    </tr>\n",
              "    <tr>\n",
              "      <th>11</th>\n",
              "      <td>21.0</td>\n",
              "      <td>5.92</td>\n",
              "      <td>3.31</td>\n",
              "    </tr>\n",
              "    <tr>\n",
              "      <th>12</th>\n",
              "      <td>21.0</td>\n",
              "      <td>5.69</td>\n",
              "      <td>3.67</td>\n",
              "    </tr>\n",
              "    <tr>\n",
              "      <th>13</th>\n",
              "      <td>21.3</td>\n",
              "      <td>6.38</td>\n",
              "      <td>3.53</td>\n",
              "    </tr>\n",
              "    <tr>\n",
              "      <th>14</th>\n",
              "      <td>22.0</td>\n",
              "      <td>6.11</td>\n",
              "      <td>3.41</td>\n",
              "    </tr>\n",
              "    <tr>\n",
              "      <th>15</th>\n",
              "      <td>22.0</td>\n",
              "      <td>5.64</td>\n",
              "      <td>3.52</td>\n",
              "    </tr>\n",
              "    <tr>\n",
              "      <th>16</th>\n",
              "      <td>22.0</td>\n",
              "      <td>6.11</td>\n",
              "      <td>3.52</td>\n",
              "    </tr>\n",
              "    <tr>\n",
              "      <th>17</th>\n",
              "      <td>22.0</td>\n",
              "      <td>5.88</td>\n",
              "      <td>3.52</td>\n",
              "    </tr>\n",
              "    <tr>\n",
              "      <th>18</th>\n",
              "      <td>22.0</td>\n",
              "      <td>5.52</td>\n",
              "      <td>4.00</td>\n",
              "    </tr>\n",
              "    <tr>\n",
              "      <th>19</th>\n",
              "      <td>22.5</td>\n",
              "      <td>5.86</td>\n",
              "      <td>3.62</td>\n",
              "    </tr>\n",
              "    <tr>\n",
              "      <th>20</th>\n",
              "      <td>22.5</td>\n",
              "      <td>6.79</td>\n",
              "      <td>3.62</td>\n",
              "    </tr>\n",
              "    <tr>\n",
              "      <th>21</th>\n",
              "      <td>22.7</td>\n",
              "      <td>5.95</td>\n",
              "      <td>3.63</td>\n",
              "    </tr>\n",
              "    <tr>\n",
              "      <th>22</th>\n",
              "      <td>23.0</td>\n",
              "      <td>5.22</td>\n",
              "      <td>3.63</td>\n",
              "    </tr>\n",
              "    <tr>\n",
              "      <th>23</th>\n",
              "      <td>23.5</td>\n",
              "      <td>6.28</td>\n",
              "      <td>3.72</td>\n",
              "    </tr>\n",
              "    <tr>\n",
              "      <th>24</th>\n",
              "      <td>24.0</td>\n",
              "      <td>7.29</td>\n",
              "      <td>3.72</td>\n",
              "    </tr>\n",
              "    <tr>\n",
              "      <th>25</th>\n",
              "      <td>24.0</td>\n",
              "      <td>6.38</td>\n",
              "      <td>3.82</td>\n",
              "    </tr>\n",
              "    <tr>\n",
              "      <th>26</th>\n",
              "      <td>24.6</td>\n",
              "      <td>6.73</td>\n",
              "      <td>4.17</td>\n",
              "    </tr>\n",
              "    <tr>\n",
              "      <th>27</th>\n",
              "      <td>25.0</td>\n",
              "      <td>6.44</td>\n",
              "      <td>3.68</td>\n",
              "    </tr>\n",
              "    <tr>\n",
              "      <th>28</th>\n",
              "      <td>25.6</td>\n",
              "      <td>6.56</td>\n",
              "      <td>4.24</td>\n",
              "    </tr>\n",
              "    <tr>\n",
              "      <th>29</th>\n",
              "      <td>26.5</td>\n",
              "      <td>7.17</td>\n",
              "      <td>4.14</td>\n",
              "    </tr>\n",
              "    <tr>\n",
              "      <th>30</th>\n",
              "      <td>27.3</td>\n",
              "      <td>8.32</td>\n",
              "      <td>5.14</td>\n",
              "    </tr>\n",
              "    <tr>\n",
              "      <th>31</th>\n",
              "      <td>27.5</td>\n",
              "      <td>7.17</td>\n",
              "      <td>4.34</td>\n",
              "    </tr>\n",
              "    <tr>\n",
              "      <th>32</th>\n",
              "      <td>27.5</td>\n",
              "      <td>7.05</td>\n",
              "      <td>4.34</td>\n",
              "    </tr>\n",
              "    <tr>\n",
              "      <th>33</th>\n",
              "      <td>27.5</td>\n",
              "      <td>7.28</td>\n",
              "      <td>4.57</td>\n",
              "    </tr>\n",
              "    <tr>\n",
              "      <th>34</th>\n",
              "      <td>28.0</td>\n",
              "      <td>7.82</td>\n",
              "      <td>4.20</td>\n",
              "    </tr>\n",
              "    <tr>\n",
              "      <th>35</th>\n",
              "      <td>28.7</td>\n",
              "      <td>7.59</td>\n",
              "      <td>4.64</td>\n",
              "    </tr>\n",
              "    <tr>\n",
              "      <th>36</th>\n",
              "      <td>30.0</td>\n",
              "      <td>7.62</td>\n",
              "      <td>4.77</td>\n",
              "    </tr>\n",
              "    <tr>\n",
              "      <th>37</th>\n",
              "      <td>32.8</td>\n",
              "      <td>10.03</td>\n",
              "      <td>6.02</td>\n",
              "    </tr>\n",
              "    <tr>\n",
              "      <th>38</th>\n",
              "      <td>34.5</td>\n",
              "      <td>10.26</td>\n",
              "      <td>6.39</td>\n",
              "    </tr>\n",
              "    <tr>\n",
              "      <th>39</th>\n",
              "      <td>35.0</td>\n",
              "      <td>11.49</td>\n",
              "      <td>7.80</td>\n",
              "    </tr>\n",
              "    <tr>\n",
              "      <th>40</th>\n",
              "      <td>36.5</td>\n",
              "      <td>10.88</td>\n",
              "      <td>6.86</td>\n",
              "    </tr>\n",
              "    <tr>\n",
              "      <th>41</th>\n",
              "      <td>36.0</td>\n",
              "      <td>10.61</td>\n",
              "      <td>6.74</td>\n",
              "    </tr>\n",
              "    <tr>\n",
              "      <th>42</th>\n",
              "      <td>37.0</td>\n",
              "      <td>10.84</td>\n",
              "      <td>6.26</td>\n",
              "    </tr>\n",
              "    <tr>\n",
              "      <th>43</th>\n",
              "      <td>37.0</td>\n",
              "      <td>10.57</td>\n",
              "      <td>6.37</td>\n",
              "    </tr>\n",
              "    <tr>\n",
              "      <th>44</th>\n",
              "      <td>39.0</td>\n",
              "      <td>11.14</td>\n",
              "      <td>7.49</td>\n",
              "    </tr>\n",
              "    <tr>\n",
              "      <th>45</th>\n",
              "      <td>39.0</td>\n",
              "      <td>11.14</td>\n",
              "      <td>6.00</td>\n",
              "    </tr>\n",
              "    <tr>\n",
              "      <th>46</th>\n",
              "      <td>39.0</td>\n",
              "      <td>12.43</td>\n",
              "      <td>7.35</td>\n",
              "    </tr>\n",
              "    <tr>\n",
              "      <th>47</th>\n",
              "      <td>40.0</td>\n",
              "      <td>11.93</td>\n",
              "      <td>7.11</td>\n",
              "    </tr>\n",
              "    <tr>\n",
              "      <th>48</th>\n",
              "      <td>40.0</td>\n",
              "      <td>11.73</td>\n",
              "      <td>7.22</td>\n",
              "    </tr>\n",
              "    <tr>\n",
              "      <th>49</th>\n",
              "      <td>40.0</td>\n",
              "      <td>12.38</td>\n",
              "      <td>7.46</td>\n",
              "    </tr>\n",
              "    <tr>\n",
              "      <th>50</th>\n",
              "      <td>40.0</td>\n",
              "      <td>11.14</td>\n",
              "      <td>6.63</td>\n",
              "    </tr>\n",
              "    <tr>\n",
              "      <th>51</th>\n",
              "      <td>42.0</td>\n",
              "      <td>12.80</td>\n",
              "      <td>6.87</td>\n",
              "    </tr>\n",
              "    <tr>\n",
              "      <th>52</th>\n",
              "      <td>43.0</td>\n",
              "      <td>11.93</td>\n",
              "      <td>7.28</td>\n",
              "    </tr>\n",
              "    <tr>\n",
              "      <th>53</th>\n",
              "      <td>43.0</td>\n",
              "      <td>12.51</td>\n",
              "      <td>7.42</td>\n",
              "    </tr>\n",
              "    <tr>\n",
              "      <th>54</th>\n",
              "      <td>43.5</td>\n",
              "      <td>12.60</td>\n",
              "      <td>8.14</td>\n",
              "    </tr>\n",
              "    <tr>\n",
              "      <th>55</th>\n",
              "      <td>44.0</td>\n",
              "      <td>12.49</td>\n",
              "      <td>7.60</td>\n",
              "    </tr>\n",
              "  </tbody>\n",
              "</table>\n",
              "</div>\n",
              "      <button class=\"colab-df-convert\" onclick=\"convertToInteractive('df-2ccafc70-5cf9-4d19-839c-a24d118681d7')\"\n",
              "              title=\"Convert this dataframe to an interactive table.\"\n",
              "              style=\"display:none;\">\n",
              "        \n",
              "  <svg xmlns=\"http://www.w3.org/2000/svg\" height=\"24px\"viewBox=\"0 0 24 24\"\n",
              "       width=\"24px\">\n",
              "    <path d=\"M0 0h24v24H0V0z\" fill=\"none\"/>\n",
              "    <path d=\"M18.56 5.44l.94 2.06.94-2.06 2.06-.94-2.06-.94-.94-2.06-.94 2.06-2.06.94zm-11 1L8.5 8.5l.94-2.06 2.06-.94-2.06-.94L8.5 2.5l-.94 2.06-2.06.94zm10 10l.94 2.06.94-2.06 2.06-.94-2.06-.94-.94-2.06-.94 2.06-2.06.94z\"/><path d=\"M17.41 7.96l-1.37-1.37c-.4-.4-.92-.59-1.43-.59-.52 0-1.04.2-1.43.59L10.3 9.45l-7.72 7.72c-.78.78-.78 2.05 0 2.83L4 21.41c.39.39.9.59 1.41.59.51 0 1.02-.2 1.41-.59l7.78-7.78 2.81-2.81c.8-.78.8-2.07 0-2.86zM5.41 20L4 18.59l7.72-7.72 1.47 1.35L5.41 20z\"/>\n",
              "  </svg>\n",
              "      </button>\n",
              "      \n",
              "  <style>\n",
              "    .colab-df-container {\n",
              "      display:flex;\n",
              "      flex-wrap:wrap;\n",
              "      gap: 12px;\n",
              "    }\n",
              "\n",
              "    .colab-df-convert {\n",
              "      background-color: #E8F0FE;\n",
              "      border: none;\n",
              "      border-radius: 50%;\n",
              "      cursor: pointer;\n",
              "      display: none;\n",
              "      fill: #1967D2;\n",
              "      height: 32px;\n",
              "      padding: 0 0 0 0;\n",
              "      width: 32px;\n",
              "    }\n",
              "\n",
              "    .colab-df-convert:hover {\n",
              "      background-color: #E2EBFA;\n",
              "      box-shadow: 0px 1px 2px rgba(60, 64, 67, 0.3), 0px 1px 3px 1px rgba(60, 64, 67, 0.15);\n",
              "      fill: #174EA6;\n",
              "    }\n",
              "\n",
              "    [theme=dark] .colab-df-convert {\n",
              "      background-color: #3B4455;\n",
              "      fill: #D2E3FC;\n",
              "    }\n",
              "\n",
              "    [theme=dark] .colab-df-convert:hover {\n",
              "      background-color: #434B5C;\n",
              "      box-shadow: 0px 1px 3px 1px rgba(0, 0, 0, 0.15);\n",
              "      filter: drop-shadow(0px 1px 2px rgba(0, 0, 0, 0.3));\n",
              "      fill: #FFFFFF;\n",
              "    }\n",
              "  </style>\n",
              "\n",
              "      <script>\n",
              "        const buttonEl =\n",
              "          document.querySelector('#df-2ccafc70-5cf9-4d19-839c-a24d118681d7 button.colab-df-convert');\n",
              "        buttonEl.style.display =\n",
              "          google.colab.kernel.accessAllowed ? 'block' : 'none';\n",
              "\n",
              "        async function convertToInteractive(key) {\n",
              "          const element = document.querySelector('#df-2ccafc70-5cf9-4d19-839c-a24d118681d7');\n",
              "          const dataTable =\n",
              "            await google.colab.kernel.invokeFunction('convertToInteractive',\n",
              "                                                     [key], {});\n",
              "          if (!dataTable) return;\n",
              "\n",
              "          const docLinkHtml = 'Like what you see? Visit the ' +\n",
              "            '<a target=\"_blank\" href=https://colab.research.google.com/notebooks/data_table.ipynb>data table notebook</a>'\n",
              "            + ' to learn more about interactive tables.';\n",
              "          element.innerHTML = '';\n",
              "          dataTable['output_type'] = 'display_data';\n",
              "          await google.colab.output.renderOutput(dataTable, element);\n",
              "          const docLink = document.createElement('div');\n",
              "          docLink.innerHTML = docLinkHtml;\n",
              "          element.appendChild(docLink);\n",
              "        }\n",
              "      </script>\n",
              "    </div>\n",
              "  </div>\n",
              "  "
            ]
          },
          "metadata": {},
          "execution_count": 172
        }
      ]
    },
    {
      "cell_type": "code",
      "source": [
        "perch_full = df.to_numpy() # to_numpy() 넘파이 배열로 바꾸는 메소드 \n",
        "print(perch_full)"
      ],
      "metadata": {
        "colab": {
          "base_uri": "https://localhost:8080/"
        },
        "id": "y-Vqp-7jS4Ca",
        "outputId": "c61bcbbf-6e22-4fb5-b5c2-1edd1cf184a7"
      },
      "execution_count": null,
      "outputs": [
        {
          "output_type": "stream",
          "name": "stdout",
          "text": [
            "[[ 8.4   2.11  1.41]\n",
            " [13.7   3.53  2.  ]\n",
            " [15.    3.82  2.43]\n",
            " [16.2   4.59  2.63]\n",
            " [17.4   4.59  2.94]\n",
            " [18.    5.22  3.32]\n",
            " [18.7   5.2   3.12]\n",
            " [19.    5.64  3.05]\n",
            " [19.6   5.14  3.04]\n",
            " [20.    5.08  2.77]\n",
            " [21.    5.69  3.56]\n",
            " [21.    5.92  3.31]\n",
            " [21.    5.69  3.67]\n",
            " [21.3   6.38  3.53]\n",
            " [22.    6.11  3.41]\n",
            " [22.    5.64  3.52]\n",
            " [22.    6.11  3.52]\n",
            " [22.    5.88  3.52]\n",
            " [22.    5.52  4.  ]\n",
            " [22.5   5.86  3.62]\n",
            " [22.5   6.79  3.62]\n",
            " [22.7   5.95  3.63]\n",
            " [23.    5.22  3.63]\n",
            " [23.5   6.28  3.72]\n",
            " [24.    7.29  3.72]\n",
            " [24.    6.38  3.82]\n",
            " [24.6   6.73  4.17]\n",
            " [25.    6.44  3.68]\n",
            " [25.6   6.56  4.24]\n",
            " [26.5   7.17  4.14]\n",
            " [27.3   8.32  5.14]\n",
            " [27.5   7.17  4.34]\n",
            " [27.5   7.05  4.34]\n",
            " [27.5   7.28  4.57]\n",
            " [28.    7.82  4.2 ]\n",
            " [28.7   7.59  4.64]\n",
            " [30.    7.62  4.77]\n",
            " [32.8  10.03  6.02]\n",
            " [34.5  10.26  6.39]\n",
            " [35.   11.49  7.8 ]\n",
            " [36.5  10.88  6.86]\n",
            " [36.   10.61  6.74]\n",
            " [37.   10.84  6.26]\n",
            " [37.   10.57  6.37]\n",
            " [39.   11.14  7.49]\n",
            " [39.   11.14  6.  ]\n",
            " [39.   12.43  7.35]\n",
            " [40.   11.93  7.11]\n",
            " [40.   11.73  7.22]\n",
            " [40.   12.38  7.46]\n",
            " [40.   11.14  6.63]\n",
            " [42.   12.8   6.87]\n",
            " [43.   11.93  7.28]\n",
            " [43.   12.51  7.42]\n",
            " [43.5  12.6   8.14]\n",
            " [44.   12.49  7.6 ]]\n"
          ]
        }
      ]
    },
    {
      "cell_type": "code",
      "source": [
        "import numpy as np\n",
        "\n",
        "perch_weight = np.array([5.9, 32.0, 40.0, 51.5, 70.0, 100.0, 78.0, 80.0, 85.0, 85.0, 110.0,\n",
        "       115.0, 125.0, 130.0, 120.0, 120.0, 130.0, 135.0, 110.0, 130.0,\n",
        "       150.0, 145.0, 150.0, 170.0, 225.0, 145.0, 188.0, 180.0, 197.0,\n",
        "       218.0, 300.0, 260.0, 265.0, 250.0, 250.0, 300.0, 320.0, 514.0,\n",
        "       556.0, 840.0, 685.0, 700.0, 700.0, 690.0, 900.0, 650.0, 820.0,\n",
        "       850.0, 900.0, 1015.0, 820.0, 1100.0, 1000.0, 1100.0, 1000.0,\n",
        "       1000.0])"
      ],
      "metadata": {
        "id": "XJpV65B5U4co"
      },
      "execution_count": null,
      "outputs": []
    },
    {
      "cell_type": "code",
      "source": [
        "# perch_full과 perch_weight를 훈련 세트와 테스트 세트로 나눕니다. \n",
        "from sklearn.model_selection import train_test_split\n",
        "train_input, test_input, train_target, test_target = train_test_split(perch_full, perch_weight, random_state =42)"
      ],
      "metadata": {
        "id": "n4VDlBqVVYkQ"
      },
      "execution_count": null,
      "outputs": []
    },
    {
      "cell_type": "markdown",
      "source": [
        "## 사이킷런의 변환기 (transformer)\n",
        "* 특성을 만들거나 전처리하기 위한 다양한 클래스를 제공\n",
        "* 이러한 클래스를 변환기라고 부른다 \n",
        "* 사이킷런의 모델 클래스에 일괄된 fit(), score(), predict()처럼 변환기 클래스는 fit(), transform() 메서드를 제공한다.\n",
        "* LinearRegression 같은 사이킷런의 모델 클래스는 추정기(estimatoer)라고 부른다. "
      ],
      "metadata": {
        "id": "oxWCKpT9Y2qY"
      }
    },
    {
      "cell_type": "code",
      "source": [
        "# PolynomialFetures 클래스 사용 \n",
        "from sklearn.preprocessing import PolynomialFeatures"
      ],
      "metadata": {
        "id": "aICBWeWIYqWq"
      },
      "execution_count": null,
      "outputs": []
    },
    {
      "cell_type": "code",
      "source": [
        "poly = PolynomialFeatures()\n",
        "poly.fit([[2,3]])\n",
        "print(poly.transform([[2,3]]))"
      ],
      "metadata": {
        "colab": {
          "base_uri": "https://localhost:8080/"
        },
        "id": "7dQPVwMtaUgA",
        "outputId": "49284e9e-691c-4c94-ddae-eb3104a614da"
      },
      "execution_count": null,
      "outputs": [
        {
          "output_type": "stream",
          "name": "stdout",
          "text": [
            "[[1. 2. 3. 4. 6. 9.]]\n"
          ]
        }
      ]
    },
    {
      "cell_type": "markdown",
      "source": [
        "### PolynomialFeatures \n",
        "* 기본적으로 각 특성을 제곱한 항을 추가하고 특성끼리 서로 곱한 항을 추가한다. "
      ],
      "metadata": {
        "id": "d3hTDesGbVrC"
      }
    },
    {
      "cell_type": "code",
      "source": [
        "poly = PolynomialFeatures(include_bias =False)\n",
        "poly.fit([[2,3]])\n",
        "print(poly.transform([[2,3]]))"
      ],
      "metadata": {
        "colab": {
          "base_uri": "https://localhost:8080/"
        },
        "id": "ZBsvW8hFan2e",
        "outputId": "59d419e1-9b57-4095-f91d-ea23aa720a7b"
      },
      "execution_count": null,
      "outputs": [
        {
          "output_type": "stream",
          "name": "stdout",
          "text": [
            "[[2. 3. 4. 6. 9.]]\n"
          ]
        }
      ]
    },
    {
      "cell_type": "code",
      "source": [
        "poly = PolynomialFeatures(include_bias =False)\n",
        "poly.fit(train_input)\n",
        "train_poly = poly.transform(train_input)\n",
        "print(train_poly.shape)"
      ],
      "metadata": {
        "colab": {
          "base_uri": "https://localhost:8080/"
        },
        "id": "p-mzpxOlbplY",
        "outputId": "010794eb-1d38-4bc4-cc7b-c7eb90c50138"
      },
      "execution_count": null,
      "outputs": [
        {
          "output_type": "stream",
          "name": "stdout",
          "text": [
            "(42, 9)\n"
          ]
        }
      ]
    },
    {
      "cell_type": "code",
      "source": [
        "# 9개의 특성이 어떻게 만들어졌는지 확인\n",
        "poly.get_feature_names_out()"
      ],
      "metadata": {
        "colab": {
          "base_uri": "https://localhost:8080/"
        },
        "id": "NcHN882JcINS",
        "outputId": "3b6add5c-3c1a-48d4-f5ff-8588b303493d"
      },
      "execution_count": null,
      "outputs": [
        {
          "output_type": "execute_result",
          "data": {
            "text/plain": [
              "array(['x0', 'x1', 'x2', 'x0^2', 'x0 x1', 'x0 x2', 'x1^2', 'x1 x2',\n",
              "       'x2^2'], dtype=object)"
            ]
          },
          "metadata": {},
          "execution_count": 180
        }
      ]
    },
    {
      "cell_type": "code",
      "source": [
        "test_poly = poly.transform(test_input)"
      ],
      "metadata": {
        "id": "1NZ6cX3Yd6XR"
      },
      "execution_count": null,
      "outputs": []
    },
    {
      "cell_type": "markdown",
      "source": [
        "### 다중회귀 모델 훈련하기"
      ],
      "metadata": {
        "id": "SqWuba_Nepi4"
      }
    },
    {
      "cell_type": "code",
      "source": [
        "from sklearn.linear_model import LinearRegression\n",
        "lr = LinearRegression()\n",
        "lr.fit(train_poly, train_target)\n",
        "print(lr.score(train_poly, train_target))"
      ],
      "metadata": {
        "colab": {
          "base_uri": "https://localhost:8080/"
        },
        "id": "8U1F5XTCeT5Q",
        "outputId": "57bf8ab9-d746-4abe-b173-515d9031c6dc"
      },
      "execution_count": null,
      "outputs": [
        {
          "output_type": "stream",
          "name": "stdout",
          "text": [
            "0.9903183436982124\n"
          ]
        }
      ]
    },
    {
      "cell_type": "code",
      "source": [
        "print(lr.score(test_poly, test_target))"
      ],
      "metadata": {
        "colab": {
          "base_uri": "https://localhost:8080/"
        },
        "id": "tdN7aLE_fFO4",
        "outputId": "f3dc01d7-3dcb-4caf-d9b8-35fbe7e7697a"
      },
      "execution_count": null,
      "outputs": [
        {
          "output_type": "stream",
          "name": "stdout",
          "text": [
            "0.9714559911594134\n"
          ]
        }
      ]
    },
    {
      "cell_type": "markdown",
      "source": [
        "## 규제 (regularization)\n",
        "* 머신러닝 모델이 훈련 세트를 너무 과도하게 학습하지 못하도록 훼방하는 것을 말한다. \n",
        "* 즉 모델이 훈련 세트에 과대적합되지 않도록 만드는 것\n",
        "* 선형 회귀 모델의 경우 기울기의 크기를 작게 만드는 일  \n"
      ],
      "metadata": {
        "id": "AKozrqKRf9Rg"
      }
    },
    {
      "cell_type": "markdown",
      "source": [
        "### StandardScaler"
      ],
      "metadata": {
        "id": "SbLcOOCIgeoQ"
      }
    },
    {
      "cell_type": "code",
      "source": [
        "from sklearn.preprocessing import StandardScaler\n",
        "ss = StandardScaler()\n",
        "ss.fit(train_poly)\n",
        "train_scaled = ss.transform(train_poly)\n",
        "test_scaled = ss.transform(test_poly)"
      ],
      "metadata": {
        "id": "v9ia3vW_fYGe"
      },
      "execution_count": null,
      "outputs": []
    },
    {
      "cell_type": "markdown",
      "source": [
        "### 릿지와 라쏘\n",
        "* 선형 회귀 모델에 규제를 추가한 모델을 릿지와 라쏘라고 부른다.\n",
        "* 릿지는 계수를 제곱한 값을 기준으로 규제 적용\n",
        "* 라쏘는 계수의 절댓값을 기준으로 규제를 적용"
      ],
      "metadata": {
        "id": "236IulS_iK8o"
      }
    },
    {
      "cell_type": "markdown",
      "source": [
        "### 릿지 회귀"
      ],
      "metadata": {
        "id": "k-kSKRvviZd_"
      }
    },
    {
      "cell_type": "code",
      "source": [
        "from sklearn.linear_model import Ridge\n",
        "ridge = Ridge()\n",
        "ridge.fit(train_scaled, train_target)\n",
        "print(ridge.score(train_scaled, train_target))"
      ],
      "metadata": {
        "colab": {
          "base_uri": "https://localhost:8080/"
        },
        "id": "hBUHqkUdg_jv",
        "outputId": "97494997-72ea-4e50-d521-f6e0c1e0d5e6"
      },
      "execution_count": null,
      "outputs": [
        {
          "output_type": "stream",
          "name": "stdout",
          "text": [
            "0.9857915060511934\n"
          ]
        }
      ]
    },
    {
      "cell_type": "code",
      "source": [
        "print(ridge.score(test_scaled, test_target))"
      ],
      "metadata": {
        "colab": {
          "base_uri": "https://localhost:8080/"
        },
        "id": "8jQ7tol9jcUg",
        "outputId": "ebc3f940-53dc-43fe-ee32-0172b2db5961"
      },
      "execution_count": null,
      "outputs": [
        {
          "output_type": "stream",
          "name": "stdout",
          "text": [
            "0.9835057194929057\n"
          ]
        }
      ]
    },
    {
      "cell_type": "markdown",
      "source": [
        "## 하이퍼파라미터\n",
        "* 머신러닝 모델이 학습할 수 없고 사람이 알려줘야 하는 파라미터를 하이퍼파라미터라고 부른다.\n",
        "* 클래스와 메서드의 매개변수로 표현됨\n",
        "* 함수와 클래스의 파라미터는 매개변수"
      ],
      "metadata": {
        "id": "-0VBycLvj5NZ"
      }
    },
    {
      "cell_type": "code",
      "source": [],
      "metadata": {
        "id": "8cDRUFUhjl2v"
      },
      "execution_count": null,
      "outputs": []
    }
  ]
}